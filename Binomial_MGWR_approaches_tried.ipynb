{
 "cells": [
  {
   "cell_type": "markdown",
   "metadata": {},
   "source": [
    "https://github.com/pysal/mgwr/pull/56"
   ]
  },
  {
   "cell_type": "code",
   "execution_count": 3,
   "metadata": {},
   "outputs": [],
   "source": [
    "import sys\n",
    "sys.path.append(\"C:/Users/msachde1/Downloads/Research/Development/mgwr\")"
   ]
  },
  {
   "cell_type": "code",
   "execution_count": 4,
   "metadata": {},
   "outputs": [],
   "source": [
    "import warnings\n",
    "warnings.filterwarnings(\"ignore\")\n",
    "import pandas as pd\n",
    "import numpy as np\n",
    "\n",
    "from mgwr.gwr import GWR\n",
    "from spglm.family import Gaussian, Binomial, Poisson\n",
    "from mgwr.gwr import MGWR\n",
    "from mgwr.sel_bw import Sel_BW\n",
    "import multiprocessing as mp\n",
    "pool = mp.Pool()\n",
    "from scipy import linalg\n",
    "import numpy.linalg as la\n",
    "from scipy import sparse as sp\n",
    "from scipy.sparse import linalg as spla\n",
    "from spreg.utils import spdot, spmultiply\n",
    "from scipy import special\n",
    "import libpysal as ps\n",
    "import seaborn as sns\n",
    "import matplotlib.pyplot as plt\n",
    "from copy import deepcopy\n",
    "import copy\n",
    "from collections import namedtuple\n",
    "import spglm"
   ]
  },
  {
   "cell_type": "markdown",
   "metadata": {},
   "source": [
    "#### Fundamental equation"
   ]
  },
  {
   "cell_type": "markdown",
   "metadata": {},
   "source": [
    "By simple algebraic manipulation, the probability that Y=1 is:"
   ]
  },
  {
   "cell_type": "markdown",
   "metadata": {},
   "source": [
    "\\begin{align}\n",
    "p = 1 / (1 + exp (-{\\beta} & _k x _{k,i})  )            \\\\\n",
    "\\end{align}"
   ]
  },
  {
   "cell_type": "markdown",
   "metadata": {},
   "source": [
    "### Approaches tried:\n",
    "\n",
    "1. Changing XB to : `1 / (1 + np.exp (-1*np.sum(np.multiply(X,params),axis=1)))` - these are the predicted probabilities ~(0,1)\n",
    "\n",
    "\n",
    "2. Changing XB as above and writing a function to create temp_y as a binary variable using condition `1 if BXi > 0 else 0.`\n",
    "\n",
    "\n",
    "3. Derived manipulations to temp_y as in iwls for Logistic regression as below:\n",
    "\n",
    "    `v = np.sum(np.multiply(X,params),axis=1)`\n",
    "    \n",
    "    `mu = 1/(1+(np.exp(-v)))`\n",
    "    \n",
    "    `z = v + (1/(mu * (1-mu)) * (y-mu))`  -- this becomes the temp_y\n",
    "    \n",
    "    Then a simple linear regression can be run as z as the temp dependent variable\n",
    "    \n",
    "    \n",
    "4. Taken from GAM logistic model literature:\n",
    "   \n",
    "    `y=exp(b0+b1*x1+...+bm*xm)/{1+exp(b0+b1*x1+...+bm*xm)}`\n",
    "\n",
    "    Applying the logistic link function to the probability p (ranging between 0  and 1):\n",
    "\n",
    "    `p' = log {p/(1-p)}`\n",
    "\n",
    "    By applying the logistic link function, we can now rewrite the model as:\n",
    "\n",
    "    `p' = b0 + b1*X1  + ... + bm*Xm`\n",
    "\n",
    "    Finally, we substitute the simple single-parameter additive terms to derive the generalized additive logistic model:\n",
    "\n",
    "    `p' = b0 + f1(X1) + ... + fm(Xm)`\n",
    "    \n",
    "    (http://www.statsoft.com/textbook/generalized-additive-models#gam)\n",
    "    \n",
    "    This is the current approach in the latest commit:\n",
    "    \n",
    "    `XB = 1 / (1 + np.exp (-1*(np.multiply(X,params))))`\n",
    "    \n",
    "    XB is now the probability and is normally distributed\n",
    "    \n",
    "    Run MGWR (Gaussian) on this as the dependent variable for the partial models.\n",
    "    "
   ]
  },
  {
   "cell_type": "markdown",
   "metadata": {},
   "source": [
    "### Data"
   ]
  },
  {
   "cell_type": "markdown",
   "metadata": {},
   "source": [
    "#### Clearwater data - downloaded from link: https://sgsup.asu.edu/sparc/multiscale-gwr"
   ]
  },
  {
   "cell_type": "code",
   "execution_count": 5,
   "metadata": {
    "scrolled": true
   },
   "outputs": [],
   "source": [
    "data_p = pd.read_csv(\"C:/Users/msachde1/Downloads/logistic_mgwr_data/landslides.csv\") "
   ]
  },
  {
   "cell_type": "code",
   "execution_count": 6,
   "metadata": {},
   "outputs": [
    {
     "data": {
      "text/html": [
       "<div>\n",
       "<style scoped>\n",
       "    .dataframe tbody tr th:only-of-type {\n",
       "        vertical-align: middle;\n",
       "    }\n",
       "\n",
       "    .dataframe tbody tr th {\n",
       "        vertical-align: top;\n",
       "    }\n",
       "\n",
       "    .dataframe thead th {\n",
       "        text-align: right;\n",
       "    }\n",
       "</style>\n",
       "<table border=\"1\" class=\"dataframe\">\n",
       "  <thead>\n",
       "    <tr style=\"text-align: right;\">\n",
       "      <th></th>\n",
       "      <th>UserID</th>\n",
       "      <th>X</th>\n",
       "      <th>Y</th>\n",
       "      <th>Elev</th>\n",
       "      <th>Slope</th>\n",
       "      <th>SinAspct</th>\n",
       "      <th>CosAspct</th>\n",
       "      <th>AbsSouth</th>\n",
       "      <th>Landslid</th>\n",
       "      <th>DistStrm</th>\n",
       "    </tr>\n",
       "  </thead>\n",
       "  <tbody>\n",
       "    <tr>\n",
       "      <th>0</th>\n",
       "      <td>1</td>\n",
       "      <td>616168.5625</td>\n",
       "      <td>5201076.5</td>\n",
       "      <td>1450.475</td>\n",
       "      <td>27.44172</td>\n",
       "      <td>0.409126</td>\n",
       "      <td>-0.912478</td>\n",
       "      <td>24.1499</td>\n",
       "      <td>1</td>\n",
       "      <td>8.506</td>\n",
       "    </tr>\n",
       "    <tr>\n",
       "      <th>1</th>\n",
       "      <td>2</td>\n",
       "      <td>624923.8125</td>\n",
       "      <td>5201008.5</td>\n",
       "      <td>1567.476</td>\n",
       "      <td>21.88343</td>\n",
       "      <td>-0.919245</td>\n",
       "      <td>-0.393685</td>\n",
       "      <td>66.8160</td>\n",
       "      <td>1</td>\n",
       "      <td>15.561</td>\n",
       "    </tr>\n",
       "    <tr>\n",
       "      <th>2</th>\n",
       "      <td>3</td>\n",
       "      <td>615672.0000</td>\n",
       "      <td>5199187.5</td>\n",
       "      <td>1515.065</td>\n",
       "      <td>38.81030</td>\n",
       "      <td>-0.535024</td>\n",
       "      <td>-0.844837</td>\n",
       "      <td>32.3455</td>\n",
       "      <td>1</td>\n",
       "      <td>41.238</td>\n",
       "    </tr>\n",
       "    <tr>\n",
       "      <th>3</th>\n",
       "      <td>4</td>\n",
       "      <td>615209.3125</td>\n",
       "      <td>5199112.0</td>\n",
       "      <td>1459.827</td>\n",
       "      <td>26.71631</td>\n",
       "      <td>-0.828548</td>\n",
       "      <td>-0.559918</td>\n",
       "      <td>55.9499</td>\n",
       "      <td>1</td>\n",
       "      <td>17.539</td>\n",
       "    </tr>\n",
       "    <tr>\n",
       "      <th>4</th>\n",
       "      <td>5</td>\n",
       "      <td>616354.6875</td>\n",
       "      <td>5198945.5</td>\n",
       "      <td>1379.442</td>\n",
       "      <td>27.55271</td>\n",
       "      <td>-0.872281</td>\n",
       "      <td>-0.489005</td>\n",
       "      <td>60.7248</td>\n",
       "      <td>1</td>\n",
       "      <td>35.023</td>\n",
       "    </tr>\n",
       "  </tbody>\n",
       "</table>\n",
       "</div>"
      ],
      "text/plain": [
       "   UserID            X          Y      Elev     Slope  SinAspct  CosAspct  \\\n",
       "0       1  616168.5625  5201076.5  1450.475  27.44172  0.409126 -0.912478   \n",
       "1       2  624923.8125  5201008.5  1567.476  21.88343 -0.919245 -0.393685   \n",
       "2       3  615672.0000  5199187.5  1515.065  38.81030 -0.535024 -0.844837   \n",
       "3       4  615209.3125  5199112.0  1459.827  26.71631 -0.828548 -0.559918   \n",
       "4       5  616354.6875  5198945.5  1379.442  27.55271 -0.872281 -0.489005   \n",
       "\n",
       "   AbsSouth  Landslid  DistStrm  \n",
       "0   24.1499         1     8.506  \n",
       "1   66.8160         1    15.561  \n",
       "2   32.3455         1    41.238  \n",
       "3   55.9499         1    17.539  \n",
       "4   60.7248         1    35.023  "
      ]
     },
     "execution_count": 6,
     "metadata": {},
     "output_type": "execute_result"
    }
   ],
   "source": [
    "data_p.head()"
   ]
  },
  {
   "cell_type": "markdown",
   "metadata": {},
   "source": [
    "#### Helper functions - hardcoded here for simplicity in the notebook workflow\n",
    "Please note: A separate bw_func_b will not be required when changes will be made in the repository"
   ]
  },
  {
   "cell_type": "code",
   "execution_count": 7,
   "metadata": {},
   "outputs": [],
   "source": [
    "kernel='bisquare'\n",
    "fixed=False\n",
    "spherical=False\n",
    "search_method='golden_section'\n",
    "criterion='AICc'\n",
    "interval=None\n",
    "tol=1e-06\n",
    "max_iter=500\n",
    "X_glob=[]"
   ]
  },
  {
   "cell_type": "code",
   "execution_count": 8,
   "metadata": {},
   "outputs": [],
   "source": [
    "def gwr_func(y, X, bw,family=Gaussian(),offset=None):\n",
    "    return GWR(coords, y, X, bw, family,offset,kernel=kernel,\n",
    "               fixed=fixed, constant=False,\n",
    "               spherical=spherical, hat_matrix=False).fit(\n",
    "                   lite=True, pool=pool)\n",
    "\n",
    "def gwr_func_g(y, X, bw):\n",
    "    return GWR(coords, y, X, bw, family=Gaussian(),offset=None,kernel=kernel,\n",
    "               fixed=fixed, constant=False,\n",
    "               spherical=spherical, hat_matrix=False).fit(\n",
    "                   lite=True, pool=pool)\n",
    "\n",
    "\n",
    "def bw_func_b(coords,y, X):\n",
    "    selector = Sel_BW(coords,y, X,family=Binomial(),offset=None, X_glob=[],\n",
    "                      kernel=kernel, fixed=fixed,\n",
    "                      constant=False, spherical=spherical)\n",
    "    return selector\n",
    "\n",
    "def bw_func_p(coords,y, X):\n",
    "    selector = Sel_BW(coords,y, X,family=Poisson(),offset=off, X_glob=[],\n",
    "                      kernel=kernel, fixed=fixed,\n",
    "                      constant=False, spherical=spherical)\n",
    "    return selector\n",
    "\n",
    "def bw_func(coords,y,X):\n",
    "    selector = Sel_BW(coords,y,X,X_glob=[],\n",
    "                      kernel=kernel, fixed=fixed,\n",
    "                      constant=False, spherical=spherical)\n",
    "    return selector\n",
    "\n",
    "def sel_func(bw_func, bw_min=None, bw_max=None):\n",
    "    return bw_func.search(\n",
    "        search_method=search_method, criterion=criterion,\n",
    "        bw_min=bw_min, bw_max=bw_max, interval=interval, tol=tol,\n",
    "        max_iter=max_iter, pool=pool, verbose=False)"
   ]
  },
  {
   "cell_type": "markdown",
   "metadata": {},
   "source": [
    "### GWR Binomial model with independent variable, x = slope"
   ]
  },
  {
   "cell_type": "code",
   "execution_count": 9,
   "metadata": {},
   "outputs": [],
   "source": [
    "coords = list(zip(data_p['X'],data_p['Y']))\n",
    "y = np.array(data_p['Landslid']).reshape((-1,1)) \n",
    "elev = np.array(data_p['Elev']).reshape((-1,1))\n",
    "slope = np.array(data_p['Slope']).reshape((-1,1))\n",
    "SinAspct = np.array(data_p['SinAspct']).reshape(-1,1)\n",
    "CosAspct = np.array(data_p['CosAspct']).reshape(-1,1)\n",
    "X = np.hstack([elev,slope,SinAspct,CosAspct])\n",
    "x = SinAspct\n",
    "\n",
    "X_std = (X-X.mean(axis=0))/X.std(axis=0)\n",
    "x_std = (x-x.mean(axis=0))/x.std(axis=0)\n",
    "y_std = (y-y.mean(axis=0))/y.std(axis=0)"
   ]
  },
  {
   "cell_type": "code",
   "execution_count": 10,
   "metadata": {},
   "outputs": [],
   "source": [
    "bw_gwbr=Sel_BW(coords,y,x_std,family=Binomial(),constant=False).search()"
   ]
  },
  {
   "cell_type": "code",
   "execution_count": 11,
   "metadata": {},
   "outputs": [],
   "source": [
    "gwbr_model=GWR(coords,y,x_std,bw=bw_gwbr,family=Binomial(),constant=False).fit()"
   ]
  },
  {
   "cell_type": "code",
   "execution_count": 12,
   "metadata": {},
   "outputs": [
    {
     "data": {
      "text/plain": [
       "100.0"
      ]
     },
     "execution_count": 12,
     "metadata": {},
     "output_type": "execute_result"
    }
   ],
   "source": [
    "bw_gwbr"
   ]
  },
  {
   "cell_type": "code",
   "execution_count": 25,
   "metadata": {},
   "outputs": [],
   "source": [
    "predy = 1/(1+np.exp(-1*np.sum(gwbr_model.X * gwbr_model.params, axis=1).reshape(-1, 1)))"
   ]
  },
  {
   "cell_type": "code",
   "execution_count": 26,
   "metadata": {},
   "outputs": [
    {
     "data": {
      "text/plain": [
       "<matplotlib.axes._subplots.AxesSubplot at 0x17b8f5dc2b0>"
      ]
     },
     "execution_count": 26,
     "metadata": {},
     "output_type": "execute_result"
    },
    {
     "data": {
      "image/png": "[encoded data removed]",
      "text/plain": [
       "<Figure size 432x288 with 1 Axes>"
      ]
     },
     "metadata": {
      "needs_background": "light"
     },
     "output_type": "display_data"
    }
   ],
   "source": [
    "sns.distplot(predy)"
   ]
  },
  {
   "cell_type": "code",
   "execution_count": 28,
   "metadata": {},
   "outputs": [
    {
     "data": {
      "text/plain": [
       "True"
      ]
     },
     "execution_count": 28,
     "metadata": {},
     "output_type": "execute_result"
    }
   ],
   "source": [
    "(predy==gwbr_model.predy).all()"
   ]
  },
  {
   "cell_type": "code",
   "execution_count": 29,
   "metadata": {},
   "outputs": [
    {
     "data": {
      "text/plain": [
       "<matplotlib.axes._subplots.AxesSubplot at 0x17b8ecf4080>"
      ]
     },
     "execution_count": 29,
     "metadata": {},
     "output_type": "execute_result"
    },
    {
     "data": {
      "image/png": "[encoded data removed]",
      "text/plain": [
       "<Figure size 432x288 with 1 Axes>"
      ]
     },
     "metadata": {
      "needs_background": "light"
     },
     "output_type": "display_data"
    }
   ],
   "source": [
    "sns.distplot(gwbr_model.y)"
   ]
  },
  {
   "cell_type": "markdown",
   "metadata": {},
   "source": [
    "#### Multi_bw changes"
   ]
  },
  {
   "cell_type": "code",
   "execution_count": 18,
   "metadata": {},
   "outputs": [],
   "source": [
    "def multi_bw(init,coords,y, X, n, k, family=Gaussian(),offset=None, tol=1e-06, max_iter=20, multi_bw_min=[None], multi_bw_max=[None],rss_score=True,bws_same_times=3,\n",
    "                     verbose=True):\n",
    "\n",
    "\n",
    "    if multi_bw_min==[None]:\n",
    "        multi_bw_min = multi_bw_min*X.shape[1]\n",
    "    \n",
    "    if multi_bw_max==[None]:\n",
    "        multi_bw_max = multi_bw_max*X.shape[1]\n",
    "        \n",
    "    if isinstance(family,spglm.family.Poisson):\n",
    "        bw = sel_func(bw_func_p(coords,y,X))\n",
    "        optim_model=gwr_func(y,X,bw,family=Poisson(),offset=offset)\n",
    "        err = optim_model.resid_response.reshape((-1, 1))\n",
    "        param = optim_model.params\n",
    "        #This change for the Poisson model follows from equation (1) above\n",
    "        XB = offset*np.exp(np.multiply(param, X))\n",
    "        \n",
    "    \n",
    "    elif isinstance(family,spglm.family.Binomial):\n",
    "        bw = sel_func(bw_func_b(coords,y,X))\n",
    "        optim_model=gwr_func(y,X,bw,family=Binomial())\n",
    "        err = optim_model.resid_response.reshape((-1, 1))\n",
    "        param = optim_model.params\n",
    "        XB = 1/(1+np.exp(-1*np.multiply(optim_model.params,X)))\n",
    "        print(\"first family: \"+str(optim_model.family))\n",
    "        \n",
    "    else:\n",
    "        bw=sel_func(bw_func(coords,y,X))\n",
    "        optim_model=gwr_func(y,X,bw)\n",
    "        err = optim_model.resid_response.reshape((-1, 1))\n",
    "        param = optim_model.params\n",
    "        XB = np.multiply(param, X)\n",
    "        \n",
    "    bw_gwr = bw\n",
    "    XB=XB\n",
    "    \n",
    "    if rss_score:\n",
    "        rss = np.sum((err)**2)\n",
    "    iters = 0\n",
    "    scores = []\n",
    "    delta = 1e6\n",
    "    BWs = []\n",
    "    bw_stable_counter = np.ones(k)\n",
    "    bws = np.empty(k)\n",
    "\n",
    "    try:\n",
    "        from tqdm.auto import tqdm  #if they have it, let users have a progress bar\n",
    "    except ImportError:\n",
    "\n",
    "        def tqdm(x, desc=''):  #otherwise, just passthrough the range\n",
    "            return x\n",
    "\n",
    "    for iters in tqdm(range(1, max_iter + 1), desc='Backfitting'):\n",
    "        new_XB = np.zeros_like(X)\n",
    "        neww_XB = np.zeros_like(X)\n",
    "\n",
    "        params = np.zeros_like(X)\n",
    "\n",
    "        for j in range(k):\n",
    "            temp_y = XB[:, j].reshape((-1, 1))\n",
    "            temp_y = temp_y + err\n",
    "            \n",
    "            temp_X = X[:, j].reshape((-1, 1))\n",
    "            \n",
    "            #The step below will not be necessary once the bw_func is changed in the repo to accept family and offset as attributes\n",
    "            if isinstance(family,spglm.family.Poisson):\n",
    "\n",
    "                bw_class = bw_func_p(coords,temp_y, temp_X)\n",
    "                \n",
    "            else:\n",
    "                bw_class = bw_func(coords,temp_y, temp_X)\n",
    "                print(bw_class.family)\n",
    "\n",
    "            if np.all(bw_stable_counter == bws_same_times):\n",
    "                #If in backfitting, all bws not changing in bws_same_times (default 3) iterations\n",
    "                bw = bws[j]\n",
    "            else:\n",
    "                bw = sel_func(bw_class, multi_bw_min[j], multi_bw_max[j])\n",
    "                if bw == bws[j]:\n",
    "                    bw_stable_counter[j] += 1\n",
    "                else:\n",
    "                    bw_stable_counter = np.ones(k)\n",
    "\n",
    "            optim_model = gwr_func_g(temp_y, temp_X, bw)\n",
    "            print(optim_model.family)\n",
    "            \n",
    "            err = optim_model.resid_response.reshape((-1, 1))\n",
    "            param = optim_model.params.reshape((-1, ))\n",
    "\n",
    "            new_XB[:,j]=optim_model.predy.reshape(-1)\n",
    "            params[:, j] = param\n",
    "            bws[j] = bw\n",
    "\n",
    "        num = np.sum((new_XB - XB)**2) / n\n",
    "        print(\"num = \"+str(num))\n",
    "        den = np.sum(np.sum(new_XB, axis=1)**2)\n",
    "        score = (num / den)**0.5\n",
    "        print(score)\n",
    "        XB = new_XB\n",
    "\n",
    "        if rss_score:\n",
    "            print(\"here\")\n",
    "            predy = 1/(1+np.exp(-1*np.sum(X * params, axis=1).reshape(-1, 1)))\n",
    "            new_rss = np.sum((y - predy)**2)\n",
    "            score = np.abs((new_rss - rss) / new_rss)\n",
    "            rss = new_rss\n",
    "        scores.append(deepcopy(score))\n",
    "        delta = score\n",
    "        print(delta)\n",
    "        BWs.append(deepcopy(bws))\n",
    "\n",
    "        if verbose:\n",
    "            print(\"Current iteration:\", iters, \",SOC:\", np.round(score, 7))\n",
    "            print(\"Bandwidths:\", ', '.join([str(bw) for bw in bws]))\n",
    "\n",
    "        if delta < tol:\n",
    "            break\n",
    "            \n",
    "    print(\"iters = \"+str(iters))\n",
    "    opt_bws = BWs[-1]\n",
    "    print(\"opt_bws = \"+str(opt_bws))\n",
    "    print(bw_gwr)\n",
    "    return (opt_bws, np.array(BWs), np.array(scores), params, err, bw_gwr)"
   ]
  },
  {
   "cell_type": "code",
   "execution_count": 21,
   "metadata": {},
   "outputs": [
    {
     "name": "stdout",
     "output_type": "stream",
     "text": [
      "first family: <spglm.family.Binomial object at 0x0000017B8F302588>\n",
      "<spglm.family.Gaussian object at 0x0000017B8DA45940>\n",
      "<spglm.family.Gaussian object at 0x0000017B8F341828>\n",
      "num = 0.2261860620412264\n",
      "0.1493438159109546\n",
      "here\n",
      "0.019261197296944955\n",
      "Current iteration: 1 ,SOC: 0.0192612\n",
      "Bandwidths: 82.0\n",
      "<spglm.family.Gaussian object at 0x0000017B8DA45940>\n",
      "<spglm.family.Gaussian object at 0x0000017B8F2BD4A8>\n",
      "num = 0.0\n",
      "0.0\n",
      "here\n",
      "0.0\n",
      "Current iteration: 2 ,SOC: 0.0\n",
      "Bandwidths: 82.0\n",
      "iters = 2\n",
      "opt_bws = [82.]\n",
      "100.0\n"
     ]
    }
   ],
   "source": [
    "mgwbr = multi_bw(init=None,coords=coords,y=y, X=x_std, n=239, k=x.shape[1], family=Binomial())"
   ]
  },
  {
   "cell_type": "code",
   "execution_count": 22,
   "metadata": {},
   "outputs": [],
   "source": [
    "param = mgwbr[3]"
   ]
  },
  {
   "cell_type": "code",
   "execution_count": 23,
   "metadata": {},
   "outputs": [],
   "source": [
    "predy = 1/(1+np.exp(-1*np.sum(x_std * param, axis=1).reshape(-1, 1)))"
   ]
  },
  {
   "cell_type": "code",
   "execution_count": 24,
   "metadata": {},
   "outputs": [
    {
     "data": {
      "text/plain": [
       "<matplotlib.axes._subplots.AxesSubplot at 0x17b8f341860>"
      ]
     },
     "execution_count": 24,
     "metadata": {},
     "output_type": "execute_result"
    },
    {
     "data": {
      "image/png": "[encoded data removed]",
      "text/plain": [
       "<Figure size 432x288 with 1 Axes>"
      ]
     },
     "metadata": {
      "needs_background": "light"
     },
     "output_type": "display_data"
    }
   ],
   "source": [
    "sns.distplot(predy)"
   ]
  }
 ],
 "metadata": {
  "kernelspec": {
   "display_name": "Python 3",
   "language": "python",
   "name": "python3"
  },
  "language_info": {
   "codemirror_mode": {
    "name": "ipython",
    "version": 3
   },
   "file_extension": ".py",
   "mimetype": "text/x-python",
   "name": "python",
   "nbconvert_exporter": "python",
   "pygments_lexer": "ipython3",
   "version": "3.6.6"
  }
 },
 "nbformat": 4,
 "nbformat_minor": 2
}
