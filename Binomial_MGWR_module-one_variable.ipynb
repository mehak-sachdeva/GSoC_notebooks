{
 "cells": [
  {
   "cell_type": "code",
   "execution_count": 1,
   "metadata": {},
   "outputs": [],
   "source": [
    "import sys\n",
    "sys.path.append(\"/Users/msachde1/Downloads/Research/Development/mgwr/\")"
   ]
  },
  {
   "cell_type": "code",
   "execution_count": 2,
   "metadata": {},
   "outputs": [],
   "source": [
    "import warnings\n",
    "warnings.filterwarnings(\"ignore\")"
   ]
  },
  {
   "cell_type": "code",
   "execution_count": 3,
   "metadata": {},
   "outputs": [],
   "source": [
    "from mgwr.gwr import GWR\n",
    "import pandas as pd\n",
    "import numpy as np\n",
    "from spglm.family import Gaussian, Binomial, Poisson\n",
    "from mgwr.gwr import MGWR\n",
    "from mgwr.sel_bw import Sel_BW\n",
    "import multiprocessing as mp\n",
    "pool = mp.Pool()\n",
    "from scipy import linalg\n",
    "import numpy.linalg as la\n",
    "from scipy import sparse as sp\n",
    "from scipy.sparse import linalg as spla\n",
    "from spreg.utils import spdot, spmultiply\n",
    "from scipy import special\n",
    "import libpysal as ps\n",
    "import seaborn as sns\n",
    "import matplotlib.pyplot as plt\n",
    "import numpy as np\n",
    "from copy import deepcopy\n",
    "import copy\n",
    "from collections import namedtuple"
   ]
  },
  {
   "cell_type": "markdown",
   "metadata": {},
   "source": [
    "### IWLS convergence loop"
   ]
  },
  {
   "cell_type": "code",
   "execution_count": 4,
   "metadata": {},
   "outputs": [],
   "source": [
    "data_p = pd.read_csv(\"C:/Users/msachde1/Downloads/logistic_mgwr_data/landslides.csv\") \n",
    "coords = list(zip(data_p['X'],data_p['Y']))\n",
    "y = np.array(data_p['Landslid']).reshape((-1,1)) \n",
    "elev = np.array(data_p['Elev']).reshape((-1,1))\n",
    "slope = np.array(data_p['Slope']).reshape((-1,1))\n",
    "SinAspct = np.array(data_p['SinAspct']).reshape(-1,1)\n",
    "CosAspct = np.array(data_p['CosAspct']).reshape(-1,1)\n",
    "X = np.hstack([elev,slope,SinAspct,CosAspct])\n",
    "x = SinAspct\n",
    "\n",
    "X_std = (X-X.mean(axis=0))/X.std(axis=0)\n",
    "x_std = (x-x.mean(axis=0))/x.std(axis=0)\n",
    "y_std = (y-y.mean(axis=0))/y.std(axis=0)"
   ]
  },
  {
   "cell_type": "markdown",
   "metadata": {},
   "source": [
    "### Initialization with GWPR"
   ]
  },
  {
   "cell_type": "code",
   "execution_count": 5,
   "metadata": {},
   "outputs": [],
   "source": [
    "sel=Sel_BW(coords,y,x_std,family=Binomial())\n",
    "bw_in=sel.search()\n",
    "def gwr_func(y,X,bw):\n",
    "    return GWR(coords,y,X,bw,family=Binomial(),fixed=False,kernel='bisquare',constant=False).fit()\n",
    "optim_model = gwr_func(y=y,X=x,bw=bw_in)\n",
    "om_p=optim_model.params"
   ]
  },
  {
   "cell_type": "code",
   "execution_count": null,
   "metadata": {},
   "outputs": [],
   "source": [
    "optim_model."
   ]
  },
  {
   "cell_type": "code",
   "execution_count": 6,
   "metadata": {},
   "outputs": [],
   "source": [
    "sel=Sel_BW(coords,y,x,family=Binomial())"
   ]
  },
  {
   "cell_type": "code",
   "execution_count": 8,
   "metadata": {},
   "outputs": [
    {
     "data": {
      "text/plain": [
       "47.0"
      ]
     },
     "execution_count": 8,
     "metadata": {},
     "output_type": "execute_result"
    }
   ],
   "source": [
    "bw_in"
   ]
  },
  {
   "cell_type": "markdown",
   "metadata": {},
   "source": [
    "### Starting values"
   ]
  },
  {
   "cell_type": "code",
   "execution_count": 28,
   "metadata": {},
   "outputs": [],
   "source": [
    "n_iter=0\n",
    "n=x.shape[0]"
   ]
  },
  {
   "cell_type": "code",
   "execution_count": 29,
   "metadata": {},
   "outputs": [],
   "source": [
    "mu=optim_model.predy"
   ]
  },
  {
   "cell_type": "code",
   "execution_count": 30,
   "metadata": {},
   "outputs": [],
   "source": [
    "v=np.log(mu / (1. - mu))"
   ]
  },
  {
   "cell_type": "code",
   "execution_count": 31,
   "metadata": {},
   "outputs": [],
   "source": [
    "z = v + (1. / (mu * (1 - mu)) * (y - mu))"
   ]
  },
  {
   "cell_type": "code",
   "execution_count": 32,
   "metadata": {},
   "outputs": [],
   "source": [
    "diff = 1.0e+06\n",
    "tol = 1.0e-06\n",
    "max_iter=200\n",
    "betas=om_p"
   ]
  },
  {
   "cell_type": "code",
   "execution_count": 34,
   "metadata": {},
   "outputs": [
    {
     "name": "stdout",
     "output_type": "stream",
     "text": [
      "[89.]\n"
     ]
    },
    {
     "data": {
      "application/vnd.jupyter.widget-view+json": {
       "model_id": "72796b5de3b9426db6fa4d8691d288e3",
       "version_major": 2,
       "version_minor": 0
      },
      "text/plain": [
       "HBox(children=(IntProgress(value=0, description='Inference', max=1), HTML(value='')))"
      ]
     },
     "metadata": {},
     "output_type": "display_data"
    },
    {
     "name": "stdout",
     "output_type": "stream",
     "text": [
      "\n",
      "diff = 0.0020793003689609235\n",
      "[89.]\n"
     ]
    },
    {
     "data": {
      "application/vnd.jupyter.widget-view+json": {
       "model_id": "05e58cb944924e8a9d8afd30a29c9839",
       "version_major": 2,
       "version_minor": 0
      },
      "text/plain": [
       "HBox(children=(IntProgress(value=0, description='Inference', max=1), HTML(value='')))"
      ]
     },
     "metadata": {},
     "output_type": "display_data"
    },
    {
     "name": "stdout",
     "output_type": "stream",
     "text": [
      "\n",
      "diff = 0.0\n"
     ]
    }
   ],
   "source": [
    "while diff> tol and n_iter < max_iter:\n",
    "    n_iter +=1\n",
    "    #w = weights(yhat)\n",
    "    z = v + (1. / (mu * (1 - mu)) * (y - mu))\n",
    "    #w = np.sqrt(w)\n",
    "\n",
    "    #wx = spmultiply(x,w,array_out=False)\n",
    "    #wz = spmultiply(z,w,array_out=False)\n",
    "    \n",
    "    #z_std=(z-z.mean(axis=0))/z.std(axis=0)\n",
    "    x_std=(x-x.mean(axis=0))/x.std(axis=0)\n",
    "    \n",
    "    selector=Sel_BW(coords,z,x_std,multi=True,constant=False)\n",
    "    selector.search(pool=pool)\n",
    "    print(selector.bw[0])\n",
    "    mgwr_model=MGWR(coords,z,x_std,selector,family=Gaussian(),constant=False).fit()\n",
    "    \n",
    "    n_betas=mgwr_model.params \n",
    "\n",
    "    #v=beta_sum(x_std,n_betas,n)\n",
    "    mu=optim_model.predy\n",
    "    v=np.log(mu / (1. - mu))\n",
    "    #v=spdot(x_std.reshape(-1),n_betas.reshape(-1,1))\n",
    "    #yhat=(off*np.exp(v))\n",
    "    \n",
    "    diff=min(min(abs(betas-n_betas).reshape(1,-1).tolist()))\n",
    "    print(\"diff = \"+str(diff))\n",
    "    betas = n_betas\n",
    "\n",
    "#print (betas, yhat, v, w, z, n_iter)"
   ]
  },
  {
   "cell_type": "code",
   "execution_count": 35,
   "metadata": {},
   "outputs": [],
   "source": [
    "bw=Sel_BW(coords,y,x_std,family=Binomial(),constant=False)"
   ]
  },
  {
   "cell_type": "code",
   "execution_count": 36,
   "metadata": {},
   "outputs": [],
   "source": [
    "bw=bw.search()"
   ]
  },
  {
   "cell_type": "code",
   "execution_count": 37,
   "metadata": {},
   "outputs": [
    {
     "data": {
      "text/plain": [
       "100.0"
      ]
     },
     "execution_count": 37,
     "metadata": {},
     "output_type": "execute_result"
    }
   ],
   "source": [
    "bw"
   ]
  },
  {
   "cell_type": "code",
   "execution_count": 42,
   "metadata": {},
   "outputs": [],
   "source": [
    "gwr_mod = GWR(coords,y,x_std,bw,family=Binomial(),constant=False).fit()"
   ]
  },
  {
   "cell_type": "code",
   "execution_count": 43,
   "metadata": {},
   "outputs": [
    {
     "data": {
      "text/plain": [
       "330.2296364641693"
      ]
     },
     "execution_count": 43,
     "metadata": {},
     "output_type": "execute_result"
    }
   ],
   "source": [
    "gwr_mod.aic"
   ]
  },
  {
   "cell_type": "code",
   "execution_count": 44,
   "metadata": {},
   "outputs": [
    {
     "data": {
      "text/plain": [
       "<matplotlib.axes._subplots.AxesSubplot at 0x25b986059b0>"
      ]
     },
     "execution_count": 44,
     "metadata": {},
     "output_type": "execute_result"
    },
    {
     "data": {
      "image/png": "[encoded data removed]",
      "text/plain": [
       "<Figure size 432x288 with 1 Axes>"
      ]
     },
     "metadata": {
      "needs_background": "light"
     },
     "output_type": "display_data"
    }
   ],
   "source": [
    "sns.distplot(z)"
   ]
  },
  {
   "cell_type": "code",
   "execution_count": 45,
   "metadata": {},
   "outputs": [
    {
     "data": {
      "text/plain": [
       "<matplotlib.axes._subplots.AxesSubplot at 0x25b986cbac8>"
      ]
     },
     "execution_count": 45,
     "metadata": {},
     "output_type": "execute_result"
    },
    {
     "data": {
      "image/png": "[encoded data removed]",
      "text/plain": [
       "<Figure size 432x288 with 1 Axes>"
      ]
     },
     "metadata": {
      "needs_background": "light"
     },
     "output_type": "display_data"
    }
   ],
   "source": [
    "sns.distplot(x_std)"
   ]
  },
  {
   "cell_type": "code",
   "execution_count": 47,
   "metadata": {},
   "outputs": [
    {
     "data": {
      "text/plain": [
       "1037.4901938225476"
      ]
     },
     "execution_count": 47,
     "metadata": {},
     "output_type": "execute_result"
    }
   ],
   "source": [
    "mgwr_model.aic"
   ]
  },
  {
   "cell_type": "code",
   "execution_count": 48,
   "metadata": {},
   "outputs": [
    {
     "data": {
      "text/plain": [
       "331.3125681122599"
      ]
     },
     "execution_count": 48,
     "metadata": {},
     "output_type": "execute_result"
    }
   ],
   "source": [
    "optim_model.aic"
   ]
  }
 ],
 "metadata": {
  "kernelspec": {
   "display_name": "Python 3",
   "language": "python",
   "name": "python3"
  },
  "language_info": {
   "codemirror_mode": {
    "name": "ipython",
    "version": 3
   },
   "file_extension": ".py",
   "mimetype": "text/x-python",
   "name": "python",
   "nbconvert_exporter": "python",
   "pygments_lexer": "ipython3",
   "version": "3.6.6"
  }
 },
 "nbformat": 4,
 "nbformat_minor": 2
}
