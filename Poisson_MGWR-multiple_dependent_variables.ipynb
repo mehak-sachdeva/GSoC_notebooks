{
 "cells": [
  {
   "cell_type": "markdown",
   "metadata": {},
   "source": [
    "## iwls function directly derived from \n",
    "https://github.com/pysal/spglm/blob/master/spglm/iwls.py"
   ]
  },
  {
   "cell_type": "code",
   "execution_count": 5,
   "metadata": {},
   "outputs": [],
   "source": [
    "import numpy as np\n",
    "from scipy import linalg\n",
    "import numpy.linalg as la\n",
    "from scipy import sparse as sp\n",
    "from scipy.sparse import linalg as spla\n",
    "from spreg.utils import spdot, spmultiply\n",
    "from scipy import special\n",
    "import libpysal as ps"
   ]
  },
  {
   "cell_type": "code",
   "execution_count": 6,
   "metadata": {},
   "outputs": [],
   "source": [
    "FLOAT_EPS = np.finfo(float).eps"
   ]
  },
  {
   "cell_type": "markdown",
   "metadata": {},
   "source": [
    "### Fitting the MGWR model for the updated/adjusted dependent variables"
   ]
  },
  {
   "cell_type": "markdown",
   "metadata": {},
   "source": [
    "#### This should remain the same as the GWR calculation given the partial smooth definition for process j (in this case the only 1) given in:\n",
    "Yu, H., Fotheringham, S., Li, Z., Oshan, T., Kang, W., & Wolf, L. J. (2018). Inference in multiscale geographically weighted regression. doi:10.31219/osf.io/4dksb"
   ]
  },
  {
   "cell_type": "markdown",
   "metadata": {},
   "source": [
    "\\begin{align}\n",
    "\\hat{\\beta} & _{ij}= e_j (X^T W_iX)^{-1} X^TW_i y \\\\\n",
    "\\end{align}"
   ]
  },
  {
   "cell_type": "code",
   "execution_count": 3,
   "metadata": {},
   "outputs": [],
   "source": [
    "def compute_betas_mgwr(y,x,wi):\n",
    "    xT = (x*wi).T\n",
    "    xtx = np.dot(xT,x)\n",
    "    xtx_inv_xt = linalg.solve(xtx, xT)\n",
    "    betas = np.dot(xtx_inv_xt, y)\n",
    "    return betas, xtx_inv_xt"
   ]
  },
  {
   "cell_type": "code",
   "execution_count": null,
   "metadata": {},
   "outputs": [],
   "source": [
    "def compute_betas_mgwr(y,x,wi):\n",
    "    xT = (x*wi).T\n",
    "    xtx = np.dot(xT,x)\n",
    "    xtx_inv_xt = linalg.solve(xtx, xT)\n",
    "    betas = np.dot(xtx_inv_xt, y)\n",
    "    return betas, xtx_inv_xt"
   ]
  },
  {
   "cell_type": "markdown",
   "metadata": {},
   "source": [
    "#### I am confused if this is correct and remains the same as in GWPR and how to go about handling it for more than one dependent variables"
   ]
  },
  {
   "cell_type": "markdown",
   "metadata": {},
   "source": [
    "### Only keeping the calculations for the log link function for now"
   ]
  },
  {
   "cell_type": "code",
   "execution_count": 39,
   "metadata": {},
   "outputs": [],
   "source": [
    "def deriv (mu):\n",
    "    p = np.clip(mu, FLOAT_EPS, np.inf)\n",
    "    deriv_p = 1.0/p\n",
    "    return deriv_p\n",
    "\n",
    "def starting_mu(y):\n",
    "    return (y+y.mean())/2\n",
    "    \n",
    "def weights(mu):\n",
    "    p = np.clip(mu, FLOAT_EPS, np.inf)\n",
    "    deriv_p = 1.0/p\n",
    "    variance = np.ones(mu.shape,np.float64)\n",
    "    return 1.0/(deriv_p**2 * variance)\n",
    "    \n",
    "def predict(mu):\n",
    "    x = np.clip(mu, FLOAT_EPS, np.inf)\n",
    "    return np.log(x)\n",
    "\n",
    "def fitted(lin_pred):\n",
    "    fits = np.exp(lin_pred)\n",
    "    return fits"
   ]
  },
  {
   "cell_type": "markdown",
   "metadata": {},
   "source": [
    "### Calling the weights function from below to calculate weights at each i"
   ]
  },
  {
   "cell_type": "code",
   "execution_count": null,
   "metadata": {},
   "outputs": [],
   "source": [
    "wi = Kernel.ker(i=5,data=coords,bw=50,function='exponential')"
   ]
  },
  {
   "cell_type": "markdown",
   "metadata": {},
   "source": [
    "### The function to do the Fischer scoring algorithm"
   ]
  },
  {
   "cell_type": "code",
   "execution_count": 143,
   "metadata": {},
   "outputs": [],
   "source": [
    "def iwls(y, x, offset,\n",
    "         ini_betas=None, tol=1.0e-06, max_iter=200, wi=None):\n",
    "    \n",
    "    n = x.shape[0]\n",
    "    n_iter= 0\n",
    "    diff = 1.0e+06\n",
    "    \n",
    "    if ini_betas is None:\n",
    "        betas = np.zeros((x.shape[1],1), np.float)\n",
    "    else:\n",
    "        betas = ini_betas\n",
    "        \n",
    "    y_off = y/offset\n",
    "    y_off = starting_mu(y_off)\n",
    "    v = predict(y_off)\n",
    "    mu = starting_mu(y)\n",
    "        \n",
    "    while diff > tol and n_iter < max_iter:\n",
    "        n_iter +=1\n",
    "        w = weights(mu)\n",
    "        z = v + deriv(mu) * (y-mu)\n",
    "        w = np.sqrt(w)\n",
    "        \n",
    "        if not isinstance(x, np.ndarray):\n",
    "            w = sp.csr_matrix(w)\n",
    "            z = sp.csr_matrix(z)\n",
    "            \n",
    "        wx = spmultiply(x,w,array_out=False)\n",
    "        wz = spmultiply(z,w,array_out=False)\n",
    "        \n",
    "        n_betas, xtx_inv_xt = compute_betas_mgwr(wz, wx, wi)\n",
    "        print(n_betas)\n",
    "        v = spdot(x, n_betas)\n",
    "        mu = fitted(v)\n",
    "        mu = mu * offset\n",
    "        \n",
    "        diff = min(abs(n_betas - betas))\n",
    "        #print(diff)\n",
    "        betas = n_betas\n",
    "        \n",
    "    return betas, mu, v, w, z, xtx_inv_xt, n_iter      "
   ]
  },
  {
   "cell_type": "markdown",
   "metadata": {},
   "source": [
    "### Trying with data"
   ]
  },
  {
   "cell_type": "code",
   "execution_count": 326,
   "metadata": {},
   "outputs": [],
   "source": [
    "data_p = ps.io.open(ps.examples.get_path('Tokyomortality.csv'))\n",
    "coords = list(zip(data_p.by_col('X_CENTROID'),data_p.by_col('Y_CENTROID')))\n",
    "off = np.array(data_p.by_col('eb2564')).reshape((-1,1))\n",
    "y = np.array(data_p.by_col('db2564')).reshape((-1,1)) \n",
    "occ = np.array(data_p.by_col('OCC_TEC')).reshape((-1,1))\n",
    "own = np.array(data_p.by_col('OWNH')).reshape((-1,1))\n",
    "pop = np.array(data_p.by_col('POP65')).reshape((-1,1))\n",
    "unemp = np.array(data_p.by_col('UNEMP')).reshape((-1,1))\n",
    "X = np.hstack([occ,own,pop,unemp])\n",
    "x = occ"
   ]
  },
  {
   "cell_type": "code",
   "execution_count": 327,
   "metadata": {},
   "outputs": [],
   "source": [
    "X_std = (X-X.mean(axis=0))/X.std(axis=0)\n",
    "x_std = (x-x.mean(axis=0))/x.std(axis=0)\n",
    "y_std = (y-y.mean(axis=0))/y.std(axis=0)\n",
    "off_std = (off-off.mean(axis=0))/off.std(axis=0)"
   ]
  },
  {
   "cell_type": "code",
   "execution_count": 10,
   "metadata": {},
   "outputs": [],
   "source": [
    "#rslt=iwls(y=y_std,x=x_std,offset=off_std,wi=wit,tol=1.0e-06, max_iter=200)"
   ]
  },
  {
   "cell_type": "code",
   "execution_count": 257,
   "metadata": {},
   "outputs": [],
   "source": [
    "#do the result loop for each i \n",
    "#map the parameters back after"
   ]
  },
  {
   "cell_type": "markdown",
   "metadata": {},
   "source": [
    "### Initialize using GWPR in MGWR"
   ]
  },
  {
   "cell_type": "code",
   "execution_count": null,
   "metadata": {},
   "outputs": [],
   "source": [
    "initial_betas = GWR()"
   ]
  },
  {
   "cell_type": "code",
   "execution_count": null,
   "metadata": {},
   "outputs": [],
   "source": []
  },
  {
   "cell_type": "code",
   "execution_count": null,
   "metadata": {},
   "outputs": [],
   "source": []
  },
  {
   "cell_type": "code",
   "execution_count": null,
   "metadata": {},
   "outputs": [],
   "source": []
  },
  {
   "cell_type": "code",
   "execution_count": null,
   "metadata": {},
   "outputs": [],
   "source": []
  },
  {
   "cell_type": "markdown",
   "metadata": {},
   "source": [
    "### Initialize using GWPR in MGWR for multiple variables"
   ]
  },
  {
   "cell_type": "code",
   "execution_count": null,
   "metadata": {},
   "outputs": [],
   "source": [
    "betas="
   ]
  },
  {
   "cell_type": "code",
   "execution_count": null,
   "metadata": {},
   "outputs": [],
   "source": []
  },
  {
   "cell_type": "code",
   "execution_count": null,
   "metadata": {},
   "outputs": [],
   "source": []
  },
  {
   "cell_type": "code",
   "execution_count": null,
   "metadata": {},
   "outputs": [],
   "source": []
  },
  {
   "cell_type": "code",
   "execution_count": null,
   "metadata": {},
   "outputs": [],
   "source": []
  },
  {
   "cell_type": "markdown",
   "metadata": {},
   "source": [
    "#### Manually constructed weights for testing"
   ]
  },
  {
   "cell_type": "code",
   "execution_count": null,
   "metadata": {},
   "outputs": [],
   "source": [
    "wi = np.diagonal(w)\n",
    "wit=wi.reshape(-1,1)"
   ]
  },
  {
   "cell_type": "code",
   "execution_count": 142,
   "metadata": {},
   "outputs": [
    {
     "data": {
      "text/plain": [
       "array([[-0.12618811]])"
      ]
     },
     "execution_count": 142,
     "metadata": {},
     "output_type": "execute_result"
    }
   ],
   "source": [
    "rslt[0]"
   ]
  },
  {
   "cell_type": "code",
   "execution_count": 127,
   "metadata": {},
   "outputs": [],
   "source": [
    "n_iter= 0\n",
    "diff = 1.0e6\n",
    "max_iter = 200\n",
    "tol = 1.0e-06"
   ]
  },
  {
   "cell_type": "code",
   "execution_count": 128,
   "metadata": {},
   "outputs": [
    {
     "name": "stdout",
     "output_type": "stream",
     "text": [
      "+1\n",
      "+1\n",
      "+1\n",
      "+1\n",
      "+1\n",
      "+1\n",
      "+1\n",
      "+1\n",
      "+1\n",
      "+1\n",
      "+1\n",
      "+1\n",
      "+1\n",
      "+1\n",
      "+1\n",
      "+1\n",
      "+1\n",
      "+1\n",
      "+1\n",
      "+1\n",
      "+1\n",
      "+1\n",
      "+1\n",
      "+1\n",
      "+1\n",
      "+1\n",
      "+1\n",
      "+1\n",
      "+1\n",
      "+1\n",
      "+1\n",
      "+1\n",
      "+1\n",
      "+1\n",
      "+1\n",
      "+1\n",
      "+1\n",
      "+1\n",
      "+1\n",
      "+1\n",
      "+1\n",
      "+1\n",
      "+1\n",
      "+1\n",
      "+1\n",
      "+1\n",
      "+1\n",
      "+1\n",
      "+1\n",
      "+1\n",
      "+1\n",
      "+1\n",
      "+1\n",
      "+1\n",
      "+1\n",
      "+1\n",
      "+1\n",
      "+1\n",
      "+1\n",
      "+1\n",
      "+1\n",
      "+1\n",
      "+1\n",
      "+1\n",
      "+1\n",
      "+1\n",
      "+1\n",
      "+1\n",
      "+1\n",
      "+1\n",
      "+1\n",
      "+1\n",
      "+1\n",
      "+1\n",
      "+1\n",
      "+1\n",
      "+1\n",
      "+1\n",
      "+1\n",
      "+1\n",
      "+1\n",
      "+1\n",
      "+1\n",
      "+1\n",
      "+1\n",
      "+1\n",
      "+1\n",
      "+1\n",
      "+1\n",
      "+1\n",
      "+1\n",
      "+1\n",
      "+1\n",
      "+1\n",
      "+1\n",
      "+1\n",
      "+1\n",
      "+1\n",
      "+1\n",
      "+1\n",
      "+1\n",
      "+1\n",
      "+1\n",
      "+1\n",
      "+1\n",
      "+1\n",
      "+1\n",
      "+1\n",
      "+1\n",
      "+1\n",
      "+1\n",
      "+1\n",
      "+1\n",
      "+1\n",
      "+1\n",
      "+1\n",
      "+1\n",
      "+1\n",
      "+1\n",
      "+1\n",
      "+1\n",
      "+1\n",
      "+1\n",
      "+1\n",
      "+1\n",
      "+1\n",
      "+1\n",
      "+1\n",
      "+1\n",
      "+1\n",
      "+1\n",
      "+1\n",
      "+1\n",
      "+1\n",
      "+1\n",
      "+1\n",
      "+1\n",
      "+1\n",
      "+1\n",
      "+1\n",
      "+1\n",
      "+1\n",
      "+1\n",
      "+1\n",
      "+1\n",
      "+1\n",
      "+1\n",
      "+1\n",
      "+1\n",
      "+1\n",
      "+1\n",
      "+1\n",
      "+1\n",
      "+1\n",
      "+1\n",
      "+1\n",
      "+1\n",
      "+1\n",
      "+1\n",
      "+1\n",
      "+1\n",
      "+1\n",
      "+1\n",
      "+1\n",
      "+1\n",
      "+1\n",
      "+1\n",
      "+1\n",
      "+1\n",
      "+1\n",
      "+1\n",
      "+1\n",
      "+1\n",
      "+1\n",
      "+1\n",
      "+1\n",
      "+1\n",
      "+1\n",
      "+1\n",
      "+1\n",
      "+1\n",
      "+1\n",
      "+1\n",
      "+1\n",
      "+1\n",
      "+1\n",
      "+1\n",
      "+1\n",
      "+1\n",
      "+1\n",
      "+1\n",
      "+1\n",
      "+1\n",
      "+1\n",
      "+1\n",
      "+1\n",
      "+1\n",
      "+1\n",
      "+1\n",
      "+1\n"
     ]
    }
   ],
   "source": [
    "while diff > tol and n_iter < max_iter:\n",
    "        n_iter +=1\n",
    "        print(\"+1\")"
   ]
  },
  {
   "cell_type": "code",
   "execution_count": 123,
   "metadata": {},
   "outputs": [
    {
     "ename": "NameError",
     "evalue": "name 'tol' is not defined",
     "output_type": "error",
     "traceback": [
      "\u001b[1;31m---------------------------------------------------------------------------\u001b[0m",
      "\u001b[1;31mNameError\u001b[0m                                 Traceback (most recent call last)",
      "\u001b[1;32m<ipython-input-123-dd6c77362122>\u001b[0m in \u001b[0;36m<module>\u001b[1;34m()\u001b[0m\n\u001b[1;32m----> 1\u001b[1;33m \u001b[0mtol\u001b[0m\u001b[1;33m\u001b[0m\u001b[0m\n\u001b[0m",
      "\u001b[1;31mNameError\u001b[0m: name 'tol' is not defined"
     ]
    }
   ],
   "source": [
    "tol"
   ]
  },
  {
   "cell_type": "code",
   "execution_count": 113,
   "metadata": {},
   "outputs": [],
   "source": [
    "wit=wi.reshape(-1,1)"
   ]
  },
  {
   "cell_type": "code",
   "execution_count": 150,
   "metadata": {},
   "outputs": [],
   "source": [
    "newwx=(wit*x_std).T"
   ]
  },
  {
   "cell_type": "code",
   "execution_count": null,
   "metadata": {},
   "outputs": [],
   "source": []
  },
  {
   "cell_type": "code",
   "execution_count": 149,
   "metadata": {},
   "outputs": [],
   "source": [
    "xstd_t=x_std.T"
   ]
  },
  {
   "cell_type": "code",
   "execution_count": 151,
   "metadata": {},
   "outputs": [],
   "source": [
    "xtxx=np.dot(newwx,x_std)"
   ]
  },
  {
   "cell_type": "code",
   "execution_count": 152,
   "metadata": {},
   "outputs": [
    {
     "data": {
      "text/plain": [
       "(1, 1)"
      ]
     },
     "execution_count": 152,
     "metadata": {},
     "output_type": "execute_result"
    }
   ],
   "source": [
    "xtxx.shape"
   ]
  },
  {
   "cell_type": "code",
   "execution_count": 154,
   "metadata": {},
   "outputs": [],
   "source": [
    "ls=linalg.solve(xtxx,newwx)"
   ]
  },
  {
   "cell_type": "code",
   "execution_count": 157,
   "metadata": {},
   "outputs": [
    {
     "data": {
      "text/plain": [
       "(1, 262)"
      ]
     },
     "execution_count": 157,
     "metadata": {},
     "output_type": "execute_result"
    }
   ],
   "source": [
    "ls.shape"
   ]
  },
  {
   "cell_type": "code",
   "execution_count": 158,
   "metadata": {},
   "outputs": [
    {
     "data": {
      "text/plain": [
       "(262, 1)"
      ]
     },
     "execution_count": 158,
     "metadata": {},
     "output_type": "execute_result"
    }
   ],
   "source": [
    "y_std.shape"
   ]
  },
  {
   "cell_type": "code",
   "execution_count": 155,
   "metadata": {},
   "outputs": [
    {
     "data": {
      "text/plain": [
       "array([[0.33250184]])"
      ]
     },
     "execution_count": 155,
     "metadata": {},
     "output_type": "execute_result"
    }
   ],
   "source": [
    "np.dot(ls, y_std)"
   ]
  },
  {
   "cell_type": "code",
   "execution_count": 103,
   "metadata": {},
   "outputs": [
    {
     "data": {
      "text/plain": [
       "(262, 262)"
      ]
     },
     "execution_count": 103,
     "metadata": {},
     "output_type": "execute_result"
    }
   ],
   "source": [
    "(x_std*wi.T).shape"
   ]
  },
  {
   "cell_type": "code",
   "execution_count": 37,
   "metadata": {},
   "outputs": [],
   "source": [
    "mu=starting_mu(y_std)"
   ]
  },
  {
   "cell_type": "code",
   "execution_count": 88,
   "metadata": {},
   "outputs": [],
   "source": [
    "we = weights(mu)"
   ]
  },
  {
   "cell_type": "code",
   "execution_count": 89,
   "metadata": {},
   "outputs": [
    {
     "data": {
      "text/plain": [
       "array([[8.78176024e-04],\n",
       "       [4.93038066e-32],\n",
       "       [4.93038066e-32],\n",
       "       [4.93038066e-32],\n",
       "       [4.93038066e-32],\n",
       "       [4.93038066e-32],\n",
       "       [4.93038066e-32],\n",
       "       [4.93038066e-32],\n",
       "       [1.33784866e-03],\n",
       "       [4.93038066e-32],\n",
       "       [4.93038066e-32],\n",
       "       [4.93038066e-32],\n",
       "       [4.93038066e-32],\n",
       "       [4.93038066e-32],\n",
       "       [4.93038066e-32],\n",
       "       [4.93038066e-32],\n",
       "       [4.93038066e-32],\n",
       "       [4.93038066e-32],\n",
       "       [4.93038066e-32],\n",
       "       [4.93038066e-32],\n",
       "       [4.93038066e-32],\n",
       "       [4.93038066e-32],\n",
       "       [4.93038066e-32],\n",
       "       [4.93038066e-32],\n",
       "       [4.93038066e-32],\n",
       "       [4.93038066e-32],\n",
       "       [4.93038066e-32],\n",
       "       [4.93038066e-32],\n",
       "       [4.93038066e-32],\n",
       "       [4.93038066e-32],\n",
       "       [4.93038066e-32],\n",
       "       [4.93038066e-32],\n",
       "       [4.93038066e-32],\n",
       "       [4.93038066e-32],\n",
       "       [4.93038066e-32],\n",
       "       [4.93038066e-32],\n",
       "       [4.93038066e-32],\n",
       "       [4.93038066e-32],\n",
       "       [2.70652703e-01],\n",
       "       [6.12025921e-03],\n",
       "       [1.53175951e+00],\n",
       "       [7.24494643e-01],\n",
       "       [7.76613932e-01],\n",
       "       [4.93038066e-32],\n",
       "       [2.56398191e-01],\n",
       "       [4.93038066e-32],\n",
       "       [4.93038066e-32],\n",
       "       [4.93038066e-32],\n",
       "       [4.93038066e-32],\n",
       "       [4.61259235e-02],\n",
       "       [2.48027144e-04],\n",
       "       [4.93038066e-32],\n",
       "       [4.93038066e-32],\n",
       "       [2.46222054e-02],\n",
       "       [4.93038066e-32],\n",
       "       [7.81576331e-02],\n",
       "       [2.51732375e-01],\n",
       "       [4.93038066e-32],\n",
       "       [4.93038066e-32],\n",
       "       [4.93038066e-32],\n",
       "       [4.93038066e-32],\n",
       "       [4.93038066e-32],\n",
       "       [4.93038066e-32],\n",
       "       [4.93038066e-32],\n",
       "       [3.29525935e-03],\n",
       "       [4.93038066e-32],\n",
       "       [4.93038066e-32],\n",
       "       [4.93038066e-32],\n",
       "       [4.93038066e-32],\n",
       "       [4.93038066e-32],\n",
       "       [4.93038066e-32],\n",
       "       [1.23665337e-04],\n",
       "       [4.93038066e-32],\n",
       "       [4.93038066e-32],\n",
       "       [4.93038066e-32],\n",
       "       [4.93038066e-32],\n",
       "       [4.93038066e-32],\n",
       "       [4.93038066e-32],\n",
       "       [4.93038066e-32],\n",
       "       [4.93038066e-32],\n",
       "       [4.93038066e-32],\n",
       "       [4.93038066e-32],\n",
       "       [4.93038066e-32],\n",
       "       [4.93038066e-32],\n",
       "       [4.93038066e-32],\n",
       "       [4.93038066e-32],\n",
       "       [4.93038066e-32],\n",
       "       [4.93038066e-32],\n",
       "       [4.93038066e-32],\n",
       "       [4.93038066e-32],\n",
       "       [4.93038066e-32],\n",
       "       [4.93038066e-32],\n",
       "       [4.93038066e-32],\n",
       "       [4.93038066e-32],\n",
       "       [4.93038066e-32],\n",
       "       [4.93038066e-32],\n",
       "       [4.93038066e-32],\n",
       "       [4.93038066e-32],\n",
       "       [4.93038066e-32],\n",
       "       [4.93038066e-32],\n",
       "       [4.93038066e-32],\n",
       "       [4.93038066e-32],\n",
       "       [4.93038066e-32],\n",
       "       [4.93038066e-32],\n",
       "       [4.93038066e-32],\n",
       "       [4.93038066e-32],\n",
       "       [4.93038066e-32],\n",
       "       [4.93038066e-32],\n",
       "       [4.93038066e-32],\n",
       "       [4.93038066e-32],\n",
       "       [4.93038066e-32],\n",
       "       [4.93038066e-32],\n",
       "       [4.93038066e-32],\n",
       "       [4.27843564e+00],\n",
       "       [7.36361506e-01],\n",
       "       [1.25354645e+00],\n",
       "       [4.93038066e-32],\n",
       "       [9.34861101e-01],\n",
       "       [8.78176024e-04],\n",
       "       [4.93038066e-32],\n",
       "       [4.93038066e-32],\n",
       "       [4.93038066e-32],\n",
       "       [4.93038066e-32],\n",
       "       [3.03492536e-03],\n",
       "       [2.42529274e-01],\n",
       "       [2.24637200e-01],\n",
       "       [4.93038066e-32],\n",
       "       [4.75759394e-03],\n",
       "       [4.93038066e-32],\n",
       "       [4.93038066e-32],\n",
       "       [4.93038066e-32],\n",
       "       [4.93038066e-32],\n",
       "       [4.93038066e-32],\n",
       "       [4.93038066e-32],\n",
       "       [4.93038066e-32],\n",
       "       [4.93038066e-32],\n",
       "       [4.93038066e-32],\n",
       "       [4.93038066e-32],\n",
       "       [4.93038066e-32],\n",
       "       [4.93038066e-32],\n",
       "       [4.93038066e-32],\n",
       "       [4.93038066e-32],\n",
       "       [4.93038066e-32],\n",
       "       [4.93038066e-32],\n",
       "       [4.93038066e-32],\n",
       "       [4.93038066e-32],\n",
       "       [4.93038066e-32],\n",
       "       [4.93038066e-32],\n",
       "       [4.93038066e-32],\n",
       "       [4.93038066e-32],\n",
       "       [4.93038066e-32],\n",
       "       [4.93038066e-32],\n",
       "       [4.93038066e-32],\n",
       "       [4.93038066e-32],\n",
       "       [4.93038066e-32],\n",
       "       [4.93038066e-32],\n",
       "       [4.93038066e-32],\n",
       "       [4.93038066e-32],\n",
       "       [4.93038066e-32],\n",
       "       [4.93038066e-32],\n",
       "       [4.93038066e-32],\n",
       "       [3.41085339e-02],\n",
       "       [3.42272186e-01],\n",
       "       [6.34015037e-02],\n",
       "       [1.84890888e-01],\n",
       "       [4.07384463e-01],\n",
       "       [1.63068814e+00],\n",
       "       [7.97141806e-01],\n",
       "       [1.69312385e-01],\n",
       "       [4.29760412e+00],\n",
       "       [3.96834131e+00],\n",
       "       [9.44561432e-02],\n",
       "       [4.68609555e-01],\n",
       "       [1.46379124e+00],\n",
       "       [3.98570228e-01],\n",
       "       [1.03120005e+00],\n",
       "       [1.99084405e-01],\n",
       "       [2.16494794e+00],\n",
       "       [2.83680569e+00],\n",
       "       [5.77919647e+00],\n",
       "       [2.09738252e+00],\n",
       "       [3.48607432e+00],\n",
       "       [1.14708563e+00],\n",
       "       [2.99684549e-02],\n",
       "       [4.93038066e-32],\n",
       "       [1.72813430e-02],\n",
       "       [4.93038066e-32],\n",
       "       [3.67211130e-02],\n",
       "       [4.93038066e-32],\n",
       "       [4.71253150e-02],\n",
       "       [4.74967705e-01],\n",
       "       [4.93038066e-32],\n",
       "       [7.25472343e-03],\n",
       "       [1.89392009e-03],\n",
       "       [1.89392009e-03],\n",
       "       [4.93038066e-32],\n",
       "       [4.93038066e-32],\n",
       "       [4.93038066e-32],\n",
       "       [4.93038066e-32],\n",
       "       [4.93038066e-32],\n",
       "       [4.93038066e-32],\n",
       "       [4.93038066e-32],\n",
       "       [4.93038066e-32],\n",
       "       [4.93038066e-32],\n",
       "       [4.93038066e-32],\n",
       "       [4.93038066e-32],\n",
       "       [4.93038066e-32],\n",
       "       [4.93038066e-32],\n",
       "       [4.93038066e-32],\n",
       "       [4.93038066e-32],\n",
       "       [4.93038066e-32],\n",
       "       [4.93038066e-32],\n",
       "       [4.93038066e-32],\n",
       "       [4.93038066e-32],\n",
       "       [3.98570228e-01],\n",
       "       [1.61780196e-01],\n",
       "       [4.93038066e-32],\n",
       "       [1.25047839e-01],\n",
       "       [3.95653571e-01],\n",
       "       [7.55911684e-02],\n",
       "       [4.03545055e-02],\n",
       "       [4.14052717e-03],\n",
       "       [2.13802760e-01],\n",
       "       [6.93624488e-02],\n",
       "       [7.43240025e-02],\n",
       "       [1.82906087e-01],\n",
       "       [3.50443762e-01],\n",
       "       [4.93038066e-32],\n",
       "       [4.93038066e-32],\n",
       "       [5.14902186e-04],\n",
       "       [3.89852392e-01],\n",
       "       [2.76129393e-02],\n",
       "       [3.76133946e-02],\n",
       "       [1.91548647e-02],\n",
       "       [4.93038066e-32],\n",
       "       [1.33784866e-03],\n",
       "       [4.93038066e-32],\n",
       "       [1.67232318e+00],\n",
       "       [1.54419384e-01],\n",
       "       [2.68491893e-02],\n",
       "       [4.40528070e-01],\n",
       "       [5.66018318e-02],\n",
       "       [4.93038066e-32],\n",
       "       [1.39189949e+00],\n",
       "       [4.93038066e-32],\n",
       "       [3.03492536e-03],\n",
       "       [5.76352643e-03],\n",
       "       [4.22354676e-02],\n",
       "       [4.93038066e-32],\n",
       "       [4.93038066e-32],\n",
       "       [4.93038066e-32],\n",
       "       [4.93038066e-32],\n",
       "       [4.93038066e-32],\n",
       "       [4.93038066e-32],\n",
       "       [4.93038066e-32],\n",
       "       [4.93038066e-32],\n",
       "       [4.93038066e-32],\n",
       "       [4.93038066e-32],\n",
       "       [4.93038066e-32],\n",
       "       [4.93038066e-32],\n",
       "       [4.93038066e-32],\n",
       "       [4.93038066e-32]])"
      ]
     },
     "execution_count": 89,
     "metadata": {},
     "output_type": "execute_result"
    }
   ],
   "source": [
    "we"
   ]
  },
  {
   "cell_type": "code",
   "execution_count": 38,
   "metadata": {},
   "outputs": [],
   "source": [
    "deriv(mu)"
   ]
  },
  {
   "cell_type": "code",
   "execution_count": null,
   "metadata": {},
   "outputs": [],
   "source": [
    "wi = "
   ]
  },
  {
   "cell_type": "code",
   "execution_count": 15,
   "metadata": {},
   "outputs": [],
   "source": [
    "xcc = np.array([1,2,4,6,8,7])\n",
    "xcc_o=1/xcc"
   ]
  },
  {
   "cell_type": "code",
   "execution_count": 19,
   "metadata": {},
   "outputs": [
    {
     "data": {
      "text/plain": [
       "array([ 2,  6, 20, 42, 72, 56])"
      ]
     },
     "execution_count": 19,
     "metadata": {},
     "output_type": "execute_result"
    }
   ],
   "source": [
    "xcc+xcc*xcc"
   ]
  },
  {
   "cell_type": "code",
   "execution_count": 200,
   "metadata": {},
   "outputs": [],
   "source": [
    "coords_i=coords[5]"
   ]
  },
  {
   "cell_type": "markdown",
   "metadata": {},
   "source": [
    "### Limited functionality Kernel function for constructing weights for each point"
   ]
  },
  {
   "cell_type": "code",
   "execution_count": 189,
   "metadata": {},
   "outputs": [],
   "source": [
    "def _kernel_funcs(zs,function):\n",
    "    # functions follow Anselin and Rey (2010) table 5.4\n",
    "    if function == 'triangular':\n",
    "        return 1 - zs\n",
    "    elif function == 'uniform':\n",
    "        return np.ones(zi.shape) * 0.5\n",
    "    elif function == 'quadratic':\n",
    "        return (3. / 4) * (1 - zs**2)\n",
    "    elif function == 'quartic':\n",
    "        return (15. / 16) * (1 - zs**2)**2\n",
    "    elif function == 'gaussian':\n",
    "        return np.exp(-0.5 * (zs)**2)\n",
    "    elif function == 'bisquare':\n",
    "        return (1 - (zs)**2)**2\n",
    "    elif function == 'exponential':\n",
    "        return np.exp(-zs)\n",
    "    else:\n",
    "        print('Unsupported kernel function', function)"
   ]
  },
  {
   "cell_type": "code",
   "execution_count": null,
   "metadata": {},
   "outputs": [],
   "source": []
  },
  {
   "cell_type": "code",
   "execution_count": 200,
   "metadata": {},
   "outputs": [],
   "source": [
    "import numpy as np\n",
    "#adaptive specifications should be parameterized with nn-1 to match original gwr\n",
    "#implementation. That is, pysal counts self neighbors with knn automatically.\n",
    "\n",
    "#Soft dependency of numba's njit\n",
    "try:\n",
    "    from numba import njit\n",
    "except ImportError:\n",
    "\n",
    "    def njit(func):\n",
    "        return func\n",
    "\n",
    "\n",
    "@njit\n",
    "def local_cdist(coords_i, coords, spherical):\n",
    "    \"\"\"\n",
    "    Compute Haversine (spherical=True) or Euclidean (spherical=False) distance for a local kernel.\n",
    "    \"\"\"\n",
    "    if spherical:\n",
    "        dLat = np.radians(coords[:, 1] - coords_i[1])\n",
    "        dLon = np.radians(coords[:, 0] - coords_i[0])\n",
    "        lat1 = np.radians(coords[:, 1])\n",
    "        lat2 = np.radians(coords_i[1])\n",
    "        a = np.sin(\n",
    "            dLat / 2)**2 + np.cos(lat1) * np.cos(lat2) * np.sin(dLon / 2)**2\n",
    "        c = 2 * np.arcsin(np.sqrt(a))\n",
    "        R = 6371.0\n",
    "        return R * c\n",
    "    else:\n",
    "        return np.sqrt(np.sum((coords_i - coords)**2, axis=1))\n",
    "\n",
    "\n",
    "class Kernel(object):\n",
    "    \"\"\"\n",
    "    GWR kernel function specifications.\n",
    "    \n",
    "    \"\"\"\n",
    "\n",
    "    def ker(i, data, bw, function, ids=None, points=None,fixed=True,\n",
    "                 eps=1.0000001, spherical=False):\n",
    "        \n",
    "        dvec = np.sqrt(np.sum((np.array(coords[i]) - np.array(coords))**2, axis=1)).reshape(-1)\n",
    "\n",
    "        bandwidth = float(bw)\n",
    "\n",
    "        kernel = _kernel_funcs(dvec / bandwidth,function)\n",
    "\n",
    "        if function == \"bisquare\":  #Truncate for bisquare\n",
    "            kernel[(dvec >= bandwidth)] = 0\n",
    "            \n",
    "        return kernel"
   ]
  },
  {
   "cell_type": "markdown",
   "metadata": {},
   "source": [
    "### Extra"
   ]
  },
  {
   "cell_type": "code",
   "execution_count": 44,
   "metadata": {},
   "outputs": [],
   "source": [
    "import sys\n",
    "sys.path.append(\"/Users/msachde1/Desktop/research_crime/crime_patterns_phoenix/mgwr-optim/mgwr_optim\")"
   ]
  },
  {
   "cell_type": "code",
   "execution_count": 45,
   "metadata": {},
   "outputs": [],
   "source": [
    "from mgwr.gwr import GWR\n",
    "import numpy as np\n",
    "from spglm.family import Gaussian, Binomial, Poisson\n",
    "from mgwr.gwr import MGWR\n",
    "from mgwr.sel_bw import Sel_BW\n",
    "import multiprocessing as mp\n",
    "pool = mp.Pool()"
   ]
  },
  {
   "cell_type": "code",
   "execution_count": 51,
   "metadata": {},
   "outputs": [],
   "source": [
    "Sel_BW?"
   ]
  },
  {
   "cell_type": "code",
   "execution_count": 112,
   "metadata": {},
   "outputs": [],
   "source": [
    "gwr_selector = Sel_BW(coords, y_std, x_std,family=Poisson(),offset=off)\n",
    "bws=gwr_selector.search(pool=pool)"
   ]
  },
  {
   "cell_type": "code",
   "execution_count": 113,
   "metadata": {},
   "outputs": [],
   "source": [
    "bws=gwr_selector.search(pool=pool)"
   ]
  },
  {
   "cell_type": "code",
   "execution_count": 114,
   "metadata": {},
   "outputs": [
    {
     "data": {
      "text/plain": [
       "261.0"
      ]
     },
     "execution_count": 114,
     "metadata": {},
     "output_type": "execute_result"
    }
   ],
   "source": [
    "bws"
   ]
  },
  {
   "cell_type": "code",
   "execution_count": 73,
   "metadata": {},
   "outputs": [],
   "source": [
    "bw=gwr_selector.search()"
   ]
  },
  {
   "cell_type": "code",
   "execution_count": 91,
   "metadata": {},
   "outputs": [],
   "source": [
    "Sel_BW?"
   ]
  },
  {
   "cell_type": "code",
   "execution_count": 79,
   "metadata": {},
   "outputs": [],
   "source": [
    "model_gwr=GWR(coords, y_std, x_std, bw=bw, fixed=False, kernel='bisquare',family=Poisson(),offset=off)"
   ]
  },
  {
   "cell_type": "code",
   "execution_count": 80,
   "metadata": {},
   "outputs": [],
   "source": [
    "results_gwr=model_gwr.fit()"
   ]
  },
  {
   "cell_type": "code",
   "execution_count": 90,
   "metadata": {},
   "outputs": [],
   "source": [
    "Sel_BW.search?"
   ]
  },
  {
   "cell_type": "code",
   "execution_count": 87,
   "metadata": {},
   "outputs": [
    {
     "data": {
      "text/plain": [
       "array([-198.62752976, -195.34815347, -199.78793378, -197.56910643,\n",
       "       -198.48232   , -200.06588007, -198.56727094, -199.40830771,\n",
       "       -198.18295964, -199.21149657, -198.9389133 , -199.06447476,\n",
       "       -199.30379944, -199.44712509, -199.62085504, -198.8529024 ,\n",
       "       -198.80349307, -198.40902837, -198.19346457, -199.50771634,\n",
       "       -199.11108225, -197.03960646, -197.84474149, -198.0577187 ,\n",
       "       -194.75652617, -195.6860298 , -195.86003341, -197.58188816,\n",
       "       -196.66662713, -199.55005145, -199.94136543, -200.20752568,\n",
       "       -195.46084363, -195.91768455, -196.05024097, -196.78026905,\n",
       "       -196.61073086, -196.07061779, -202.05650035, -198.13543566,\n",
       "       -200.02271518, -200.70699516, -200.15662151, -197.59689713,\n",
       "       -204.41218755, -203.22655628, -196.43248535, -199.93531949,\n",
       "       -198.92812571, -198.02003618, -203.60284772, -196.37211381,\n",
       "       -198.58216643, -199.62949794, -201.06561861, -200.16951488,\n",
       "       -199.53225816, -201.62430267, -202.57806599, -204.10010106,\n",
       "       -200.10392451, -203.61199943, -203.02631694, -203.87062727,\n",
       "       -204.37508146, -199.33419174, -197.46877042, -199.09750008,\n",
       "       -200.32042391, -202.84959242, -202.59730536, -200.44870418,\n",
       "       -198.13408829, -201.37253574, -196.51755892, -202.07807985,\n",
       "       -203.09263087, -198.62785252, -198.54420986, -203.24706315,\n",
       "       -203.72754227, -202.45358346, -202.10604898, -202.96820271,\n",
       "       -199.51062381, -199.89021782, -200.33751075, -201.64696229,\n",
       "       -200.88232987, -200.21916756, -199.37457532, -201.25820239,\n",
       "       -200.81208802, -198.78068779, -198.91952692, -197.25882849,\n",
       "       -198.93171682, -199.08309951, -199.51300796, -197.38508043,\n",
       "       -197.41380193, -197.92948064, -195.90045116, -196.606475  ,\n",
       "       -197.89497325, -197.82584463, -197.79506271, -196.4779583 ,\n",
       "       -197.29716078, -196.87691511, -199.41931307, -199.6988851 ,\n",
       "       -198.19457969, -203.8564571 , -203.27094639, -202.57762327,\n",
       "       -205.32607951, -201.22100294, -199.19719664, -203.51600775,\n",
       "       -199.65731358, -201.46119975, -202.32430844, -203.82110239,\n",
       "       -200.34105532, -204.8838128 , -200.18299254, -201.51776515,\n",
       "       -200.4631885 , -202.17897454, -204.24135428, -203.84121701,\n",
       "       -205.54031579, -202.61036365, -205.57784917, -201.95403759,\n",
       "       -197.72004665, -200.8458039 , -200.34934841, -200.02709171,\n",
       "       -200.61156476, -201.47623853, -201.14718821, -200.69915487,\n",
       "       -200.27658534, -202.77047209, -202.01334766, -201.28960743,\n",
       "       -201.18310969, -200.6528571 , -200.51198938, -199.95788912,\n",
       "       -199.57990089, -203.10828827, -203.58994512, -203.15271393,\n",
       "       -202.82953051, -204.29501015, -204.02609975, -203.62464843,\n",
       "       -204.60660297, -205.2395846 , -204.03377636, -202.95080642,\n",
       "       -202.62216714, -203.04513899, -205.10357875, -206.23414028,\n",
       "       -205.83149013, -206.66766914, -206.1421443 , -205.27245765,\n",
       "       -204.66098287, -205.19453434, -203.64718421, -202.3928979 ,\n",
       "       -201.66218178, -203.4488021 , -204.64050551, -200.65299625,\n",
       "       -201.97062512, -204.15598697, -204.83813808, -205.17538686,\n",
       "       -205.38427714, -205.68936201, -203.79141907, -205.7382173 ,\n",
       "       -205.07320909, -206.03692035, -205.73062001, -205.53220836,\n",
       "       -205.18532922, -205.43165866, -204.84366124, -205.4132685 ,\n",
       "       -205.50829446, -205.12766055, -205.03258895, -204.74202677,\n",
       "       -206.32377949, -204.8139668 , -204.59589166, -204.91622445,\n",
       "       -204.73738535, -205.77781689, -206.06835455, -204.60383363,\n",
       "       -204.39323372, -204.38454685, -204.13931809, -204.16833388,\n",
       "       -203.77290547, -203.00750104, -206.1752549 , -205.41411269,\n",
       "       -204.84922803, -205.06532051, -204.32338942, -204.94165595,\n",
       "       -203.76377459, -203.27073715, -206.11812448, -203.71944352,\n",
       "       -203.63239493, -205.14663589, -205.99120455, -204.90396325,\n",
       "       -202.95863514, -204.06532004, -206.71033039, -206.41848239,\n",
       "       -206.33464327, -206.43968982, -206.31194077, -206.41046741,\n",
       "       -206.14926475, -202.24920923, -202.36842135, -202.29533053,\n",
       "       -202.91645992, -202.37976975, -201.82745725, -205.2743224 ,\n",
       "       -200.73107519, -202.77522716, -204.16213929, -204.86675434,\n",
       "       -203.24915493, -204.05633686, -204.84713528, -204.23111973,\n",
       "       -201.59565017, -202.97171917, -201.70454248, -201.48072289,\n",
       "       -204.63584338, -203.88002121, -204.87284317, -203.8366026 ,\n",
       "       -204.26078081, -203.92841346])"
      ]
     },
     "execution_count": 87,
     "metadata": {},
     "output_type": "execute_result"
    }
   ],
   "source": [
    "results_gwr.tvalues[:,0]"
   ]
  },
  {
   "cell_type": "code",
   "execution_count": 69,
   "metadata": {},
   "outputs": [],
   "source": [
    "w=results_gwr.W"
   ]
  },
  {
   "cell_type": "code",
   "execution_count": 201,
   "metadata": {},
   "outputs": [],
   "source": [
    "def build_wi (i, bw):\n",
    "    wi = Kernel.ker(i=i, data=coords, bw=bw,function='exponential')\n",
    "    return wi        "
   ]
  },
  {
   "cell_type": "code",
   "execution_count": null,
   "metadata": {},
   "outputs": [],
   "source": [
    "fixed = True\n",
    "spherical = False\n",
    "function = 'bisquare'"
   ]
  },
  {
   "cell_type": "code",
   "execution_count": null,
   "metadata": {},
   "outputs": [],
   "source": [
    "rslt = iwls(y, X, offset, ini_params, fit_params, max_iter, wi=wi)"
   ]
  },
  {
   "cell_type": "code",
   "execution_count": null,
   "metadata": {},
   "outputs": [],
   "source": [
    "rslt_f = map()"
   ]
  },
  {
   "cell_type": "markdown",
   "metadata": {},
   "source": [
    "## 6/3/2019 - within the MGWR loop"
   ]
  },
  {
   "cell_type": "code",
   "execution_count": 117,
   "metadata": {},
   "outputs": [
    {
     "data": {
      "text/plain": [
       "262"
      ]
     },
     "execution_count": 117,
     "metadata": {},
     "output_type": "execute_result"
    }
   ],
   "source": [
    "len(y_std)"
   ]
  },
  {
   "cell_type": "code",
   "execution_count": 116,
   "metadata": {},
   "outputs": [],
   "source": [
    "class MGWR():\n",
    "    \"\"\"\n",
    "    Multiscale GWR estimation and inference.\n",
    "    Parameters\n",
    "    ----------\n",
    "    coords        : array-like\n",
    "                    n*2, collection of n sets of (x,y) coordinates of\n",
    "                    observatons; also used as calibration locations is\n",
    "                    'points' is set to None\n",
    "    y             : array\n",
    "                    n*1, dependent variable\n",
    "    X             : array\n",
    "                    n*k, independent variable, exlcuding the constant\n",
    "    selector      : sel_bw object\n",
    "                    valid sel_bw object that has successfully called\n",
    "                    the \"search\" method. This parameter passes on\n",
    "                    information from GAM model estimation including optimal\n",
    "                    bandwidths.\n",
    "    family        : family object\n",
    "                    underlying probability model; provides\n",
    "                    distribution-specific calculations\n",
    "    sigma2_v1     : boolean\n",
    "                    specify form of corrected denominator of sigma squared to use for\n",
    "                    model diagnostics; Acceptable options are:\n",
    "                    'True':       n-tr(S) (defualt)\n",
    "                    'False':     n-2(tr(S)+tr(S'S))\n",
    "    kernel        : string\n",
    "                    type of kernel function used to weight observations;\n",
    "                    available options:\n",
    "                    'gaussian'\n",
    "                    'bisquare'\n",
    "                    'exponential'\n",
    "    fixed         : boolean\n",
    "                    True for distance based kernel function and  False for\n",
    "                    adaptive (nearest neighbor) kernel function (default)\n",
    "    constant      : boolean\n",
    "                    True to include intercept (default) in model and False to exclude\n",
    "                    intercept.\n",
    "    spherical     : boolean\n",
    "                    True for shperical coordinates (long-lat),\n",
    "                    False for projected coordinates (defalut).\n",
    "    hat_matrix    : boolean\n",
    "                    True for computing and storing covariate-specific\n",
    "                    hat matrices R (n,n,k) and model hat matrix S (n,n).\n",
    "                    False (default) for computing MGWR inference on the fly.\n",
    "    Attributes\n",
    "    ----------\n",
    "    coords        : array-like\n",
    "                    n*2, collection of n sets of (x,y) coordinates of\n",
    "                    observatons; also used as calibration locations is\n",
    "                    'points' is set to None\n",
    "    y             : array\n",
    "                    n*1, dependent variable\n",
    "    X             : array\n",
    "                    n*k, independent variable, exlcuding the constant\n",
    "    selector      : sel_bw object\n",
    "                    valid sel_bw object that has successfully called\n",
    "                    the \"search\" method. This parameter passes on\n",
    "                    information from GAM model estimation including optimal\n",
    "                    bandwidths.\n",
    "    bw            : array-like\n",
    "                    collection of bandwidth values consisting of either a distance or N\n",
    "                    nearest neighbors; user specified or obtained using\n",
    "                    Sel_BW with fb=True. Order of values should the same as\n",
    "                    the order of columns associated with X\n",
    "    family        : family object\n",
    "                    underlying probability model; provides\n",
    "                    distribution-specific calculations\n",
    "    sigma2_v1     : boolean\n",
    "                    specify form of corrected denominator of sigma squared to use for\n",
    "                    model diagnostics; Acceptable options are:\n",
    "                    'True':       n-tr(S) (defualt)\n",
    "                    'False':     n-2(tr(S)+tr(S'S))\n",
    "    kernel        : string\n",
    "                    type of kernel function used to weight observations;\n",
    "                    available options:\n",
    "                    'gaussian'\n",
    "                    'bisquare'\n",
    "                    'exponential'\n",
    "    fixed         : boolean\n",
    "                    True for distance based kernel function and  False for\n",
    "                    adaptive (nearest neighbor) kernel function (default)\n",
    "    constant      : boolean\n",
    "                    True to include intercept (default) in model and False to exclude\n",
    "                    intercept.\n",
    "    spherical     : boolean\n",
    "                    True for shperical coordinates (long-lat),\n",
    "                    False for projected coordinates (defalut).\n",
    "    n             : integer\n",
    "                    number of observations\n",
    "    k             : integer\n",
    "                    number of independent variables\n",
    "    mean_y        : float\n",
    "                    mean of y\n",
    "    std_y         : float\n",
    "                    standard deviation of y\n",
    "    fit_params    : dict\n",
    "                    parameters passed into fit method to define estimation\n",
    "                    routine\n",
    "    W             : array-like\n",
    "                    list of n*n arrays, spatial weights matrices for weighting all\n",
    "                    observations from each calibration point: one for each\n",
    "                    covariate (k)\n",
    "    Examples\n",
    "    --------\n",
    "    #basic model calibration\n",
    "    >>> import libpysal as ps\n",
    "    >>> from mgwr.gwr import MGWR\n",
    "    >>> from mgwr.sel_bw import Sel_BW\n",
    "    >>> data = ps.io.open(ps.examples.get_path('GData_utm.csv'))\n",
    "    >>> coords = list(zip(data.by_col('X'), data.by_col('Y')))\n",
    "    >>> y = np.array(data.by_col('PctBach')).reshape((-1,1))\n",
    "    >>> rural = np.array(data.by_col('PctRural')).reshape((-1,1))\n",
    "    >>> fb = np.array(data.by_col('PctFB')).reshape((-1,1))\n",
    "    >>> african_amer = np.array(data.by_col('PctBlack')).reshape((-1,1))\n",
    "    >>> X = np.hstack([fb, african_amer, rural])\n",
    "    >>> X = (X - X.mean(axis=0)) / X.std(axis=0)\n",
    "    >>> y = (y - y.mean(axis=0)) / y.std(axis=0)\n",
    "    >>> selector = Sel_BW(coords, y, X, multi=True)\n",
    "    >>> selector.search(multi_bw_min=[2])\n",
    "    [92.0, 101.0, 136.0, 158.0]\n",
    "    >>> model = MGWR(coords, y, X, selector, fixed=False, kernel='bisquare', sigma2_v1=True)\n",
    "    >>> results = model.fit()\n",
    "    >>> print(results.params.shape)\n",
    "    (159, 4)\n",
    "    \"\"\"\n",
    "\n",
    "    def __init__(self, coords, y, X, selector, sigma2_v1=True,\n",
    "                 kernel='bisquare', fixed=False, constant=True,\n",
    "                 spherical=False, hat_matrix=False):\n",
    "        \"\"\"\n",
    "        Initialize class\n",
    "        \"\"\"\n",
    "        self.selector = selector\n",
    "        self.bws = self.selector.bw[0]  #final set of bandwidth\n",
    "        self.bws_history = selector.bw[1]  #bws history in backfitting\n",
    "        #self.bw_init = self.selector.bw_init  #initialization bandiwdth\n",
    "        self.family = Gaussian(\n",
    "        )  # manually set since we only support Gassian MGWR for now\n",
    "        GWR.__init__(self, coords, y, X, self.bw_init, family=self.family,\n",
    "                     sigma2_v1=sigma2_v1, kernel=kernel, fixed=fixed,\n",
    "                     constant=constant, spherical=spherical,\n",
    "                     hat_matrix=hat_matrix)\n",
    "        self.selector = selector\n",
    "        self.sigma2_v1 = sigma2_v1\n",
    "        self.points = None\n",
    "        self.P = None\n",
    "        self.offset = None\n",
    "        self.exog_resid = None\n",
    "        self.exog_scale = None\n",
    "        self_fit_params = None\n",
    "\n",
    "    def _chunk_compute_R(self, chunk_id=0,X,y):\n",
    "        \"\"\"\n",
    "        Compute MGWR inference by chunks to reduce memory footprint.\n",
    "        \"\"\"\n",
    "        #n = self.n\n",
    "        #k = self.k\n",
    "        #n_chunks = self.n_chunks\n",
    "        n=262\n",
    "        k=1\n",
    "        n_chunks=1\n",
    "        chunk_size = int(np.ceil(float(n / n_chunks)))\n",
    "        #ENP_j = np.zeros(self.k)\n",
    "        #CCT = np.zeros((self.n, self.k))\n",
    "        ENP_j = np.zeros(k)\n",
    "        CCT = np.zeros((n,k))\n",
    "\n",
    "        chunk_index = np.arange(n)[chunk_id * chunk_size:(chunk_id + 1) *\n",
    "                                   chunk_size]\n",
    "        init_pR = np.zeros((n, len(chunk_index)))\n",
    "        init_pR[chunk_index, :] = np.eye(len(chunk_index))\n",
    "        pR = np.zeros((n, len(chunk_index),\n",
    "                       k))  #partial R: n by chunk_size by k\n",
    "        bw_init=selector.bw_init\n",
    "\n",
    "        for i in range(n):\n",
    "            wi = build_wi(i, bw_init).reshape(-1, 1)\n",
    "            xT = (X * wi).T\n",
    "            P = np.linalg.solve(xT.dot(X), xT).dot(init_pR).T\n",
    "            pR[i, :, :] = P * self.X[i]\n",
    "\n",
    "        err = init_pR - np.sum(pR, axis=2)  #n by chunk_size\n",
    "        print(err) #checking the value\n",
    "        \n",
    "        for iter_i in range(self.bws_history.shape[0]):\n",
    "            for j in range(k):\n",
    "                pRj_old = pR[:, :, j] + err\n",
    "                Xj = self.X[:, j]\n",
    "                n_chunks_Aj = n_chunks\n",
    "                chunk_size_Aj = int(np.ceil(float(n / n_chunks_Aj)))\n",
    "                for chunk_Aj in range(n_chunks_Aj):\n",
    "                    chunk_index_Aj = np.arange(n)[chunk_Aj * chunk_size_Aj:(\n",
    "                        chunk_Aj + 1) * chunk_size_Aj]\n",
    "                    pAj = np.empty((len(chunk_index_Aj), n))\n",
    "                    for i in range(len(chunk_index_Aj)):\n",
    "                        index = chunk_index_Aj[i]\n",
    "                        wi = self._build_wi(index, self.bws_history[iter_i, j])\n",
    "                        xw = Xj * wi\n",
    "                        pAj[i, :] = Xj[index] / np.sum(xw * Xj) * xw\n",
    "                    pR[chunk_index_Aj, :, j] = pAj.dot(pRj_old)\n",
    "                err = pRj_old - pR[:, :, j]\n",
    "\n",
    "        for j in range(k):\n",
    "            CCT[:, j] += ((pR[:, :, j] / self.X[:, j].reshape(-1, 1))**2).sum(\n",
    "                axis=1)\n",
    "        for i in range(len(chunk_index)):\n",
    "            ENP_j += pR[chunk_index[i], i, :]\n",
    "\n",
    "        if self.hat_matrix:\n",
    "            return ENP_j, CCT, pR\n",
    "        return ENP_j, CCT\n",
    "\n",
    "    def fit(self, n_chunks=1, pool=None):\n",
    "        \"\"\"\n",
    "        Compute MGWR inference by chunk to reduce memory footprint.\n",
    "        \n",
    "        Parameters\n",
    "        ----------\n",
    "        n_chunks      : integer, optional\n",
    "                        A number of chunks parameter to reduce memory usage. \n",
    "                        e.g. n_chunks=2 should reduce overall memory usage by 2.\n",
    "        pool          : A multiprocessing Pool object to enable parallel fitting; default is None.\n",
    "                        \n",
    "        Returns\n",
    "        -------\n",
    "                      : MGWRResults\n",
    "        \"\"\"\n",
    "        params = self.selector.params\n",
    "        predy = np.sum(self.X * params, axis=1).reshape(-1, 1)\n",
    "\n",
    "        try:\n",
    "            from tqdm.autonotebook import tqdm  #progress bar\n",
    "        except ImportError:\n",
    "\n",
    "            def tqdm(x, total=0,\n",
    "                     desc=''):  #otherwise, just passthrough the range\n",
    "                return x\n",
    "\n",
    "        if pool:\n",
    "            self.n_chunks = pool._processes * n_chunks\n",
    "            rslt = tqdm(\n",
    "                pool.imap(self._chunk_compute_R, range(self.n_chunks)),\n",
    "                total=self.n_chunks, desc='Inference')\n",
    "        else:\n",
    "            self.n_chunks = n_chunks\n",
    "            rslt = map(self._chunk_compute_R,\n",
    "                       tqdm(range(self.n_chunks), desc='Inference'))\n",
    "\n",
    "        rslt_list = list(zip(*rslt))\n",
    "        ENP_j = np.sum(np.array(rslt_list[0]), axis=0)\n",
    "        CCT = np.sum(np.array(rslt_list[1]), axis=0)\n",
    "\n",
    "        w = np.ones(self.n)\n",
    "        if self.hat_matrix:\n",
    "            R = np.hstack(rslt_list[2])\n",
    "        else:\n",
    "            R = None\n",
    "        return MGWRResults(self, params, predy, CCT, ENP_j, w, R)\n",
    "\n",
    "    def predict(self):\n",
    "        '''\n",
    "        Not implemented.\n",
    "        '''\n",
    "        raise NotImplementedError('N/A')"
   ]
  },
  {
   "cell_type": "code",
   "execution_count": null,
   "metadata": {},
   "outputs": [],
   "source": [
    "GWR.__init__(self,coords, y, X, self.bw_init, family=self.family,\n",
    "             sigma2_v1=sigma2_v1, kernel=kernel, fixed=fixed,\n",
    "             constant=constant, spherical=spherical,\n",
    "             hat_matrix=hat_matrix)"
   ]
  },
  {
   "cell_type": "code",
   "execution_count": 345,
   "metadata": {},
   "outputs": [],
   "source": [
    "selector = selector_in\n",
    "bws = selector.bw[0]  #final set of bandwidth\n",
    "bws_history = selector.bw[1]  #bws history in backfitting\n",
    "bw_init = selector.bw_init  #initialization bandiwdth\n",
    "family = Gaussian()  # manually set since we only support Gassian MGWR for now\n",
    "selector = selector\n",
    "#sigma2_v1 = sigma2_v1\n",
    "points = None\n",
    "P = None\n",
    "offset = None\n",
    "exog_resid = None\n",
    "exog_scale = None\n",
    "self_fit_params = None"
   ]
  },
  {
   "cell_type": "code",
   "execution_count": 325,
   "metadata": {},
   "outputs": [
    {
     "data": {
      "text/plain": [
       "1"
      ]
     },
     "execution_count": 325,
     "metadata": {},
     "output_type": "execute_result"
    }
   ],
   "source": [
    "x_std.shape[1]"
   ]
  },
  {
   "cell_type": "code",
   "execution_count": 349,
   "metadata": {},
   "outputs": [
    {
     "name": "stdout",
     "output_type": "stream",
     "text": [
      "[[ 1.11022302e-016  4.66459341e-233  1.82574858e-093 ...  0.00000000e+000\n",
      "   0.00000000e+000  0.00000000e+000]\n",
      " [ 1.67422270e-233  0.00000000e+000 -1.06980795e-262 ...  0.00000000e+000\n",
      "   0.00000000e+000  0.00000000e+000]\n",
      " [ 5.57507982e-094 -9.10157404e-263  0.00000000e+000 ...  0.00000000e+000\n",
      "   0.00000000e+000  0.00000000e+000]\n",
      " ...\n",
      " [ 0.00000000e+000  0.00000000e+000  0.00000000e+000 ...  0.00000000e+000\n",
      "   9.47951000e-045 -4.36144234e-044]\n",
      " [ 0.00000000e+000  0.00000000e+000  0.00000000e+000 ...  1.93419542e-044\n",
      "   0.00000000e+000  3.79215097e-025]\n",
      " [ 0.00000000e+000  0.00000000e+000  0.00000000e+000 ... -3.10693186e-042\n",
      "   1.32395355e-023  0.00000000e+000]]\n"
     ]
    }
   ],
   "source": [
    "en,cct= _chunk_compute_R(x_std,y_std,coords,selector_in)"
   ]
  },
  {
   "cell_type": "code",
   "execution_count": null,
   "metadata": {},
   "outputs": [],
   "source": [
    "self, coords, y, X, bw, family=Gaussian(), offset=None,\n",
    "                 sigma2_v1=True, kernel='bisquare', fixed=False, constant=True,\n",
    "                 spherical=False, hat_matrix=False"
   ]
  },
  {
   "cell_type": "code",
   "execution_count": 587,
   "metadata": {},
   "outputs": [],
   "source": [
    "selector = selector_in\n",
    "bws = selector.bw[0]  #final set of bandwidth\n",
    "bws_history = selector.bw[1]  #bws history in backfitting\n",
    "bw_init = selector.bw_init  #initialization bandiwdth\n",
    "family = Gaussian()  # manually set since we only support Gassian MGWR for now\n",
    "selector = selector\n",
    "#sigma2_v1 = sigma2_v1\n",
    "points = None\n",
    "P = None\n",
    "offset = None\n",
    "exog_resid = None\n",
    "exog_scale = None\n",
    "self_fit_params = None"
   ]
  },
  {
   "cell_type": "code",
   "execution_count": 588,
   "metadata": {},
   "outputs": [],
   "source": [
    "constant = True\n",
    "sigma2_v1 = True\n",
    "coords = coords\n",
    "kernel = 'bisquare'\n",
    "fixed = False\n",
    "#if offset is None:\n",
    " #   self.offset = np.ones((self.n, 1))\n",
    "#else:\n",
    " #   self.offset = offset * 1.0\n",
    "fit_params = {}\n",
    "\n",
    "points = None\n",
    "exog_scale = None\n",
    "exog_resid = None\n",
    "P = None\n",
    "spherical = False\n",
    "hat_matrix = False"
   ]
  },
  {
   "cell_type": "code",
   "execution_count": 589,
   "metadata": {},
   "outputs": [],
   "source": [
    "def _chunk_compute_R(X,y,coords,selector,n_chunks,chunk_id=0):\n",
    "    \"\"\"\n",
    "    Compute MGWR inference by chunks to reduce memory footprint.\n",
    "    \"\"\"\n",
    "    #n = self.n\n",
    "    #k = self.k\n",
    "    #n_chunks = self.n_chunks\n",
    "    #selector = selector\n",
    "    bws = selector.bw[0]  #final set of bandwidth\n",
    "    bws_history = selector.bw[1]  #bws history in backfitting\n",
    "    bw_init = selector.bw_init  #initialization bandiwdth\n",
    "    family = Gaussian()  # manually set since we only support Gassian MGWR for now\n",
    "    points = None\n",
    "    P = None\n",
    "    offset = None\n",
    "    exog_resid = None\n",
    "    exog_scale = None\n",
    "    self_fit_params = None\n",
    "    n=y.shape[0]\n",
    "    k=X.shape[1]\n",
    "    n_chunks=n_chunks\n",
    "    chunk_size = int(np.ceil(float(n / n_chunks)))\n",
    "    #ENP_j = np.zeros(self.k)\n",
    "    #CCT = np.zeros((self.n, self.k))\n",
    "    ENP_j = np.zeros(k)\n",
    "    CCT = np.zeros((n,k))\n",
    "\n",
    "    chunk_index = np.arange(n)[chunk_id * chunk_size:(chunk_id + 1) *\n",
    "                               chunk_size]\n",
    "    init_pR = np.zeros((n, len(chunk_index)))\n",
    "    init_pR[chunk_index, :] = np.eye(len(chunk_index))\n",
    "    pR = np.zeros((n, len(chunk_index),\n",
    "                   k))  #partial R: n by chunk_size by k\n",
    "    bw_init=selector.bw_init\n",
    "\n",
    "    for i in range(n):\n",
    "        wi = build_wi(i, bw_init).reshape(-1, 1)\n",
    "        xT = (X * wi).T\n",
    "        P = np.linalg.solve(xT.dot(X), xT).dot(init_pR).T\n",
    "        pR[i, :, :] = P * X[i]\n",
    "\n",
    "    err = init_pR - np.sum(pR, axis=2)  #n by chunk_size\n",
    "    #print(err) #checking the value\n",
    "\n",
    "    for iter_i in range(bws_history.shape[0]):\n",
    "        for j in range(k):\n",
    "            pRj_old = pR[:, :, j] + err\n",
    "            Xj = X[:, j]\n",
    "            n_chunks_Aj = n_chunks\n",
    "            chunk_size_Aj = int(np.ceil(float(n / n_chunks_Aj)))\n",
    "            for chunk_Aj in range(n_chunks_Aj):\n",
    "                chunk_index_Aj = np.arange(n)[chunk_Aj * chunk_size_Aj:(\n",
    "                    chunk_Aj + 1) * chunk_size_Aj]\n",
    "                pAj = np.empty((len(chunk_index_Aj), n))\n",
    "                for i in range(len(chunk_index_Aj)):\n",
    "                    index = chunk_index_Aj[i]\n",
    "                    wi = build_wi(index, bws_history[iter_i, j])\n",
    "                    xw = Xj * wi\n",
    "                    pAj[i, :] = Xj[index] / np.sum(xw * Xj) * xw\n",
    "                pR[chunk_index_Aj, :, j] = pAj.dot(pRj_old)\n",
    "            err = pRj_old - pR[:, :, j]\n",
    "\n",
    "    for j in range(k):\n",
    "        CCT[:, j] += ((pR[:, :, j] / X[:, j].reshape(-1, 1))**2).sum(\n",
    "            axis=1)\n",
    "    for i in range(len(chunk_index)):\n",
    "        ENP_j += pR[chunk_index[i], i, :]\n",
    "\n",
    "    if hat_matrix:\n",
    "        return ENP_j, CCT, pR\n",
    "    return ENP_j, CCT"
   ]
  },
  {
   "cell_type": "code",
   "execution_count": null,
   "metadata": {},
   "outputs": [],
   "source": [
    "e,cc=_chunk_compute_R(x_std,y_std,coords,selector_in,n_chunks=1)"
   ]
  },
  {
   "cell_type": "code",
   "execution_count": 608,
   "metadata": {},
   "outputs": [
    {
     "data": {
      "text/plain": [
       "array([262.])"
      ]
     },
     "execution_count": 608,
     "metadata": {},
     "output_type": "execute_result"
    }
   ],
   "source": [
    "e"
   ]
  },
  {
   "cell_type": "markdown",
   "metadata": {},
   "source": [
    "### ENP_j, CCT, pR, params"
   ]
  },
  {
   "cell_type": "markdown",
   "metadata": {},
   "source": [
    "### Selector"
   ]
  },
  {
   "cell_type": "code",
   "execution_count": 599,
   "metadata": {},
   "outputs": [
    {
     "data": {
      "application/vnd.jupyter.widget-view+json": {
       "model_id": "7fc34c95df5a4a07b151e20a47e68675",
       "version_major": 2,
       "version_minor": 0
      },
      "text/plain": [
       "HBox(children=(IntProgress(value=0, description='backfitting', max=200), HTML(value='')))"
      ]
     },
     "metadata": {},
     "output_type": "display_data"
    },
    {
     "data": {
      "text/plain": [
       "array([ 23., 261.])"
      ]
     },
     "execution_count": 599,
     "metadata": {},
     "output_type": "execute_result"
    }
   ],
   "source": [
    "selector_in = Sel_BW(coords, y_std, x_std, multi=True)\n",
    "selector_in.search(multi_bw_min=[2])"
   ]
  },
  {
   "cell_type": "code",
   "execution_count": 603,
   "metadata": {},
   "outputs": [],
   "source": [
    "selector_gwrg = Sel_BW(coords, y_std, x_std).search()"
   ]
  },
  {
   "cell_type": "code",
   "execution_count": 604,
   "metadata": {},
   "outputs": [
    {
     "data": {
      "text/plain": [
       "85.0"
      ]
     },
     "execution_count": 604,
     "metadata": {},
     "output_type": "execute_result"
    }
   ],
   "source": [
    "selector_gwrg"
   ]
  },
  {
   "cell_type": "code",
   "execution_count": 601,
   "metadata": {},
   "outputs": [],
   "source": [
    "selector_gwr = Sel_BW(coords, y_std, x_std,family=Poisson(),offset=off).search()"
   ]
  },
  {
   "cell_type": "code",
   "execution_count": 602,
   "metadata": {},
   "outputs": [
    {
     "data": {
      "text/plain": [
       "261.0"
      ]
     },
     "execution_count": 602,
     "metadata": {},
     "output_type": "execute_result"
    }
   ],
   "source": [
    "selector_gwr"
   ]
  },
  {
   "cell_type": "code",
   "execution_count": null,
   "metadata": {},
   "outputs": [],
   "source": [
    "selector_inp = Sel_BW(coords, y_std, x_std, multi=True,family=Poisson(),offset=off)\n",
    "selector_inp.search()"
   ]
  },
  {
   "cell_type": "code",
   "execution_count": 581,
   "metadata": {},
   "outputs": [],
   "source": [
    "def fit(selector,X,y,coords,n_chunks=1, pool=None):\n",
    "    constant = True\n",
    "    sigma2_v1 = True\n",
    "    coords = coords\n",
    "    kernel = 'bisquare'\n",
    "    fixed = False\n",
    "    #if offset is None:\n",
    "     #   self.offset = np.ones((self.n, 1))\n",
    "    #else:\n",
    "     #   self.offset = offset * 1.0\n",
    "    fit_params = {}\n",
    "\n",
    "    points = None\n",
    "    exog_scale = None\n",
    "    exog_resid = None\n",
    "    P = None\n",
    "    spherical = False\n",
    "    hat_matrix = False\n",
    "    \n",
    "    n=y.shape[0]\n",
    "    \n",
    "    params = selector.params\n",
    "    predy = np.sum(X * params, axis=1).reshape(-1, 1)\n",
    "    \n",
    "    if pool:\n",
    "        n_chunks = pool._processes * n_chunks\n",
    "        print(\"this\")\n",
    "        print(n_chunks)\n",
    "        print(_chunk_compute_R(X,y,coords,selector,n_chunks))\n",
    "        rslt = pool.imap(_chunk_compute_R(X,y,coords,selector,n_chunks), range(n_chunks))\n",
    "    else:\n",
    "        n_chunks = n_chunks\n",
    "        print(n_chunks)\n",
    "        print(_chunk_compute_R(X,y,coords,selector,n_chunks))\n",
    "        r = map(_chunk_compute_R(X,y,coords,selector,n_chunks),\n",
    "                   tqdm(range(n_chunks), desc='Inference'))\n",
    "        \n",
    "    rslt_list = list(zip(*rslt))\n",
    "    ENP_j = np.sum(np.array(rslt_list[0]), axis=0)\n",
    "    CCT = np.sum(np.array(rslt_list[1]), axis=0)\n",
    "\n",
    "    w = np.ones(n)\n",
    "    if hat_matrix:\n",
    "        R = np.hstack(rslt_list[2])\n",
    "    else:\n",
    "        R = None\n",
    "    return params, predy, CCT, ENP_j, w, R"
   ]
  },
  {
   "cell_type": "code",
   "execution_count": 554,
   "metadata": {},
   "outputs": [],
   "source": [
    "n_chunks=12"
   ]
  },
  {
   "cell_type": "code",
   "execution_count": 511,
   "metadata": {},
   "outputs": [
    {
     "data": {
      "text/plain": [
       "array([ 23., 261.])"
      ]
     },
     "execution_count": 511,
     "metadata": {},
     "output_type": "execute_result"
    }
   ],
   "source": [
    "selector_in.bw[0]"
   ]
  },
  {
   "cell_type": "code",
   "execution_count": 553,
   "metadata": {},
   "outputs": [
    {
     "name": "stdout",
     "output_type": "stream",
     "text": [
      "this\n",
      "12\n",
      "(array([22.]), array([[3.20888813e+001],\n",
      "       [1.15173882e+001],\n",
      "       [9.79861500e+000],\n",
      "       [8.44390203e-001],\n",
      "       [8.44390203e-001],\n",
      "       [3.64578378e+000],\n",
      "       [5.81432345e-001],\n",
      "       [1.31531956e+001],\n",
      "       [1.39094861e-001],\n",
      "       [8.44390203e-001],\n",
      "       [1.70493508e+000],\n",
      "       [6.20661337e+001],\n",
      "       [4.70009862e+001],\n",
      "       [5.02533300e-001],\n",
      "       [3.98434573e-001],\n",
      "       [6.80483234e-001],\n",
      "       [5.02533300e-001],\n",
      "       [6.53472826e-001],\n",
      "       [3.72888353e+000],\n",
      "       [8.84231729e-001],\n",
      "       [8.44390203e-001],\n",
      "       [3.23624706e-001],\n",
      "       [6.16414886e-205],\n",
      "       [0.00000000e+000],\n",
      "       [4.26855501e-164],\n",
      "       [1.44522447e-304],\n",
      "       [9.94811062e-248],\n",
      "       [1.32835595e-275],\n",
      "       [0.00000000e+000],\n",
      "       [4.16417688e-246],\n",
      "       [4.83967094e-162],\n",
      "       [1.01590590e-241],\n",
      "       [0.00000000e+000],\n",
      "       [0.00000000e+000],\n",
      "       [0.00000000e+000],\n",
      "       [0.00000000e+000],\n",
      "       [0.00000000e+000],\n",
      "       [0.00000000e+000],\n",
      "       [0.00000000e+000],\n",
      "       [0.00000000e+000],\n",
      "       [0.00000000e+000],\n",
      "       [0.00000000e+000],\n",
      "       [0.00000000e+000],\n",
      "       [0.00000000e+000],\n",
      "       [0.00000000e+000],\n",
      "       [0.00000000e+000],\n",
      "       [0.00000000e+000],\n",
      "       [0.00000000e+000],\n",
      "       [0.00000000e+000],\n",
      "       [0.00000000e+000],\n",
      "       [0.00000000e+000],\n",
      "       [0.00000000e+000],\n",
      "       [0.00000000e+000],\n",
      "       [0.00000000e+000],\n",
      "       [0.00000000e+000],\n",
      "       [0.00000000e+000],\n",
      "       [0.00000000e+000],\n",
      "       [0.00000000e+000],\n",
      "       [0.00000000e+000],\n",
      "       [0.00000000e+000],\n",
      "       [0.00000000e+000],\n",
      "       [0.00000000e+000],\n",
      "       [0.00000000e+000],\n",
      "       [0.00000000e+000],\n",
      "       [0.00000000e+000],\n",
      "       [0.00000000e+000],\n",
      "       [0.00000000e+000],\n",
      "       [0.00000000e+000],\n",
      "       [0.00000000e+000],\n",
      "       [0.00000000e+000],\n",
      "       [0.00000000e+000],\n",
      "       [0.00000000e+000],\n",
      "       [0.00000000e+000],\n",
      "       [0.00000000e+000],\n",
      "       [0.00000000e+000],\n",
      "       [0.00000000e+000],\n",
      "       [0.00000000e+000],\n",
      "       [0.00000000e+000],\n",
      "       [0.00000000e+000],\n",
      "       [0.00000000e+000],\n",
      "       [0.00000000e+000],\n",
      "       [0.00000000e+000],\n",
      "       [0.00000000e+000],\n",
      "       [0.00000000e+000],\n",
      "       [0.00000000e+000],\n",
      "       [0.00000000e+000],\n",
      "       [0.00000000e+000],\n",
      "       [0.00000000e+000],\n",
      "       [0.00000000e+000],\n",
      "       [0.00000000e+000],\n",
      "       [0.00000000e+000],\n",
      "       [0.00000000e+000],\n",
      "       [0.00000000e+000],\n",
      "       [0.00000000e+000],\n",
      "       [0.00000000e+000],\n",
      "       [0.00000000e+000],\n",
      "       [0.00000000e+000],\n",
      "       [0.00000000e+000],\n",
      "       [0.00000000e+000],\n",
      "       [0.00000000e+000],\n",
      "       [0.00000000e+000],\n",
      "       [0.00000000e+000],\n",
      "       [1.53163292e-158],\n",
      "       [9.34778935e-198],\n",
      "       [0.00000000e+000],\n",
      "       [0.00000000e+000],\n",
      "       [0.00000000e+000],\n",
      "       [5.57170163e-233],\n",
      "       [0.00000000e+000],\n",
      "       [0.00000000e+000],\n",
      "       [0.00000000e+000],\n",
      "       [0.00000000e+000],\n",
      "       [0.00000000e+000],\n",
      "       [0.00000000e+000],\n",
      "       [0.00000000e+000],\n",
      "       [0.00000000e+000],\n",
      "       [0.00000000e+000],\n",
      "       [0.00000000e+000],\n",
      "       [0.00000000e+000],\n",
      "       [0.00000000e+000],\n",
      "       [0.00000000e+000],\n",
      "       [0.00000000e+000],\n",
      "       [0.00000000e+000],\n",
      "       [0.00000000e+000],\n",
      "       [0.00000000e+000],\n",
      "       [0.00000000e+000],\n",
      "       [0.00000000e+000],\n",
      "       [0.00000000e+000],\n",
      "       [1.76387629e-159],\n",
      "       [0.00000000e+000],\n",
      "       [0.00000000e+000],\n",
      "       [0.00000000e+000],\n",
      "       [0.00000000e+000],\n",
      "       [0.00000000e+000],\n",
      "       [0.00000000e+000],\n",
      "       [0.00000000e+000],\n",
      "       [5.76007332e-254],\n",
      "       [2.18198145e-312],\n",
      "       [0.00000000e+000],\n",
      "       [0.00000000e+000],\n",
      "       [0.00000000e+000],\n",
      "       [0.00000000e+000],\n",
      "       [0.00000000e+000],\n",
      "       [0.00000000e+000],\n",
      "       [2.93158440e-203],\n",
      "       [0.00000000e+000],\n",
      "       [0.00000000e+000],\n",
      "       [0.00000000e+000],\n",
      "       [0.00000000e+000],\n",
      "       [0.00000000e+000],\n",
      "       [0.00000000e+000],\n",
      "       [0.00000000e+000],\n",
      "       [0.00000000e+000],\n",
      "       [0.00000000e+000],\n",
      "       [0.00000000e+000],\n",
      "       [0.00000000e+000],\n",
      "       [0.00000000e+000],\n",
      "       [0.00000000e+000],\n",
      "       [0.00000000e+000],\n",
      "       [0.00000000e+000],\n",
      "       [0.00000000e+000],\n",
      "       [0.00000000e+000],\n",
      "       [0.00000000e+000],\n",
      "       [0.00000000e+000],\n",
      "       [0.00000000e+000],\n",
      "       [0.00000000e+000],\n",
      "       [0.00000000e+000],\n",
      "       [0.00000000e+000],\n",
      "       [0.00000000e+000],\n",
      "       [0.00000000e+000],\n",
      "       [0.00000000e+000],\n",
      "       [0.00000000e+000],\n",
      "       [0.00000000e+000],\n",
      "       [0.00000000e+000],\n",
      "       [0.00000000e+000],\n",
      "       [0.00000000e+000],\n",
      "       [0.00000000e+000],\n",
      "       [0.00000000e+000],\n",
      "       [0.00000000e+000],\n",
      "       [0.00000000e+000],\n",
      "       [0.00000000e+000],\n",
      "       [0.00000000e+000],\n",
      "       [0.00000000e+000],\n",
      "       [0.00000000e+000],\n",
      "       [0.00000000e+000],\n",
      "       [0.00000000e+000],\n",
      "       [0.00000000e+000],\n",
      "       [0.00000000e+000],\n",
      "       [0.00000000e+000],\n",
      "       [0.00000000e+000],\n",
      "       [0.00000000e+000],\n",
      "       [0.00000000e+000],\n",
      "       [0.00000000e+000],\n",
      "       [0.00000000e+000],\n",
      "       [0.00000000e+000],\n",
      "       [0.00000000e+000],\n",
      "       [0.00000000e+000],\n",
      "       [0.00000000e+000],\n",
      "       [0.00000000e+000],\n",
      "       [0.00000000e+000],\n",
      "       [0.00000000e+000],\n",
      "       [0.00000000e+000],\n",
      "       [0.00000000e+000],\n",
      "       [0.00000000e+000],\n",
      "       [0.00000000e+000],\n",
      "       [0.00000000e+000],\n",
      "       [0.00000000e+000],\n",
      "       [0.00000000e+000],\n",
      "       [0.00000000e+000],\n",
      "       [0.00000000e+000],\n",
      "       [0.00000000e+000],\n",
      "       [0.00000000e+000],\n",
      "       [0.00000000e+000],\n",
      "       [0.00000000e+000],\n",
      "       [0.00000000e+000],\n",
      "       [0.00000000e+000],\n",
      "       [0.00000000e+000],\n",
      "       [0.00000000e+000],\n",
      "       [0.00000000e+000],\n",
      "       [0.00000000e+000],\n",
      "       [0.00000000e+000],\n",
      "       [0.00000000e+000],\n",
      "       [0.00000000e+000],\n",
      "       [0.00000000e+000],\n",
      "       [0.00000000e+000],\n",
      "       [0.00000000e+000],\n",
      "       [0.00000000e+000],\n",
      "       [0.00000000e+000],\n",
      "       [0.00000000e+000],\n",
      "       [0.00000000e+000],\n",
      "       [0.00000000e+000],\n",
      "       [0.00000000e+000],\n",
      "       [0.00000000e+000],\n",
      "       [0.00000000e+000],\n",
      "       [0.00000000e+000],\n",
      "       [0.00000000e+000],\n",
      "       [0.00000000e+000],\n",
      "       [0.00000000e+000],\n",
      "       [0.00000000e+000],\n",
      "       [0.00000000e+000],\n",
      "       [0.00000000e+000],\n",
      "       [0.00000000e+000],\n",
      "       [0.00000000e+000],\n",
      "       [0.00000000e+000],\n",
      "       [0.00000000e+000],\n",
      "       [0.00000000e+000],\n",
      "       [0.00000000e+000],\n",
      "       [0.00000000e+000],\n",
      "       [0.00000000e+000],\n",
      "       [0.00000000e+000],\n",
      "       [0.00000000e+000],\n",
      "       [0.00000000e+000],\n",
      "       [0.00000000e+000],\n",
      "       [0.00000000e+000],\n",
      "       [0.00000000e+000],\n",
      "       [0.00000000e+000],\n",
      "       [0.00000000e+000],\n",
      "       [0.00000000e+000],\n",
      "       [0.00000000e+000],\n",
      "       [0.00000000e+000],\n",
      "       [0.00000000e+000],\n",
      "       [0.00000000e+000]]))\n"
     ]
    },
    {
     "ename": "TypeError",
     "evalue": "'tuple' object is not callable",
     "output_type": "error",
     "traceback": [
      "\u001b[1;31m---------------------------------------------------------------------------\u001b[0m",
      "\u001b[1;31mRemoteTraceback\u001b[0m                           Traceback (most recent call last)",
      "\u001b[1;31mRemoteTraceback\u001b[0m: \n\"\"\"\nTraceback (most recent call last):\n  File \"C:\\Users\\msachde1\\AppData\\Local\\Continuum\\anaconda3\\envs\\gwrenv\\lib\\multiprocessing\\pool.py\", line 119, in worker\n    result = (True, func(*args, **kwds))\nTypeError: 'tuple' object is not callable\n\"\"\"",
      "\nThe above exception was the direct cause of the following exception:\n",
      "\u001b[1;31mTypeError\u001b[0m                                 Traceback (most recent call last)",
      "\u001b[1;32m<ipython-input-553-8c9932327cc6>\u001b[0m in \u001b[0;36m<module>\u001b[1;34m()\u001b[0m\n\u001b[1;32m----> 1\u001b[1;33m \u001b[0mfit\u001b[0m\u001b[1;33m(\u001b[0m\u001b[0mselector_in\u001b[0m\u001b[1;33m,\u001b[0m\u001b[0mx_std\u001b[0m\u001b[1;33m,\u001b[0m\u001b[0my_std\u001b[0m\u001b[1;33m,\u001b[0m\u001b[0mcoords\u001b[0m\u001b[1;33m,\u001b[0m\u001b[0mpool\u001b[0m\u001b[1;33m=\u001b[0m\u001b[0mpool\u001b[0m\u001b[1;33m)\u001b[0m\u001b[1;33m\u001b[0m\u001b[0m\n\u001b[0m",
      "\u001b[1;32m<ipython-input-552-b5b2682bb36c>\u001b[0m in \u001b[0;36mfit\u001b[1;34m(selector, X, y, coords, n_chunks, pool)\u001b[0m\n\u001b[0;32m     36\u001b[0m                    tqdm(range(n_chunks), desc='Inference'))\n\u001b[0;32m     37\u001b[0m \u001b[1;33m\u001b[0m\u001b[0m\n\u001b[1;32m---> 38\u001b[1;33m     \u001b[0mrslt_list\u001b[0m \u001b[1;33m=\u001b[0m \u001b[0mlist\u001b[0m\u001b[1;33m(\u001b[0m\u001b[0mzip\u001b[0m\u001b[1;33m(\u001b[0m\u001b[1;33m*\u001b[0m\u001b[0mrslt\u001b[0m\u001b[1;33m)\u001b[0m\u001b[1;33m)\u001b[0m\u001b[1;33m\u001b[0m\u001b[0m\n\u001b[0m\u001b[0;32m     39\u001b[0m     \u001b[0mENP_j\u001b[0m \u001b[1;33m=\u001b[0m \u001b[0mnp\u001b[0m\u001b[1;33m.\u001b[0m\u001b[0msum\u001b[0m\u001b[1;33m(\u001b[0m\u001b[0mnp\u001b[0m\u001b[1;33m.\u001b[0m\u001b[0marray\u001b[0m\u001b[1;33m(\u001b[0m\u001b[0mrslt_list\u001b[0m\u001b[1;33m[\u001b[0m\u001b[1;36m0\u001b[0m\u001b[1;33m]\u001b[0m\u001b[1;33m)\u001b[0m\u001b[1;33m,\u001b[0m \u001b[0maxis\u001b[0m\u001b[1;33m=\u001b[0m\u001b[1;36m0\u001b[0m\u001b[1;33m)\u001b[0m\u001b[1;33m\u001b[0m\u001b[0m\n\u001b[0;32m     40\u001b[0m     \u001b[0mCCT\u001b[0m \u001b[1;33m=\u001b[0m \u001b[0mnp\u001b[0m\u001b[1;33m.\u001b[0m\u001b[0msum\u001b[0m\u001b[1;33m(\u001b[0m\u001b[0mnp\u001b[0m\u001b[1;33m.\u001b[0m\u001b[0marray\u001b[0m\u001b[1;33m(\u001b[0m\u001b[0mrslt_list\u001b[0m\u001b[1;33m[\u001b[0m\u001b[1;36m1\u001b[0m\u001b[1;33m]\u001b[0m\u001b[1;33m)\u001b[0m\u001b[1;33m,\u001b[0m \u001b[0maxis\u001b[0m\u001b[1;33m=\u001b[0m\u001b[1;36m0\u001b[0m\u001b[1;33m)\u001b[0m\u001b[1;33m\u001b[0m\u001b[0m\n",
      "\u001b[1;32m~\\AppData\\Local\\Continuum\\anaconda3\\envs\\gwrenv\\lib\\multiprocessing\\pool.py\u001b[0m in \u001b[0;36mnext\u001b[1;34m(self, timeout)\u001b[0m\n\u001b[0;32m    733\u001b[0m         \u001b[1;32mif\u001b[0m \u001b[0msuccess\u001b[0m\u001b[1;33m:\u001b[0m\u001b[1;33m\u001b[0m\u001b[0m\n\u001b[0;32m    734\u001b[0m             \u001b[1;32mreturn\u001b[0m \u001b[0mvalue\u001b[0m\u001b[1;33m\u001b[0m\u001b[0m\n\u001b[1;32m--> 735\u001b[1;33m         \u001b[1;32mraise\u001b[0m \u001b[0mvalue\u001b[0m\u001b[1;33m\u001b[0m\u001b[0m\n\u001b[0m\u001b[0;32m    736\u001b[0m \u001b[1;33m\u001b[0m\u001b[0m\n\u001b[0;32m    737\u001b[0m     \u001b[0m__next__\u001b[0m \u001b[1;33m=\u001b[0m \u001b[0mnext\u001b[0m                    \u001b[1;31m# XXX\u001b[0m\u001b[1;33m\u001b[0m\u001b[0m\n",
      "\u001b[1;31mTypeError\u001b[0m: 'tuple' object is not callable"
     ]
    }
   ],
   "source": [
    "fit(selector_in,x_std,y_std,coords,pool=pool)"
   ]
  },
  {
   "cell_type": "code",
   "execution_count": 543,
   "metadata": {},
   "outputs": [],
   "source": [
    "t_s=map(_chunk_compute_R(x_std,y_std,coords,selector_in),range(3))"
   ]
  },
  {
   "cell_type": "code",
   "execution_count": 545,
   "metadata": {},
   "outputs": [
    {
     "ename": "TypeError",
     "evalue": "'tuple' object is not callable",
     "output_type": "error",
     "traceback": [
      "\u001b[1;31m---------------------------------------------------------------------------\u001b[0m",
      "\u001b[1;31mTypeError\u001b[0m                                 Traceback (most recent call last)",
      "\u001b[1;32m<ipython-input-545-5508303c9cf1>\u001b[0m in \u001b[0;36m<module>\u001b[1;34m()\u001b[0m\n\u001b[1;32m----> 1\u001b[1;33m \u001b[0mlist\u001b[0m\u001b[1;33m(\u001b[0m\u001b[0mzip\u001b[0m\u001b[1;33m(\u001b[0m\u001b[1;33m*\u001b[0m\u001b[0mt_s\u001b[0m\u001b[1;33m)\u001b[0m\u001b[1;33m)\u001b[0m\u001b[1;33m\u001b[0m\u001b[0m\n\u001b[0m",
      "\u001b[1;31mTypeError\u001b[0m: 'tuple' object is not callable"
     ]
    }
   ],
   "source": [
    "list(zip(*t_s))"
   ]
  },
  {
   "cell_type": "code",
   "execution_count": 534,
   "metadata": {},
   "outputs": [
    {
     "name": "stdout",
     "output_type": "stream",
     "text": [
      "1\n",
      "(array([262.]), array([[3.20888813e+01],\n",
      "       [1.15173882e+01],\n",
      "       [9.79861500e+00],\n",
      "       [8.44390203e-01],\n",
      "       [8.44390203e-01],\n",
      "       [3.64578378e+00],\n",
      "       [5.81432345e-01],\n",
      "       [1.31531956e+01],\n",
      "       [1.39094861e-01],\n",
      "       [8.44390203e-01],\n",
      "       [1.70493508e+00],\n",
      "       [6.20661337e+01],\n",
      "       [4.70009862e+01],\n",
      "       [5.02533300e-01],\n",
      "       [3.98434573e-01],\n",
      "       [6.80483234e-01],\n",
      "       [5.02533300e-01],\n",
      "       [6.53472826e-01],\n",
      "       [3.72888353e+00],\n",
      "       [8.84231729e-01],\n",
      "       [8.44390203e-01],\n",
      "       [3.23624706e-01],\n",
      "       [5.81432345e-01],\n",
      "       [5.20679845e-01],\n",
      "       [5.81432345e-01],\n",
      "       [5.39827346e-01],\n",
      "       [3.42690616e-01],\n",
      "       [4.24605371e-01],\n",
      "       [5.39827346e-01],\n",
      "       [1.58815466e+01],\n",
      "       [1.15173882e+01],\n",
      "       [9.79861500e+00],\n",
      "       [1.70493508e+00],\n",
      "       [3.86247339e-01],\n",
      "       [5.02533300e-01],\n",
      "       [5.02533300e-01],\n",
      "       [3.10551673e+00],\n",
      "       [6.80483234e-01],\n",
      "       [3.20888813e+01],\n",
      "       [2.06119691e+01],\n",
      "       [3.72888353e+00],\n",
      "       [1.79245459e+00],\n",
      "       [1.58815466e+01],\n",
      "       [4.11342453e+00],\n",
      "       [1.11903108e+00],\n",
      "       [1.30010075e+03],\n",
      "       [2.85088657e+00],\n",
      "       [4.59217479e+02],\n",
      "       [4.11342453e+00],\n",
      "       [1.15173882e+01],\n",
      "       [8.15724649e+00],\n",
      "       [1.82095688e+00],\n",
      "       [4.70009862e+01],\n",
      "       [4.70009862e+01],\n",
      "       [1.48242610e+00],\n",
      "       [2.09156713e+00],\n",
      "       [6.44639357e+00],\n",
      "       [9.44828933e+00],\n",
      "       [3.72888353e+00],\n",
      "       [4.95306224e+00],\n",
      "       [8.84231729e-01],\n",
      "       [3.20888813e+01],\n",
      "       [6.25849754e+00],\n",
      "       [2.57708336e+00],\n",
      "       [1.67212267e+02],\n",
      "       [2.06119691e+01],\n",
      "       [9.58670490e+01],\n",
      "       [1.07912149e+02],\n",
      "       [4.68974565e-01],\n",
      "       [1.66513001e+01],\n",
      "       [3.20888813e+01],\n",
      "       [2.09156713e+00],\n",
      "       [3.20888813e+01],\n",
      "       [3.62348345e+02],\n",
      "       [2.62633600e+00],\n",
      "       [9.44828933e+00],\n",
      "       [4.70009862e+01],\n",
      "       [6.44639357e+00],\n",
      "       [4.59217479e+02],\n",
      "       [1.37314947e+01],\n",
      "       [7.34185458e+00],\n",
      "       [4.21376444e-01],\n",
      "       [4.56066768e+00],\n",
      "       [1.33633362e+00],\n",
      "       [1.59965853e+00],\n",
      "       [1.37314947e+01],\n",
      "       [1.15173882e+01],\n",
      "       [1.13305559e+00],\n",
      "       [1.07552284e+00],\n",
      "       [1.41638007e+00],\n",
      "       [9.72864172e-01],\n",
      "       [1.18013864e+00],\n",
      "       [7.09203577e-01],\n",
      "       [1.07552284e+00],\n",
      "       [1.50384018e+00],\n",
      "       [1.13305559e+00],\n",
      "       [7.72380061e-01],\n",
      "       [8.07181998e-01],\n",
      "       [2.09156713e+00],\n",
      "       [5.81432345e-01],\n",
      "       [5.02533300e-01],\n",
      "       [5.81432345e-01],\n",
      "       [6.80483234e-01],\n",
      "       [1.50384018e+00],\n",
      "       [8.43773043e+00],\n",
      "       [3.10551673e+00],\n",
      "       [7.09203577e-01],\n",
      "       [3.10551673e+00],\n",
      "       [1.30010075e+03],\n",
      "       [3.72888353e+00],\n",
      "       [8.07181998e-01],\n",
      "       [1.70493508e+00],\n",
      "       [5.08502460e+00],\n",
      "       [5.54865029e+00],\n",
      "       [4.95306224e+00],\n",
      "       [1.31531956e+01],\n",
      "       [5.08502460e+00],\n",
      "       [4.95306224e+00],\n",
      "       [1.07912149e+02],\n",
      "       [9.58670490e+01],\n",
      "       [5.70529848e+00],\n",
      "       [6.20661337e+01],\n",
      "       [4.11342453e+00],\n",
      "       [1.79245459e+00],\n",
      "       [2.38352202e+00],\n",
      "       [2.06119691e+01],\n",
      "       [5.54865029e+00],\n",
      "       [4.59217479e+02],\n",
      "       [1.01023911e+00],\n",
      "       [1.66513001e+01],\n",
      "       [3.39584895e+00],\n",
      "       [7.09203577e-01],\n",
      "       [2.21097628e+00],\n",
      "       [6.25849754e+00],\n",
      "       [4.70009862e+01],\n",
      "       [9.26961059e-01],\n",
      "       [3.86247339e-01],\n",
      "       [4.11342453e+00],\n",
      "       [1.95802551e+02],\n",
      "       [8.44390203e-01],\n",
      "       [5.60050796e-01],\n",
      "       [3.62348345e+02],\n",
      "       [6.25849754e+00],\n",
      "       [7.39781292e-01],\n",
      "       [6.82293383e+01],\n",
      "       [5.70529848e+00],\n",
      "       [5.81432345e-01],\n",
      "       [1.07552284e+00],\n",
      "       [4.85319140e-01],\n",
      "       [5.20679845e-01],\n",
      "       [7.72380061e-01],\n",
      "       [5.39827346e-01],\n",
      "       [3.63492393e-01],\n",
      "       [1.82095688e+00],\n",
      "       [1.33633362e+00],\n",
      "       [1.41638007e+00],\n",
      "       [5.39827346e-01],\n",
      "       [1.41638007e+00],\n",
      "       [2.25007436e+00],\n",
      "       [6.25849754e+00],\n",
      "       [4.56066768e+00],\n",
      "       [9.61698478e-01],\n",
      "       [5.98589148e-01],\n",
      "       [2.95977382e-01],\n",
      "       [1.59965853e+00],\n",
      "       [1.50384018e+00],\n",
      "       [3.72888353e+00],\n",
      "       [8.15724649e+00],\n",
      "       [4.21376444e-01],\n",
      "       [2.46704612e+01],\n",
      "       [3.04128591e-01],\n",
      "       [3.30709487e-01],\n",
      "       [5.35201981e-01],\n",
      "       [2.73397500e-01],\n",
      "       [1.91768388e+00],\n",
      "       [4.59217479e+02],\n",
      "       [1.59965853e+00],\n",
      "       [1.10719672e+01],\n",
      "       [7.98737020e-01],\n",
      "       [1.41638007e+00],\n",
      "       [3.72888353e+00],\n",
      "       [2.85088657e+00],\n",
      "       [9.16574084e-01],\n",
      "       [3.04226542e+00],\n",
      "       [2.19239378e-01],\n",
      "       [3.30709487e-01],\n",
      "       [2.79521706e+00],\n",
      "       [3.30709487e-01],\n",
      "       [2.21097628e+00],\n",
      "       [4.08130260e-01],\n",
      "       [6.47316453e-01],\n",
      "       [2.14235124e-01],\n",
      "       [3.21474612e-01],\n",
      "       [2.59749993e-01],\n",
      "       [7.64473961e-01],\n",
      "       [1.62211841e-01],\n",
      "       [2.24421041e-01],\n",
      "       [7.32369180e-01],\n",
      "       [5.35201981e-01],\n",
      "       [1.58815466e+01],\n",
      "       [4.81375024e-01],\n",
      "       [4.95306224e+00],\n",
      "       [6.47316453e-01],\n",
      "       [1.39680047e+00],\n",
      "       [3.10551673e+00],\n",
      "       [2.35351053e-01],\n",
      "       [7.64473961e-01],\n",
      "       [2.46704612e+01],\n",
      "       [4.44846507e+00],\n",
      "       [1.07552284e+00],\n",
      "       [2.79521706e+00],\n",
      "       [8.15724649e+00],\n",
      "       [4.11342453e+00],\n",
      "       [2.25007436e+00],\n",
      "       [2.46704612e+01],\n",
      "       [1.91768388e+00],\n",
      "       [1.95559964e+01],\n",
      "       [1.30010075e+03],\n",
      "       [1.58815466e+01],\n",
      "       [1.57617345e+00],\n",
      "       [8.35356240e-01],\n",
      "       [5.35201981e-01],\n",
      "       [4.49879274e-01],\n",
      "       [5.55163677e-01],\n",
      "       [7.02245141e-01],\n",
      "       [7.32369180e-01],\n",
      "       [2.88149537e-01],\n",
      "       [6.25849754e+00],\n",
      "       [5.35201981e-01],\n",
      "       [4.95306224e+00],\n",
      "       [1.94923760e+00],\n",
      "       [2.09164650e+03],\n",
      "       [2.88149537e-01],\n",
      "       [7.64473961e-01],\n",
      "       [2.14235124e-01],\n",
      "       [5.55163677e-01],\n",
      "       [1.79713755e-01],\n",
      "       [2.46704612e+01],\n",
      "       [9.44828933e+00],\n",
      "       [2.14235124e-01],\n",
      "       [9.16574084e-01],\n",
      "       [1.01023911e+00],\n",
      "       [4.21376444e-01],\n",
      "       [1.91768388e+00],\n",
      "       [1.07552284e+00],\n",
      "       [9.16574084e-01],\n",
      "       [1.48242610e+00],\n",
      "       [4.01722555e+00],\n",
      "       [5.35201981e-01],\n",
      "       [2.21097628e+00],\n",
      "       [1.48242610e+00],\n",
      "       [4.56066768e+00],\n",
      "       [5.55163677e-01],\n",
      "       [7.34185458e+00],\n",
      "       [7.64473961e-01],\n",
      "       [5.55163677e-01],\n",
      "       [1.07552284e+00],\n",
      "       [2.06119691e+01],\n",
      "       [3.64578378e+00],\n",
      "       [6.44639357e+00],\n",
      "       [1.31531956e+01],\n",
      "       [4.59217479e+02]]))\n"
     ]
    },
    {
     "data": {
      "application/vnd.jupyter.widget-view+json": {
       "model_id": "65f515aad7904ee0b89db942fe2b8fc3",
       "version_major": 2,
       "version_minor": 0
      },
      "text/plain": [
       "HBox(children=(IntProgress(value=0, description='Inference', max=1), HTML(value='')))"
      ]
     },
     "metadata": {},
     "output_type": "display_data"
    },
    {
     "name": "stdout",
     "output_type": "stream",
     "text": [
      "<map object at 0x0000027416D4D278>\n"
     ]
    },
    {
     "ename": "TypeError",
     "evalue": "'tuple' object is not callable",
     "output_type": "error",
     "traceback": [
      "\u001b[1;31m---------------------------------------------------------------------------\u001b[0m",
      "\u001b[1;31mTypeError\u001b[0m                                 Traceback (most recent call last)",
      "\u001b[1;32m<ipython-input-534-e77fe8d1f9d1>\u001b[0m in \u001b[0;36m<module>\u001b[1;34m()\u001b[0m\n\u001b[1;32m----> 1\u001b[1;33m \u001b[0mfit\u001b[0m\u001b[1;33m(\u001b[0m\u001b[0mselector_in\u001b[0m\u001b[1;33m,\u001b[0m\u001b[0mx_std\u001b[0m\u001b[1;33m,\u001b[0m\u001b[0my_std\u001b[0m\u001b[1;33m,\u001b[0m\u001b[0mcoords\u001b[0m\u001b[1;33m)\u001b[0m\u001b[1;33m\u001b[0m\u001b[0m\n\u001b[0m",
      "\u001b[1;32m<ipython-input-532-30172be996e1>\u001b[0m in \u001b[0;36mfit\u001b[1;34m(selector, X, y, coords, n_chunks, pool)\u001b[0m\n\u001b[0;32m     38\u001b[0m                    tqdm(range(n_chunks), desc='Inference'))\n\u001b[0;32m     39\u001b[0m     \u001b[0mprint\u001b[0m\u001b[1;33m(\u001b[0m\u001b[0mr\u001b[0m\u001b[1;33m)\u001b[0m\u001b[1;33m\u001b[0m\u001b[0m\n\u001b[1;32m---> 40\u001b[1;33m     \u001b[0mrslt_list\u001b[0m \u001b[1;33m=\u001b[0m \u001b[0mlist\u001b[0m\u001b[1;33m(\u001b[0m\u001b[0mzip\u001b[0m\u001b[1;33m(\u001b[0m\u001b[1;33m*\u001b[0m\u001b[0mr\u001b[0m\u001b[1;33m)\u001b[0m\u001b[1;33m)\u001b[0m\u001b[1;33m\u001b[0m\u001b[0m\n\u001b[0m\u001b[0;32m     41\u001b[0m     \u001b[0mENP_j\u001b[0m \u001b[1;33m=\u001b[0m \u001b[0mnp\u001b[0m\u001b[1;33m.\u001b[0m\u001b[0msum\u001b[0m\u001b[1;33m(\u001b[0m\u001b[0mnp\u001b[0m\u001b[1;33m.\u001b[0m\u001b[0marray\u001b[0m\u001b[1;33m(\u001b[0m\u001b[0mrslt_list\u001b[0m\u001b[1;33m[\u001b[0m\u001b[1;36m0\u001b[0m\u001b[1;33m]\u001b[0m\u001b[1;33m)\u001b[0m\u001b[1;33m,\u001b[0m \u001b[0maxis\u001b[0m\u001b[1;33m=\u001b[0m\u001b[1;36m0\u001b[0m\u001b[1;33m)\u001b[0m\u001b[1;33m\u001b[0m\u001b[0m\n\u001b[0;32m     42\u001b[0m     \u001b[0mCCT\u001b[0m \u001b[1;33m=\u001b[0m \u001b[0mnp\u001b[0m\u001b[1;33m.\u001b[0m\u001b[0msum\u001b[0m\u001b[1;33m(\u001b[0m\u001b[0mnp\u001b[0m\u001b[1;33m.\u001b[0m\u001b[0marray\u001b[0m\u001b[1;33m(\u001b[0m\u001b[0mrslt_list\u001b[0m\u001b[1;33m[\u001b[0m\u001b[1;36m1\u001b[0m\u001b[1;33m]\u001b[0m\u001b[1;33m)\u001b[0m\u001b[1;33m,\u001b[0m \u001b[0maxis\u001b[0m\u001b[1;33m=\u001b[0m\u001b[1;36m0\u001b[0m\u001b[1;33m)\u001b[0m\u001b[1;33m\u001b[0m\u001b[0m\n",
      "\u001b[1;31mTypeError\u001b[0m: 'tuple' object is not callable"
     ]
    }
   ],
   "source": [
    "fit(selector_in,x_std,y_std,coords)"
   ]
  },
  {
   "cell_type": "code",
   "execution_count": 449,
   "metadata": {},
   "outputs": [],
   "source": [
    "n=262"
   ]
  },
  {
   "cell_type": "code",
   "execution_count": 486,
   "metadata": {},
   "outputs": [],
   "source": [
    "pool._processes?"
   ]
  },
  {
   "cell_type": "code",
   "execution_count": 493,
   "metadata": {},
   "outputs": [
    {
     "name": "stdout",
     "output_type": "stream",
     "text": [
      "[[ 1.11022302e-016  4.66459341e-233  1.82574858e-093 ...  0.00000000e+000\n",
      "   0.00000000e+000  0.00000000e+000]\n",
      " [ 1.67422270e-233  0.00000000e+000 -1.06980795e-262 ...  0.00000000e+000\n",
      "   0.00000000e+000  0.00000000e+000]\n",
      " [ 5.57507982e-094 -9.10157404e-263  0.00000000e+000 ...  0.00000000e+000\n",
      "   0.00000000e+000  0.00000000e+000]\n",
      " ...\n",
      " [ 0.00000000e+000  0.00000000e+000  0.00000000e+000 ...  0.00000000e+000\n",
      "   9.47951000e-045 -4.36144234e-044]\n",
      " [ 0.00000000e+000  0.00000000e+000  0.00000000e+000 ...  1.93419542e-044\n",
      "   0.00000000e+000  3.79215097e-025]\n",
      " [ 0.00000000e+000  0.00000000e+000  0.00000000e+000 ... -3.10693186e-042\n",
      "   1.32395355e-023  0.00000000e+000]]\n"
     ]
    },
    {
     "data": {
      "application/vnd.jupyter.widget-view+json": {
       "model_id": "1daa182c05104174a314581f0de4b92b",
       "version_major": 2,
       "version_minor": 0
      },
      "text/plain": [
       "HBox(children=(IntProgress(value=0, description='Inference', max=1), HTML(value='')))"
      ]
     },
     "metadata": {},
     "output_type": "display_data"
    }
   ],
   "source": [
    "reslt = map(_chunk_compute_R(x_std,y_std,coords,selector_in),\n",
    "                       tqdm(range(n_chunks), desc='Inference'))"
   ]
  },
  {
   "cell_type": "code",
   "execution_count": 484,
   "metadata": {},
   "outputs": [
    {
     "data": {
      "text/plain": [
       "[]"
      ]
     },
     "execution_count": 484,
     "metadata": {},
     "output_type": "execute_result"
    }
   ],
   "source": [
    "list(zip(*reslt))"
   ]
  },
  {
   "cell_type": "code",
   "execution_count": 450,
   "metadata": {},
   "outputs": [
    {
     "name": "stdout",
     "output_type": "stream",
     "text": [
      "[[ 1.11022302e-016  4.66459341e-233  1.82574858e-093 ...  0.00000000e+000\n",
      "   0.00000000e+000  0.00000000e+000]\n",
      " [ 1.67422270e-233  0.00000000e+000 -1.06980795e-262 ...  0.00000000e+000\n",
      "   0.00000000e+000  0.00000000e+000]\n",
      " [ 5.57507982e-094 -9.10157404e-263  0.00000000e+000 ...  0.00000000e+000\n",
      "   0.00000000e+000  0.00000000e+000]\n",
      " ...\n",
      " [ 0.00000000e+000  0.00000000e+000  0.00000000e+000 ...  0.00000000e+000\n",
      "   9.47951000e-045 -4.36144234e-044]\n",
      " [ 0.00000000e+000  0.00000000e+000  0.00000000e+000 ...  1.93419542e-044\n",
      "   0.00000000e+000  3.79215097e-025]\n",
      " [ 0.00000000e+000  0.00000000e+000  0.00000000e+000 ... -3.10693186e-042\n",
      "   1.32395355e-023  0.00000000e+000]]\n"
     ]
    }
   ],
   "source": [
    "rslt = map(_chunk_compute_R(x_std,y_std,n_chunks,coords,selector_in), range(n))"
   ]
  },
  {
   "cell_type": "code",
   "execution_count": 453,
   "metadata": {},
   "outputs": [
    {
     "data": {
      "text/plain": [
       "<map at 0x27416cb8cc0>"
      ]
     },
     "execution_count": 453,
     "metadata": {},
     "output_type": "execute_result"
    }
   ],
   "source": [
    "rslt"
   ]
  },
  {
   "cell_type": "code",
   "execution_count": 443,
   "metadata": {},
   "outputs": [],
   "source": [
    "n_chunks=1"
   ]
  },
  {
   "cell_type": "code",
   "execution_count": 444,
   "metadata": {},
   "outputs": [
    {
     "name": "stdout",
     "output_type": "stream",
     "text": [
      "[[ 1.11022302e-016  4.66459341e-233  1.82574858e-093 ...  3.34925226e-094\n",
      "   8.27636143e-101  7.05921463e-152]\n",
      " [ 1.67422270e-233  0.00000000e+000 -1.06980795e-262 ... -8.78104352e-198\n",
      "  -9.15138470e-171 -2.51256429e-084]\n",
      " [ 5.57507982e-094 -9.10157404e-263  0.00000000e+000 ... -1.13256600e-065\n",
      "  -4.77941251e-092 -1.42311623e-198]\n",
      " ...\n",
      " [ 0.00000000e+000  0.00000000e+000  0.00000000e+000 ...  0.00000000e+000\n",
      "   0.00000000e+000  0.00000000e+000]\n",
      " [ 0.00000000e+000  0.00000000e+000  0.00000000e+000 ...  0.00000000e+000\n",
      "   0.00000000e+000  0.00000000e+000]\n",
      " [ 0.00000000e+000  0.00000000e+000  0.00000000e+000 ...  0.00000000e+000\n",
      "   0.00000000e+000  0.00000000e+000]]\n"
     ]
    },
    {
     "data": {
      "application/vnd.jupyter.widget-view+json": {
       "model_id": "f9037dd1441a44b3ad124513149d1c6e",
       "version_major": 2,
       "version_minor": 0
      },
      "text/plain": [
       "HBox(children=(IntProgress(value=0, description='Inference', max=12), HTML(value='')))"
      ]
     },
     "metadata": {},
     "output_type": "display_data"
    },
    {
     "ename": "TypeError",
     "evalue": "'tuple' object is not callable",
     "output_type": "error",
     "traceback": [
      "\u001b[1;31m---------------------------------------------------------------------------\u001b[0m",
      "\u001b[1;31mRemoteTraceback\u001b[0m                           Traceback (most recent call last)",
      "\u001b[1;31mRemoteTraceback\u001b[0m: \n\"\"\"\nTraceback (most recent call last):\n  File \"C:\\Users\\msachde1\\AppData\\Local\\Continuum\\anaconda3\\envs\\gwrenv\\lib\\multiprocessing\\pool.py\", line 119, in worker\n    result = (True, func(*args, **kwds))\nTypeError: 'tuple' object is not callable\n\"\"\"",
      "\nThe above exception was the direct cause of the following exception:\n",
      "\u001b[1;31mTypeError\u001b[0m                                 Traceback (most recent call last)",
      "\u001b[1;32m<ipython-input-444-31405debc3eb>\u001b[0m in \u001b[0;36m<module>\u001b[1;34m()\u001b[0m\n\u001b[0;32m     11\u001b[0m     total=n_chunks, desc='Inference')\n\u001b[0;32m     12\u001b[0m \u001b[1;33m\u001b[0m\u001b[0m\n\u001b[1;32m---> 13\u001b[1;33m \u001b[0mrslt_list\u001b[0m \u001b[1;33m=\u001b[0m \u001b[0mlist\u001b[0m\u001b[1;33m(\u001b[0m\u001b[0mzip\u001b[0m\u001b[1;33m(\u001b[0m\u001b[1;33m*\u001b[0m\u001b[0mrslt\u001b[0m\u001b[1;33m)\u001b[0m\u001b[1;33m)\u001b[0m\u001b[1;33m\u001b[0m\u001b[0m\n\u001b[0m\u001b[0;32m     14\u001b[0m \u001b[0mENP_j\u001b[0m \u001b[1;33m=\u001b[0m \u001b[0mnp\u001b[0m\u001b[1;33m.\u001b[0m\u001b[0msum\u001b[0m\u001b[1;33m(\u001b[0m\u001b[0mnp\u001b[0m\u001b[1;33m.\u001b[0m\u001b[0marray\u001b[0m\u001b[1;33m(\u001b[0m\u001b[0mrslt_list\u001b[0m\u001b[1;33m[\u001b[0m\u001b[1;36m0\u001b[0m\u001b[1;33m]\u001b[0m\u001b[1;33m)\u001b[0m\u001b[1;33m,\u001b[0m \u001b[0maxis\u001b[0m\u001b[1;33m=\u001b[0m\u001b[1;36m0\u001b[0m\u001b[1;33m)\u001b[0m\u001b[1;33m\u001b[0m\u001b[0m\n\u001b[0;32m     15\u001b[0m \u001b[0mCCT\u001b[0m \u001b[1;33m=\u001b[0m \u001b[0mnp\u001b[0m\u001b[1;33m.\u001b[0m\u001b[0msum\u001b[0m\u001b[1;33m(\u001b[0m\u001b[0mnp\u001b[0m\u001b[1;33m.\u001b[0m\u001b[0marray\u001b[0m\u001b[1;33m(\u001b[0m\u001b[0mrslt_list\u001b[0m\u001b[1;33m[\u001b[0m\u001b[1;36m1\u001b[0m\u001b[1;33m]\u001b[0m\u001b[1;33m)\u001b[0m\u001b[1;33m,\u001b[0m \u001b[0maxis\u001b[0m\u001b[1;33m=\u001b[0m\u001b[1;36m0\u001b[0m\u001b[1;33m)\u001b[0m\u001b[1;33m\u001b[0m\u001b[0m\n",
      "\u001b[1;32m~\\AppData\\Local\\Continuum\\anaconda3\\envs\\gwrenv\\lib\\site-packages\\tqdm\\_tqdm_notebook.py\u001b[0m in \u001b[0;36m__iter__\u001b[1;34m(self, *args, **kwargs)\u001b[0m\n\u001b[0;32m    207\u001b[0m     \u001b[1;32mdef\u001b[0m \u001b[0m__iter__\u001b[0m\u001b[1;33m(\u001b[0m\u001b[0mself\u001b[0m\u001b[1;33m,\u001b[0m \u001b[1;33m*\u001b[0m\u001b[0margs\u001b[0m\u001b[1;33m,\u001b[0m \u001b[1;33m**\u001b[0m\u001b[0mkwargs\u001b[0m\u001b[1;33m)\u001b[0m\u001b[1;33m:\u001b[0m\u001b[1;33m\u001b[0m\u001b[0m\n\u001b[0;32m    208\u001b[0m         \u001b[1;32mtry\u001b[0m\u001b[1;33m:\u001b[0m\u001b[1;33m\u001b[0m\u001b[0m\n\u001b[1;32m--> 209\u001b[1;33m             \u001b[1;32mfor\u001b[0m \u001b[0mobj\u001b[0m \u001b[1;32min\u001b[0m \u001b[0msuper\u001b[0m\u001b[1;33m(\u001b[0m\u001b[0mtqdm_notebook\u001b[0m\u001b[1;33m,\u001b[0m \u001b[0mself\u001b[0m\u001b[1;33m)\u001b[0m\u001b[1;33m.\u001b[0m\u001b[0m__iter__\u001b[0m\u001b[1;33m(\u001b[0m\u001b[1;33m*\u001b[0m\u001b[0margs\u001b[0m\u001b[1;33m,\u001b[0m \u001b[1;33m**\u001b[0m\u001b[0mkwargs\u001b[0m\u001b[1;33m)\u001b[0m\u001b[1;33m:\u001b[0m\u001b[1;33m\u001b[0m\u001b[0m\n\u001b[0m\u001b[0;32m    210\u001b[0m                 \u001b[1;31m# return super(tqdm...) will not catch exception\u001b[0m\u001b[1;33m\u001b[0m\u001b[1;33m\u001b[0m\u001b[0m\n\u001b[0;32m    211\u001b[0m                 \u001b[1;32myield\u001b[0m \u001b[0mobj\u001b[0m\u001b[1;33m\u001b[0m\u001b[0m\n",
      "\u001b[1;32m~\\AppData\\Local\\Continuum\\anaconda3\\envs\\gwrenv\\lib\\site-packages\\tqdm\\_tqdm.py\u001b[0m in \u001b[0;36m__iter__\u001b[1;34m(self)\u001b[0m\n\u001b[0;32m    935\u001b[0m \"\"\", fp_write=getattr(self.fp, 'write', sys.stderr.write))\n\u001b[0;32m    936\u001b[0m \u001b[1;33m\u001b[0m\u001b[0m\n\u001b[1;32m--> 937\u001b[1;33m             \u001b[1;32mfor\u001b[0m \u001b[0mobj\u001b[0m \u001b[1;32min\u001b[0m \u001b[0miterable\u001b[0m\u001b[1;33m:\u001b[0m\u001b[1;33m\u001b[0m\u001b[0m\n\u001b[0m\u001b[0;32m    938\u001b[0m                 \u001b[1;32myield\u001b[0m \u001b[0mobj\u001b[0m\u001b[1;33m\u001b[0m\u001b[0m\n\u001b[0;32m    939\u001b[0m                 \u001b[1;31m# Update and possibly print the progressbar.\u001b[0m\u001b[1;33m\u001b[0m\u001b[1;33m\u001b[0m\u001b[0m\n",
      "\u001b[1;32m~\\AppData\\Local\\Continuum\\anaconda3\\envs\\gwrenv\\lib\\multiprocessing\\pool.py\u001b[0m in \u001b[0;36mnext\u001b[1;34m(self, timeout)\u001b[0m\n\u001b[0;32m    733\u001b[0m         \u001b[1;32mif\u001b[0m \u001b[0msuccess\u001b[0m\u001b[1;33m:\u001b[0m\u001b[1;33m\u001b[0m\u001b[0m\n\u001b[0;32m    734\u001b[0m             \u001b[1;32mreturn\u001b[0m \u001b[0mvalue\u001b[0m\u001b[1;33m\u001b[0m\u001b[0m\n\u001b[1;32m--> 735\u001b[1;33m         \u001b[1;32mraise\u001b[0m \u001b[0mvalue\u001b[0m\u001b[1;33m\u001b[0m\u001b[0m\n\u001b[0m\u001b[0;32m    736\u001b[0m \u001b[1;33m\u001b[0m\u001b[0m\n\u001b[0;32m    737\u001b[0m     \u001b[0m__next__\u001b[0m \u001b[1;33m=\u001b[0m \u001b[0mnext\u001b[0m                    \u001b[1;31m# XXX\u001b[0m\u001b[1;33m\u001b[0m\u001b[0m\n",
      "\u001b[1;31mTypeError\u001b[0m: 'tuple' object is not callable"
     ]
    }
   ],
   "source": [
    "n=y_std.shape[0]\n",
    "\n",
    "params = selector_in.params\n",
    "predy = np.sum(x_std * params, axis=1).reshape(-1, 1)\n",
    "\n",
    "from tqdm.autonotebook import tqdm  #progress bar\n",
    "\n",
    "n_chunks = pool._processes * n_chunks\n",
    "rslt = tqdm(\n",
    "    pool.imap(_chunk_compute_R(x_std,y_std,n_chunks,coords,selector_in), range(n_chunks)),\n",
    "    total=n_chunks, desc='Inference')\n",
    "\n",
    "rslt_list = list(zip(*rslt))\n",
    "ENP_j = np.sum(np.array(rslt_list[0]), axis=0)\n",
    "CCT = np.sum(np.array(rslt_list[1]), axis=0)\n",
    "\n",
    "w = np.ones(self.n)\n",
    "if hat_matrix:\n",
    "    R = np.hstack(rslt_list[2])\n",
    "else:\n",
    "    R = None\n",
    "#print(params, predy, CCT, ENP_j, w, R)"
   ]
  },
  {
   "cell_type": "code",
   "execution_count": 358,
   "metadata": {},
   "outputs": [],
   "source": [
    "from tqdm.autonotebook import tqdm"
   ]
  },
  {
   "cell_type": "code",
   "execution_count": 362,
   "metadata": {},
   "outputs": [],
   "source": [
    "n_chunks=1"
   ]
  },
  {
   "cell_type": "code",
   "execution_count": 398,
   "metadata": {},
   "outputs": [],
   "source": [
    "n_chunks=3"
   ]
  },
  {
   "cell_type": "code",
   "execution_count": 413,
   "metadata": {},
   "outputs": [
    {
     "ename": "TypeError",
     "evalue": "_chunk_compute_R() missing 1 required positional argument: 'selector'",
     "output_type": "error",
     "traceback": [
      "\u001b[1;31m---------------------------------------------------------------------------\u001b[0m",
      "\u001b[1;31mTypeError\u001b[0m                                 Traceback (most recent call last)",
      "\u001b[1;32m<ipython-input-413-e146062bcf41>\u001b[0m in \u001b[0;36m<module>\u001b[1;34m()\u001b[0m\n\u001b[1;32m----> 1\u001b[1;33m rslt = map(_chunk_compute_R(x_std,y_std,coords,selector_in),\n\u001b[0m\u001b[0;32m      2\u001b[0m                    tqdm(range(n_chunks), desc='Inference'))\n",
      "\u001b[1;31mTypeError\u001b[0m: _chunk_compute_R() missing 1 required positional argument: 'selector'"
     ]
    }
   ],
   "source": [
    "rslt = map(_chunk_compute_R(x_std,y_std,coords,selector_in),\n",
    "                   tqdm(range(n_chunks), desc='Inference'))"
   ]
  },
  {
   "cell_type": "code",
   "execution_count": 414,
   "metadata": {},
   "outputs": [
    {
     "ename": "TypeError",
     "evalue": "_chunk_compute_R() missing 1 required positional argument: 'selector'",
     "output_type": "error",
     "traceback": [
      "\u001b[1;31m---------------------------------------------------------------------------\u001b[0m",
      "\u001b[1;31mTypeError\u001b[0m                                 Traceback (most recent call last)",
      "\u001b[1;32m<ipython-input-414-e146062bcf41>\u001b[0m in \u001b[0;36m<module>\u001b[1;34m()\u001b[0m\n\u001b[1;32m----> 1\u001b[1;33m rslt = map(_chunk_compute_R(x_std,y_std,coords,selector_in),\n\u001b[0m\u001b[0;32m      2\u001b[0m                    tqdm(range(n_chunks), desc='Inference'))\n",
      "\u001b[1;31mTypeError\u001b[0m: _chunk_compute_R() missing 1 required positional argument: 'selector'"
     ]
    }
   ],
   "source": [
    "rslt = map(_chunk_compute_R(x_std,y_std,coords,selector_in),\n",
    "                   tqdm(range(n_chunks), desc='Inference'))"
   ]
  },
  {
   "cell_type": "code",
   "execution_count": 371,
   "metadata": {},
   "outputs": [
    {
     "data": {
      "text/plain": [
       "[]"
      ]
     },
     "execution_count": 371,
     "metadata": {},
     "output_type": "execute_result"
    }
   ],
   "source": [
    "list(zip(*rslt))"
   ]
  },
  {
   "cell_type": "code",
   "execution_count": 416,
   "metadata": {},
   "outputs": [
    {
     "name": "stdout",
     "output_type": "stream",
     "text": [
      "[[ 1.11022302e-016  4.66459341e-233  1.82574858e-093 ...  0.00000000e+000\n",
      "   0.00000000e+000  0.00000000e+000]\n",
      " [ 1.67422270e-233  0.00000000e+000 -1.06980795e-262 ...  0.00000000e+000\n",
      "   0.00000000e+000  0.00000000e+000]\n",
      " [ 5.57507982e-094 -9.10157404e-263  0.00000000e+000 ...  0.00000000e+000\n",
      "   0.00000000e+000  0.00000000e+000]\n",
      " ...\n",
      " [ 0.00000000e+000  0.00000000e+000  0.00000000e+000 ...  0.00000000e+000\n",
      "   9.47951000e-045 -4.36144234e-044]\n",
      " [ 0.00000000e+000  0.00000000e+000  0.00000000e+000 ...  1.93419542e-044\n",
      "   0.00000000e+000  3.79215097e-025]\n",
      " [ 0.00000000e+000  0.00000000e+000  0.00000000e+000 ... -3.10693186e-042\n",
      "   1.32395355e-023  0.00000000e+000]]\n"
     ]
    },
    {
     "data": {
      "application/vnd.jupyter.widget-view+json": {
       "model_id": "97cd03dc477444ed9ffcac86b8e06e4b",
       "version_major": 2,
       "version_minor": 0
      },
      "text/plain": [
       "HBox(children=(IntProgress(value=0, description='Inference', max=1), HTML(value='')))"
      ]
     },
     "metadata": {},
     "output_type": "display_data"
    },
    {
     "ename": "IndexError",
     "evalue": "list index out of range",
     "output_type": "error",
     "traceback": [
      "\u001b[1;31m---------------------------------------------------------------------------\u001b[0m",
      "\u001b[1;31mIndexError\u001b[0m                                Traceback (most recent call last)",
      "\u001b[1;32m<ipython-input-416-ff6917aad52c>\u001b[0m in \u001b[0;36m<module>\u001b[1;34m()\u001b[0m\n\u001b[1;32m----> 1\u001b[1;33m \u001b[0mr\u001b[0m\u001b[1;33m=\u001b[0m\u001b[0mfit\u001b[0m\u001b[1;33m(\u001b[0m\u001b[0mselector\u001b[0m\u001b[1;33m=\u001b[0m\u001b[0mselector_in\u001b[0m\u001b[1;33m,\u001b[0m\u001b[0mX\u001b[0m\u001b[1;33m=\u001b[0m\u001b[0mx_std\u001b[0m\u001b[1;33m,\u001b[0m\u001b[0my\u001b[0m\u001b[1;33m=\u001b[0m\u001b[0my_std\u001b[0m\u001b[1;33m,\u001b[0m\u001b[0mcoords\u001b[0m\u001b[1;33m=\u001b[0m\u001b[0mcoords\u001b[0m\u001b[1;33m)\u001b[0m\u001b[1;33m\u001b[0m\u001b[0m\n\u001b[0m",
      "\u001b[1;32m<ipython-input-412-edaab83ba5e7>\u001b[0m in \u001b[0;36mfit\u001b[1;34m(selector, X, y, coords, n_chunks, pool)\u001b[0m\n\u001b[0;32m     24\u001b[0m                    tqdm(range(n_chunks), desc='Inference'))\n\u001b[0;32m     25\u001b[0m     \u001b[0mrslt_list\u001b[0m \u001b[1;33m=\u001b[0m \u001b[0mlist\u001b[0m\u001b[1;33m(\u001b[0m\u001b[0mzip\u001b[0m\u001b[1;33m(\u001b[0m\u001b[1;33m*\u001b[0m\u001b[0mr\u001b[0m\u001b[1;33m)\u001b[0m\u001b[1;33m)\u001b[0m\u001b[1;33m\u001b[0m\u001b[0m\n\u001b[1;32m---> 26\u001b[1;33m     \u001b[0mENP_j\u001b[0m \u001b[1;33m=\u001b[0m \u001b[0mnp\u001b[0m\u001b[1;33m.\u001b[0m\u001b[0msum\u001b[0m\u001b[1;33m(\u001b[0m\u001b[0mnp\u001b[0m\u001b[1;33m.\u001b[0m\u001b[0marray\u001b[0m\u001b[1;33m(\u001b[0m\u001b[0mrslt_list\u001b[0m\u001b[1;33m[\u001b[0m\u001b[1;36m0\u001b[0m\u001b[1;33m]\u001b[0m\u001b[1;33m)\u001b[0m\u001b[1;33m,\u001b[0m \u001b[0maxis\u001b[0m\u001b[1;33m=\u001b[0m\u001b[1;36m0\u001b[0m\u001b[1;33m)\u001b[0m\u001b[1;33m\u001b[0m\u001b[0m\n\u001b[0m\u001b[0;32m     27\u001b[0m     \u001b[0mCCT\u001b[0m \u001b[1;33m=\u001b[0m \u001b[0mnp\u001b[0m\u001b[1;33m.\u001b[0m\u001b[0msum\u001b[0m\u001b[1;33m(\u001b[0m\u001b[0mnp\u001b[0m\u001b[1;33m.\u001b[0m\u001b[0marray\u001b[0m\u001b[1;33m(\u001b[0m\u001b[0mrslt_list\u001b[0m\u001b[1;33m[\u001b[0m\u001b[1;36m1\u001b[0m\u001b[1;33m]\u001b[0m\u001b[1;33m)\u001b[0m\u001b[1;33m,\u001b[0m \u001b[0maxis\u001b[0m\u001b[1;33m=\u001b[0m\u001b[1;36m0\u001b[0m\u001b[1;33m)\u001b[0m\u001b[1;33m\u001b[0m\u001b[0m\n\u001b[0;32m     28\u001b[0m \u001b[1;33m\u001b[0m\u001b[0m\n",
      "\u001b[1;31mIndexError\u001b[0m: list index out of range"
     ]
    }
   ],
   "source": [
    "r=fit(selector=selector_in,X=x_std,y=y_std,coords=coords)"
   ]
  },
  {
   "cell_type": "code",
   "execution_count": 395,
   "metadata": {},
   "outputs": [
    {
     "data": {
      "text/plain": [
       "[]"
      ]
     },
     "execution_count": 395,
     "metadata": {},
     "output_type": "execute_result"
    }
   ],
   "source": [
    "list(zip(*r))"
   ]
  },
  {
   "cell_type": "code",
   "execution_count": 396,
   "metadata": {},
   "outputs": [
    {
     "ename": "IndexError",
     "evalue": "list index out of range",
     "output_type": "error",
     "traceback": [
      "\u001b[1;31m---------------------------------------------------------------------------\u001b[0m",
      "\u001b[1;31mIndexError\u001b[0m                                Traceback (most recent call last)",
      "\u001b[1;32m<ipython-input-396-7ee939924906>\u001b[0m in \u001b[0;36m<module>\u001b[1;34m()\u001b[0m\n\u001b[0;32m      1\u001b[0m \u001b[0mrslt_list\u001b[0m \u001b[1;33m=\u001b[0m \u001b[0mlist\u001b[0m\u001b[1;33m(\u001b[0m\u001b[0mzip\u001b[0m\u001b[1;33m(\u001b[0m\u001b[1;33m*\u001b[0m\u001b[0mr\u001b[0m\u001b[1;33m)\u001b[0m\u001b[1;33m)\u001b[0m\u001b[1;33m\u001b[0m\u001b[0m\n\u001b[1;32m----> 2\u001b[1;33m \u001b[0mENP_j\u001b[0m \u001b[1;33m=\u001b[0m \u001b[0mnp\u001b[0m\u001b[1;33m.\u001b[0m\u001b[0msum\u001b[0m\u001b[1;33m(\u001b[0m\u001b[0mnp\u001b[0m\u001b[1;33m.\u001b[0m\u001b[0marray\u001b[0m\u001b[1;33m(\u001b[0m\u001b[0mrslt_list\u001b[0m\u001b[1;33m[\u001b[0m\u001b[1;36m0\u001b[0m\u001b[1;33m]\u001b[0m\u001b[1;33m)\u001b[0m\u001b[1;33m,\u001b[0m \u001b[0maxis\u001b[0m\u001b[1;33m=\u001b[0m\u001b[1;36m0\u001b[0m\u001b[1;33m)\u001b[0m\u001b[1;33m\u001b[0m\u001b[0m\n\u001b[0m\u001b[0;32m      3\u001b[0m \u001b[0mCCT\u001b[0m \u001b[1;33m=\u001b[0m \u001b[0mnp\u001b[0m\u001b[1;33m.\u001b[0m\u001b[0msum\u001b[0m\u001b[1;33m(\u001b[0m\u001b[0mnp\u001b[0m\u001b[1;33m.\u001b[0m\u001b[0marray\u001b[0m\u001b[1;33m(\u001b[0m\u001b[0mrslt_list\u001b[0m\u001b[1;33m[\u001b[0m\u001b[1;36m1\u001b[0m\u001b[1;33m]\u001b[0m\u001b[1;33m)\u001b[0m\u001b[1;33m,\u001b[0m \u001b[0maxis\u001b[0m\u001b[1;33m=\u001b[0m\u001b[1;36m0\u001b[0m\u001b[1;33m)\u001b[0m\u001b[1;33m\u001b[0m\u001b[0m\n\u001b[0;32m      4\u001b[0m \u001b[1;33m\u001b[0m\u001b[0m\n\u001b[0;32m      5\u001b[0m \u001b[0mw\u001b[0m \u001b[1;33m=\u001b[0m \u001b[0mnp\u001b[0m\u001b[1;33m.\u001b[0m\u001b[0mones\u001b[0m\u001b[1;33m(\u001b[0m\u001b[0mself\u001b[0m\u001b[1;33m.\u001b[0m\u001b[0mn\u001b[0m\u001b[1;33m)\u001b[0m\u001b[1;33m\u001b[0m\u001b[0m\n",
      "\u001b[1;31mIndexError\u001b[0m: list index out of range"
     ]
    }
   ],
   "source": [
    "rslt_list = list(zip(*r))\n",
    "ENP_j = np.sum(np.array(rslt_list[0]), axis=0)\n",
    "CCT = np.sum(np.array(rslt_list[1]), axis=0)\n",
    "\n",
    "w = np.ones(self.n)\n",
    "if hat_matrix:\n",
    "    R = np.hstack(rslt_list[2])\n",
    "else:\n",
    "    R = None\n",
    "print(params, predy, CCT, ENP_j, w, R)"
   ]
  },
  {
   "cell_type": "code",
   "execution_count": 383,
   "metadata": {},
   "outputs": [
    {
     "name": "stdout",
     "output_type": "stream",
     "text": [
      "[[ 1.11022302e-016  4.66459341e-233  1.82574858e-093 ...  0.00000000e+000\n",
      "   0.00000000e+000  0.00000000e+000]\n",
      " [ 1.67422270e-233  0.00000000e+000 -1.06980795e-262 ...  0.00000000e+000\n",
      "   0.00000000e+000  0.00000000e+000]\n",
      " [ 5.57507982e-094 -9.10157404e-263  0.00000000e+000 ...  0.00000000e+000\n",
      "   0.00000000e+000  0.00000000e+000]\n",
      " ...\n",
      " [ 0.00000000e+000  0.00000000e+000  0.00000000e+000 ...  0.00000000e+000\n",
      "   9.47951000e-045 -4.36144234e-044]\n",
      " [ 0.00000000e+000  0.00000000e+000  0.00000000e+000 ...  1.93419542e-044\n",
      "   0.00000000e+000  3.79215097e-025]\n",
      " [ 0.00000000e+000  0.00000000e+000  0.00000000e+000 ... -3.10693186e-042\n",
      "   1.32395355e-023  0.00000000e+000]]\n"
     ]
    },
    {
     "data": {
      "application/vnd.jupyter.widget-view+json": {
       "model_id": "9d896b4eb3704a6880fe7797b77c3947",
       "version_major": 2,
       "version_minor": 0
      },
      "text/plain": [
       "HBox(children=(IntProgress(value=0, description='Inference', max=12), HTML(value='')))"
      ]
     },
     "metadata": {},
     "output_type": "display_data"
    }
   ],
   "source": [
    "n=y.shape[0]\n",
    "\n",
    "params = selector_in.params\n",
    "predy = np.sum(x_std * params, axis=1).reshape(-1, 1)\n",
    "\n",
    "try:\n",
    "    from tqdm.autonotebook import tqdm  #progress bar\n",
    "except ImportError:\n",
    "\n",
    "    def tqdm(x, total=0,\n",
    "             desc=''):  #otherwise, just passthrough the range\n",
    "        return x\n",
    "\n",
    "if pool:\n",
    "    n_chunks = pool._processes * n_chunks\n",
    "    rslt = tqdm(\n",
    "        pool.imap(_chunk_compute_R(x_std,y_std,coords,selector_in), range(n_chunks)),\n",
    "        total=n_chunks, desc='Inference')\n",
    "else:\n",
    "    n_chunks = n_chunks\n",
    "    rslt = map(_chunk_compute_R(x_std,y_std,coords,selector_in),\n",
    "               tqdm(range(n_chunks), desc='Inference'))"
   ]
  },
  {
   "cell_type": "code",
   "execution_count": 388,
   "metadata": {},
   "outputs": [
    {
     "name": "stdout",
     "output_type": "stream",
     "text": [
      "[[ 1.11022302e-016  4.66459341e-233  1.82574858e-093 ...  0.00000000e+000\n",
      "   0.00000000e+000  0.00000000e+000]\n",
      " [ 1.67422270e-233  0.00000000e+000 -1.06980795e-262 ...  0.00000000e+000\n",
      "   0.00000000e+000  0.00000000e+000]\n",
      " [ 5.57507982e-094 -9.10157404e-263  0.00000000e+000 ...  0.00000000e+000\n",
      "   0.00000000e+000  0.00000000e+000]\n",
      " ...\n",
      " [ 0.00000000e+000  0.00000000e+000  0.00000000e+000 ...  0.00000000e+000\n",
      "   9.47951000e-045 -4.36144234e-044]\n",
      " [ 0.00000000e+000  0.00000000e+000  0.00000000e+000 ...  1.93419542e-044\n",
      "   0.00000000e+000  3.79215097e-025]\n",
      " [ 0.00000000e+000  0.00000000e+000  0.00000000e+000 ... -3.10693186e-042\n",
      "   1.32395355e-023  0.00000000e+000]]\n"
     ]
    },
    {
     "data": {
      "application/vnd.jupyter.widget-view+json": {
       "model_id": "d40a10cf84af44b2a089bdab57b3a013",
       "version_major": 2,
       "version_minor": 0
      },
      "text/plain": [
       "HBox(children=(IntProgress(value=0, description='Inference', max=12), HTML(value='')))"
      ]
     },
     "metadata": {},
     "output_type": "display_data"
    },
    {
     "name": "stdout",
     "output_type": "stream",
     "text": [
      "Wall time: 1.52 s\n"
     ]
    }
   ],
   "source": [
    "%%time\n",
    "rslt = map(_chunk_compute_R(x_std,y_std,coords,selector_in),\n",
    "               tqdm(range(n_chunks), desc='Inference'))"
   ]
  },
  {
   "cell_type": "code",
   "execution_count": null,
   "metadata": {},
   "outputs": [],
   "source": [
    "rslt = map(_chunk_compute_R(x_std,y_std,coords,selector_in),\n",
    "                   tqdm(range(n_chunks), desc='Inference'))"
   ]
  },
  {
   "cell_type": "code",
   "execution_count": 387,
   "metadata": {},
   "outputs": [
    {
     "ename": "TypeError",
     "evalue": "'tuple' object is not callable",
     "output_type": "error",
     "traceback": [
      "\u001b[1;31m---------------------------------------------------------------------------\u001b[0m",
      "\u001b[1;31mTypeError\u001b[0m                                 Traceback (most recent call last)",
      "\u001b[1;32m<ipython-input-387-836ae2d22a0b>\u001b[0m in \u001b[0;36m<module>\u001b[1;34m()\u001b[0m\n\u001b[1;32m----> 1\u001b[1;33m \u001b[0mrslt_list\u001b[0m \u001b[1;33m=\u001b[0m \u001b[0mlist\u001b[0m\u001b[1;33m(\u001b[0m\u001b[0mzip\u001b[0m\u001b[1;33m(\u001b[0m\u001b[1;33m*\u001b[0m\u001b[0mrslt\u001b[0m\u001b[1;33m)\u001b[0m\u001b[1;33m)\u001b[0m\u001b[1;33m\u001b[0m\u001b[0m\n\u001b[0m\u001b[0;32m      2\u001b[0m \u001b[0mENP_j\u001b[0m \u001b[1;33m=\u001b[0m \u001b[0mnp\u001b[0m\u001b[1;33m.\u001b[0m\u001b[0msum\u001b[0m\u001b[1;33m(\u001b[0m\u001b[0mnp\u001b[0m\u001b[1;33m.\u001b[0m\u001b[0marray\u001b[0m\u001b[1;33m(\u001b[0m\u001b[0mrslt_list\u001b[0m\u001b[1;33m[\u001b[0m\u001b[1;36m0\u001b[0m\u001b[1;33m]\u001b[0m\u001b[1;33m)\u001b[0m\u001b[1;33m,\u001b[0m \u001b[0maxis\u001b[0m\u001b[1;33m=\u001b[0m\u001b[1;36m0\u001b[0m\u001b[1;33m)\u001b[0m\u001b[1;33m\u001b[0m\u001b[0m\n\u001b[0;32m      3\u001b[0m \u001b[0mCCT\u001b[0m \u001b[1;33m=\u001b[0m \u001b[0mnp\u001b[0m\u001b[1;33m.\u001b[0m\u001b[0msum\u001b[0m\u001b[1;33m(\u001b[0m\u001b[0mnp\u001b[0m\u001b[1;33m.\u001b[0m\u001b[0marray\u001b[0m\u001b[1;33m(\u001b[0m\u001b[0mrslt_list\u001b[0m\u001b[1;33m[\u001b[0m\u001b[1;36m1\u001b[0m\u001b[1;33m]\u001b[0m\u001b[1;33m)\u001b[0m\u001b[1;33m,\u001b[0m \u001b[0maxis\u001b[0m\u001b[1;33m=\u001b[0m\u001b[1;36m0\u001b[0m\u001b[1;33m)\u001b[0m\u001b[1;33m\u001b[0m\u001b[0m\n\u001b[0;32m      4\u001b[0m \u001b[1;33m\u001b[0m\u001b[0m\n\u001b[0;32m      5\u001b[0m \u001b[0mw\u001b[0m \u001b[1;33m=\u001b[0m \u001b[0mnp\u001b[0m\u001b[1;33m.\u001b[0m\u001b[0mones\u001b[0m\u001b[1;33m(\u001b[0m\u001b[0mself\u001b[0m\u001b[1;33m.\u001b[0m\u001b[0mn\u001b[0m\u001b[1;33m)\u001b[0m\u001b[1;33m\u001b[0m\u001b[0m\n",
      "\u001b[1;31mTypeError\u001b[0m: 'tuple' object is not callable"
     ]
    }
   ],
   "source": [
    "rslt_list = list(zip(*rslt))\n",
    "ENP_j = np.sum(np.array(rslt_list[0]), axis=0)\n",
    "CCT = np.sum(np.array(rslt_list[1]), axis=0)\n",
    "\n",
    "w = np.ones(self.n)\n",
    "if hat_matrix:\n",
    "    R = np.hstack(rslt_list[2])\n",
    "else:\n",
    "    R = None\n",
    "print(params, predy, CCT, ENP_j, w, R)"
   ]
  },
  {
   "cell_type": "code",
   "execution_count": 341,
   "metadata": {},
   "outputs": [
    {
     "data": {
      "text/plain": [
       "(262, 86, 1)"
      ]
     },
     "execution_count": 341,
     "metadata": {},
     "output_type": "execute_result"
    }
   ],
   "source": [
    "pR.shape"
   ]
  },
  {
   "cell_type": "code",
   "execution_count": 208,
   "metadata": {},
   "outputs": [],
   "source": [
    "wi = build_wi(0, 262).reshape(-1, 1)"
   ]
  },
  {
   "cell_type": "code",
   "execution_count": 262,
   "metadata": {},
   "outputs": [],
   "source": [
    "n=262\n",
    "bw_init=85.0"
   ]
  },
  {
   "cell_type": "code",
   "execution_count": 267,
   "metadata": {},
   "outputs": [],
   "source": [
    "pR = np.zeros((262, len(chunk_index),1))"
   ]
  },
  {
   "cell_type": "code",
   "execution_count": 273,
   "metadata": {},
   "outputs": [],
   "source": [
    "for i in range(n):\n",
    "    wi = build_wi(i, bw_init).reshape(-1, 1)\n",
    "    xT = (x_std * wi).T\n",
    "    P = np.linalg.solve(xT.dot(x_std), xT).dot(init_pR).T\n",
    "    pR[i, :, :] = P * x_std[i]"
   ]
  },
  {
   "cell_type": "code",
   "execution_count": 277,
   "metadata": {},
   "outputs": [],
   "source": [
    "err = init_pR - np.sum(pR, axis=2)  #n by chunk_size"
   ]
  },
  {
   "cell_type": "code",
   "execution_count": 316,
   "metadata": {},
   "outputs": [
    {
     "data": {
      "text/plain": [
       "array([[-4.45264152e-01,  2.00632789e-01],\n",
       "       [-4.09741446e-01,  1.97245388e-01],\n",
       "       [-5.11642161e-01,  1.98619991e-01],\n",
       "       [-3.60414516e-01,  1.99022268e-01],\n",
       "       [-3.72825304e-01,  1.96852653e-01],\n",
       "       [-3.73268358e-01,  1.95586470e-01],\n",
       "       [-3.22434590e-01,  1.95930622e-01],\n",
       "       [-4.86601322e-01,  1.99289611e-01],\n",
       "       [-4.20476610e-01,  1.99430308e-01],\n",
       "       [-4.69013155e-01,  2.01092744e-01],\n",
       "       [-4.57950892e-01,  2.01534855e-01],\n",
       "       [-4.63565885e-01,  2.00297545e-01],\n",
       "       [-4.72511476e-01,  1.98329751e-01],\n",
       "       [-4.79224967e-01,  2.00499956e-01],\n",
       "       [-4.85015144e-01,  1.99913284e-01],\n",
       "       [-4.52802060e-01,  2.02360594e-01],\n",
       "       [-4.51176406e-01,  2.02558606e-01],\n",
       "       [-4.49452674e-01,  2.02114772e-01],\n",
       "       [-4.31992722e-01,  2.00576390e-01],\n",
       "       [-4.23129483e-01,  1.96931615e-01],\n",
       "       [-3.94562225e-01,  1.96743259e-01],\n",
       "       [-3.39640649e-01,  1.98273697e-01],\n",
       "       [-3.58569744e-01,  1.98438599e-01],\n",
       "       [-3.59308242e-01,  1.97903131e-01],\n",
       "       [-3.82221373e-01,  1.97832798e-01],\n",
       "       [-4.28212569e-01,  1.96486954e-01],\n",
       "       [-3.49703184e-01,  1.98096228e-01],\n",
       "       [-3.38441148e-01,  1.97133645e-01],\n",
       "       [-3.67756128e-01,  1.96716732e-01],\n",
       "       [-2.64571127e-01,  1.94837759e-01],\n",
       "       [-4.61443179e-01,  1.96890540e-01],\n",
       "       [-5.16844660e-01,  1.97329127e-01],\n",
       "       [-3.67239263e-01,  1.96700698e-01],\n",
       "       [-3.75548762e-01,  1.96931077e-01],\n",
       "       [-3.63669835e-01,  1.96034278e-01],\n",
       "       [-3.74086829e-01,  1.95124652e-01],\n",
       "       [-3.77796367e-01,  1.95269262e-01],\n",
       "       [-3.69198812e-01,  1.95973820e-01],\n",
       "       [-1.01060133e-01,  1.86885843e-01],\n",
       "       [-4.05373536e-01,  1.93230412e-01],\n",
       "       [ 1.12979675e+00,  1.84200730e-01],\n",
       "       [ 4.63509209e-01,  1.86439399e-01],\n",
       "       [ 3.11264463e-01,  1.88873819e-01],\n",
       "       [-3.92923266e-01,  1.94096730e-01],\n",
       "       [-1.14605736e-01,  1.81341282e-01],\n",
       "       [-5.04590350e-01,  1.84195211e-01],\n",
       "       [-4.33066506e-01,  1.95523421e-01],\n",
       "       [-5.44639334e-01,  1.90394132e-01],\n",
       "       [ 1.91472121e-01,  1.90849274e-01],\n",
       "       [-1.26426769e-01,  1.92508494e-01],\n",
       "       [-1.15227439e-01,  1.84037723e-01],\n",
       "       [-3.74644856e-01,  1.95637650e-01],\n",
       "       [-4.33822961e-01,  1.92651707e-01],\n",
       "       [-5.46305196e-02,  1.90525489e-01],\n",
       "       [ 2.37156200e-01,  1.86827319e-01],\n",
       "       [ 1.05011509e+00,  1.85323366e-01],\n",
       "       [ 3.88384944e-01,  1.89440775e-01],\n",
       "       [ 8.20232787e-01,  1.83446089e-01],\n",
       "       [ 6.32527274e-01,  1.82655350e-01],\n",
       "       [-2.10518570e-01,  1.82023392e-01],\n",
       "       [ 1.21397625e+00,  1.83531940e-01],\n",
       "       [ 6.88511805e-02,  1.82218175e-01],\n",
       "       [-8.03968767e-02,  1.83890263e-01],\n",
       "       [ 4.60817535e-01,  1.80874056e-01],\n",
       "       [-1.00974614e-01,  1.80869626e-01],\n",
       "       [-2.68410035e-01,  1.91293753e-01],\n",
       "       [-4.73835539e-01,  1.94326237e-01],\n",
       "       [-3.75128616e-01,  1.91782306e-01],\n",
       "       [ 1.17818650e+00,  1.84555335e-01],\n",
       "       [-1.44289247e-01,  1.84748489e-01],\n",
       "       [-7.70924195e-02,  1.85584869e-01],\n",
       "       [ 8.91977824e-01,  1.86658829e-01],\n",
       "       [-2.41064189e-01,  1.92516984e-01],\n",
       "       [-4.33184424e-01,  1.88194633e-01],\n",
       "       [-4.37071850e-01,  1.95449901e-01],\n",
       "       [-3.81872114e-01,  1.87040180e-01],\n",
       "       [-4.18746810e-01,  1.85073288e-01],\n",
       "       [-2.19744309e-01,  1.92002401e-01],\n",
       "       [-4.42591945e-01,  1.92746108e-01],\n",
       "       [-1.42951190e-01,  1.84456091e-01],\n",
       "       [-2.07361572e-01,  1.83301209e-01],\n",
       "       [-5.30788264e-01,  1.86265207e-01],\n",
       "       [-5.80751777e-01,  1.86787457e-01],\n",
       "       [-5.46461499e-01,  1.83879014e-01],\n",
       "       [-5.19723812e-01,  1.91058615e-01],\n",
       "       [-5.45770480e-01,  1.90311852e-01],\n",
       "       [-5.51420679e-01,  1.89537100e-01],\n",
       "       [-5.70881195e-01,  1.87470527e-01],\n",
       "       [-5.77996848e-01,  1.88820641e-01],\n",
       "       [-2.72627396e-01,  1.89895273e-01],\n",
       "       [-4.73718817e-01,  1.91431493e-01],\n",
       "       [-5.68933631e-01,  1.88340741e-01],\n",
       "       [-5.51085724e-01,  1.88667197e-01],\n",
       "       [-4.45288313e-01,  1.92345704e-01],\n",
       "       [-4.58193275e-01,  1.91972958e-01],\n",
       "       [-3.90429468e-01,  1.94414976e-01],\n",
       "       [-4.72870369e-01,  1.91804259e-01],\n",
       "       [-4.89951984e-01,  1.91365174e-01],\n",
       "       [-5.13143878e-01,  1.90579801e-01],\n",
       "       [-4.27217147e-01,  1.94276980e-01],\n",
       "       [-3.80959731e-01,  1.94312543e-01],\n",
       "       [-4.27346654e-01,  1.93616872e-01],\n",
       "       [-4.07096296e-01,  1.96838421e-01],\n",
       "       [-4.38127568e-01,  1.96024932e-01],\n",
       "       [-3.59844976e-01,  1.93676376e-01],\n",
       "       [-3.80473814e-01,  1.93362909e-01],\n",
       "       [-4.23186591e-01,  1.93560469e-01],\n",
       "       [-4.47790591e-01,  1.95967467e-01],\n",
       "       [-4.70416072e-01,  1.94990419e-01],\n",
       "       [-3.62829032e-01,  1.94631261e-01],\n",
       "       [ 4.17180879e-02,  1.91662508e-01],\n",
       "       [ 2.92325628e-01,  1.90324943e-01],\n",
       "       [-2.00235307e-01,  1.93673972e-01],\n",
       "       [ 6.36888911e-01,  1.89082238e-01],\n",
       "       [ 1.57575452e+00,  1.81893278e-01],\n",
       "       [ 7.27786061e-01,  1.87261729e-01],\n",
       "       [ 6.23607135e-02,  1.74023007e-01],\n",
       "       [ 1.03795053e+00,  1.86458955e-01],\n",
       "       [-1.35628643e-01,  1.93447288e-01],\n",
       "       [-2.52264866e-01,  1.88877140e-01],\n",
       "       [-4.28335557e-01,  1.99878130e-01],\n",
       "       [-5.83800501e-02,  1.94706610e-01],\n",
       "       [-2.88308298e-01,  1.94290683e-01],\n",
       "       [ 8.42255489e-01,  1.86153876e-01],\n",
       "       [ 4.06367968e-03,  1.92169815e-01],\n",
       "       [ 5.35831322e-03,  1.82090270e-01],\n",
       "       [ 2.47717645e-01,  1.90489237e-01],\n",
       "       [ 7.38303596e-02,  1.91882375e-01],\n",
       "       [-3.28756988e-01,  1.94749386e-01],\n",
       "       [ 6.41681243e-01,  1.88622512e-01],\n",
       "       [-5.71609117e-02,  1.73824477e-01],\n",
       "       [ 1.59015805e-01,  1.68833604e-01],\n",
       "       [ 1.39418257e+00,  1.76536469e-01],\n",
       "       [ 2.57408132e-01,  1.92175421e-01],\n",
       "       [ 1.33040382e-01,  1.76462683e-01],\n",
       "       [-1.05215946e-01,  1.94955606e-01],\n",
       "       [-3.29231994e-01,  1.95270297e-01],\n",
       "       [-5.10921264e-02,  1.92745260e-01],\n",
       "       [-3.01210000e-01,  1.97454363e-01],\n",
       "       [-3.72602667e-01,  1.98765039e-01],\n",
       "       [-4.32931769e-01,  1.96504646e-01],\n",
       "       [-7.54907515e-03,  1.92353467e-01],\n",
       "       [-4.17206679e-01,  1.95221082e-01],\n",
       "       [-4.72612748e-01,  1.97182403e-01],\n",
       "       [-4.92628743e-01,  1.98475247e-01],\n",
       "       [-3.10018131e-01,  1.92126522e-01],\n",
       "       [-3.84017007e-01,  1.95006011e-01],\n",
       "       [-3.59737303e-01,  1.97005458e-01],\n",
       "       [-2.91905362e-01,  1.97006685e-01],\n",
       "       [-3.95376432e-01,  1.98510604e-01],\n",
       "       [-3.68158883e-01,  1.98695216e-01],\n",
       "       [-3.92622010e-01,  1.99833105e-01],\n",
       "       [-3.96769985e-01,  2.00216340e-01],\n",
       "       [-3.41189308e-01,  1.88477054e-01],\n",
       "       [-2.83498813e-01,  1.86103615e-01],\n",
       "       [-3.41105734e-01,  1.89348944e-01],\n",
       "       [-3.50367280e-01,  1.91207604e-01],\n",
       "       [-8.11219298e-02,  1.85693128e-01],\n",
       "       [-2.10633485e-01,  1.84773039e-01],\n",
       "       [ 9.21659592e-01,  1.69028285e-01],\n",
       "       [ 9.60902754e-01,  1.69454142e-01],\n",
       "       [ 9.21928757e-01,  1.67506559e-01],\n",
       "       [ 9.87737370e-01,  1.71454129e-01],\n",
       "       [ 1.04228005e+00,  1.72341574e-01],\n",
       "       [ 1.27837248e+00,  1.72196794e-01],\n",
       "       [ 1.49276106e+00,  1.73606740e-01],\n",
       "       [ 1.23968174e+00,  1.71791526e-01],\n",
       "       [ 1.16992364e+00,  1.65755256e-01],\n",
       "       [ 1.06504938e+00,  1.66278493e-01],\n",
       "       [ 1.24514349e+00,  1.64766098e-01],\n",
       "       [ 8.34011619e-01,  1.68688491e-01],\n",
       "       [ 8.46854438e-01,  1.69281862e-01],\n",
       "       [ 1.36619751e+00,  1.73681103e-01],\n",
       "       [ 1.12945300e+00,  1.73048079e-01],\n",
       "       [ 1.14769256e+00,  1.74946308e-01],\n",
       "       [ 1.42779643e+00,  1.78120811e-01],\n",
       "       [ 1.45183784e+00,  1.74428079e-01],\n",
       "       [ 1.18897874e+00,  1.79321469e-01],\n",
       "       [ 8.06413552e-01,  1.77694113e-01],\n",
       "       [ 1.60612345e+00,  1.79071866e-01],\n",
       "       [ 1.87371930e+00,  1.79330459e-01],\n",
       "       [ 1.67644544e+00,  1.76714541e-01],\n",
       "       [-3.13669149e-02,  1.74772172e-01],\n",
       "       [-2.89204227e-01,  1.76787638e-01],\n",
       "       [ 9.05552168e-02,  1.75021301e-01],\n",
       "       [ 7.01649948e-02,  1.73308293e-01],\n",
       "       [-4.37957287e-01,  1.81121266e-01],\n",
       "       [-3.49168019e-01,  1.73491652e-01],\n",
       "       [-2.16761990e-01,  1.76663035e-01],\n",
       "       [-6.75716363e-03,  1.71648106e-01],\n",
       "       [ 2.83670998e-01,  1.69338537e-01],\n",
       "       [-3.43103086e-01,  1.75156448e-01],\n",
       "       [-3.07226174e-01,  1.77101449e-01],\n",
       "       [-1.93290418e-01,  1.73998217e-01],\n",
       "       [-2.21389505e-01,  1.79072220e-01],\n",
       "       [-3.21532465e-01,  1.75926519e-01],\n",
       "       [-3.29637348e-01,  1.74940777e-01],\n",
       "       [-1.59294028e-01,  1.76944735e-01],\n",
       "       [-1.23888003e-02,  1.77408132e-01],\n",
       "       [-2.48977303e-01,  1.78154971e-01],\n",
       "       [ 2.49126892e-01,  1.69771234e-01],\n",
       "       [-2.10497886e-01,  1.78681012e-01],\n",
       "       [-1.82213372e-01,  1.80356364e-01],\n",
       "       [-2.28817793e-01,  1.78626271e-01],\n",
       "       [-2.63479842e-01,  1.78762128e-01],\n",
       "       [-1.59989135e-01,  1.71805818e-01],\n",
       "       [-2.73206390e-01,  1.71193341e-01],\n",
       "       [-2.54710037e-01,  1.78090735e-01],\n",
       "       [-2.79946541e-01,  1.79492237e-01],\n",
       "       [-2.83169716e-01,  1.79988534e-01],\n",
       "       [-3.75425908e-01,  1.79274413e-01],\n",
       "       [-3.96432403e-01,  1.78278542e-01],\n",
       "       [-4.94752331e-01,  1.78149466e-01],\n",
       "       [-5.71797630e-01,  1.81462129e-01],\n",
       "       [ 8.74505000e-01,  1.62495712e-01],\n",
       "       [ 5.78897344e-01,  1.61420916e-01],\n",
       "       [ 5.14818834e-01,  1.60431990e-01],\n",
       "       [ 4.95756135e-01,  1.61153613e-01],\n",
       "       [ 3.99854596e-01,  1.60152104e-01],\n",
       "       [ 4.54889493e-01,  1.61540274e-01],\n",
       "       [ 2.73409892e-01,  1.59640035e-01],\n",
       "       [ 2.30702385e-01,  1.59798389e-01],\n",
       "       [ 5.52220785e-01,  1.63545506e-01],\n",
       "       [ 2.65972088e-01,  1.60851506e-01],\n",
       "       [ 2.58864742e-01,  1.59887889e-01],\n",
       "       [ 3.53094885e-01,  1.63288339e-01],\n",
       "       [ 2.79670610e-01,  1.65639958e-01],\n",
       "       [ 2.09130177e-01,  1.63886174e-01],\n",
       "       [ 1.54663789e-01,  1.59672184e-01],\n",
       "       [ 2.17174310e-01,  1.62070365e-01],\n",
       "       [ 1.17596248e+00,  1.64435931e-01],\n",
       "       [ 1.02706698e+00,  1.63214230e-01],\n",
       "       [ 9.08837238e-01,  1.64202930e-01],\n",
       "       [ 5.51232967e-01,  1.66317502e-01],\n",
       "       [ 1.56151379e-02,  1.69349181e-01],\n",
       "       [ 2.17446248e-01,  1.66967358e-01],\n",
       "       [-9.33005909e-02,  1.69277102e-01],\n",
       "       [ 2.46576014e-01,  1.60736615e-01],\n",
       "       [-1.42343186e-01,  1.63357563e-01],\n",
       "       [ 1.06528232e-01,  1.59466706e-01],\n",
       "       [ 1.59865839e-01,  1.61390452e-01],\n",
       "       [ 5.79490655e-02,  1.61693937e-01],\n",
       "       [ 1.93867050e-01,  1.58777119e-01],\n",
       "       [ 2.96910939e-01,  1.69106080e-01],\n",
       "       [ 2.24323752e-01,  1.60220168e-01],\n",
       "       [-3.05440063e-01,  1.66392283e-01],\n",
       "       [-8.56079746e-02,  1.66665737e-01],\n",
       "       [ 1.78432212e-01,  1.64721256e-01],\n",
       "       [-1.90193176e-01,  1.65445025e-01],\n",
       "       [ 2.38008476e-02,  1.64666874e-01],\n",
       "       [ 1.82832826e-01,  1.66095940e-01],\n",
       "       [ 4.14149745e-02,  1.64040187e-01],\n",
       "       [ 2.12279108e-01,  1.59047346e-01],\n",
       "       [-1.78077867e-03,  1.62961583e-01],\n",
       "       [-1.82574571e-01,  1.62989899e-01],\n",
       "       [-2.20682791e-01,  1.63342115e-01],\n",
       "       [-5.46965717e-02,  1.69266701e-01],\n",
       "       [-2.81337073e-01,  1.68696809e-01],\n",
       "       [ 8.51854643e-02,  1.71282390e-01],\n",
       "       [-3.48417623e-01,  1.70708314e-01],\n",
       "       [-3.26308741e-01,  1.73315814e-01],\n",
       "       [-4.28444252e-01,  1.73496609e-01]])"
      ]
     },
     "execution_count": 316,
     "metadata": {},
     "output_type": "execute_result"
    }
   ],
   "source": [
    "selector_in.params"
   ]
  },
  {
   "cell_type": "code",
   "execution_count": 298,
   "metadata": {},
   "outputs": [
    {
     "data": {
      "text/plain": [
       "(86, 1)"
      ]
     },
     "execution_count": 298,
     "metadata": {},
     "output_type": "execute_result"
    }
   ],
   "source": [
    "pR[0, :,:].shape"
   ]
  },
  {
   "cell_type": "code",
   "execution_count": 315,
   "metadata": {},
   "outputs": [],
   "source": [
    "#x_std[:,0]"
   ]
  },
  {
   "cell_type": "code",
   "execution_count": 288,
   "metadata": {},
   "outputs": [
    {
     "data": {
      "text/plain": [
       "array([[0., 0., 0., ..., 0., 0., 0.],\n",
       "       [0., 0., 0., ..., 0., 0., 0.],\n",
       "       [0., 0., 0., ..., 0., 0., 0.],\n",
       "       ...,\n",
       "       [0., 0., 0., ..., 1., 0., 0.],\n",
       "       [0., 0., 0., ..., 0., 1., 0.],\n",
       "       [0., 0., 0., ..., 0., 0., 1.]])"
      ]
     },
     "execution_count": 288,
     "metadata": {},
     "output_type": "execute_result"
    }
   ],
   "source": [
    "for iter_i in range(selector_in.bw[1].shape[0]):\n",
    "    for j in range(k):\n",
    "        pRj_old = pR[:, :, j] + err\n",
    "        Xj = self.X[:, j]\n",
    "        n_chunks_Aj = n_chunks\n",
    "        chunk_size_Aj = int(np.ceil(float(n / n_chunks_Aj)))\n",
    "        for chunk_Aj in range(n_chunks_Aj):\n",
    "            chunk_index_Aj = np.arange(n)[chunk_Aj * chunk_size_Aj:(\n",
    "                chunk_Aj + 1) * chunk_size_Aj]\n",
    "            pAj = np.empty((len(chunk_index_Aj), n))\n",
    "            for i in range(len(chunk_index_Aj)):\n",
    "                index = chunk_index_Aj[i]\n",
    "                wi = self._build_wi(index, self.bws_history[iter_i, j])\n",
    "                xw = Xj * wi\n",
    "                pAj[i, :] = Xj[index] / np.sum(xw * Xj) * xw\n",
    "            pR[chunk_index_Aj, :, j] = pAj.dot(pRj_old)\n",
    "        err = pRj_old - pR[:, :, j]"
   ]
  },
  {
   "cell_type": "code",
   "execution_count": null,
   "metadata": {},
   "outputs": [],
   "source": [
    "for i in range(n):\n",
    "    wi = build_wi(0, 262).reshape(-1, 1)\n",
    "    xT = (self.X * wi).T\n",
    "    P = np.linalg.solve(xT.dot(self.X), xT).dot(init_pR).T\n",
    "    pR[i, :, :] = P * self.X[i]"
   ]
  },
  {
   "cell_type": "code",
   "execution_count": null,
   "metadata": {},
   "outputs": [],
   "source": [
    "def __init__(self, coords, y, X, selector, sigma2_v1=True,\n",
    "                 kernel='bisquare', fixed=False, constant=True,\n",
    "                 spherical=False, hat_matrix=False):"
   ]
  },
  {
   "cell_type": "code",
   "execution_count": 226,
   "metadata": {},
   "outputs": [
    {
     "data": {
      "text/plain": [
       "array([[ 23.,  94.],\n",
       "       [ 23., 168.],\n",
       "       [ 23., 253.],\n",
       "       [ 23., 261.],\n",
       "       [ 23., 261.],\n",
       "       [ 23., 261.],\n",
       "       [ 23., 261.],\n",
       "       [ 23., 261.],\n",
       "       [ 23., 261.],\n",
       "       [ 23., 261.],\n",
       "       [ 23., 261.],\n",
       "       [ 23., 261.],\n",
       "       [ 23., 261.],\n",
       "       [ 23., 261.],\n",
       "       [ 23., 261.],\n",
       "       [ 23., 261.],\n",
       "       [ 23., 261.],\n",
       "       [ 23., 261.],\n",
       "       [ 23., 261.],\n",
       "       [ 23., 261.]])"
      ]
     },
     "execution_count": 226,
     "metadata": {},
     "output_type": "execute_result"
    }
   ],
   "source": [
    "selector_in.bw[1]"
   ]
  },
  {
   "cell_type": "code",
   "execution_count": null,
   "metadata": {},
   "outputs": [],
   "source": [
    "self.selector = selector\n",
    "self.bws = self.selector.bw[0]  #final set of bandwidth\n",
    "self.bws_history = selector.bw[1]  #bws history in backfitting\n",
    "        #self.bw_init = self.selector.bw_init  #initialization bandiwdth\n",
    "self.family = Gaussian()  # manually set since we only support Gassian MGWR for now\n",
    "GWR.__init__(self, coords, y, X, self.bw_init, family=self.family,\n",
    "                     sigma2_v1=sigma2_v1, kernel=kernel, fixed=fixed,\n",
    "                     constant=constant, spherical=spherical,\n",
    "                     hat_matrix=hat_matrix)\n",
    "self.selector = selector\n",
    "self.sigma2_v1 = sigma2_v1\n",
    "self.points = None\n",
    "self.P = None\n",
    "self.offset = None\n",
    "self.exog_resid = None\n",
    "self.exog_scale = None\n",
    "self_fit_params = None"
   ]
  },
  {
   "cell_type": "code",
   "execution_count": 220,
   "metadata": {},
   "outputs": [
    {
     "data": {
      "application/vnd.jupyter.widget-view+json": {
       "model_id": "9e388729479b40439bacc49aed42a760",
       "version_major": 2,
       "version_minor": 0
      },
      "text/plain": [
       "HBox(children=(IntProgress(value=0, description='backfitting', max=200), HTML(value='')))"
      ]
     },
     "metadata": {},
     "output_type": "display_data"
    },
    {
     "name": "stdout",
     "output_type": "stream",
     "text": [
      "\n"
     ]
    }
   ],
   "source": [
    "gwr_selector = Sel_BW(coords, y_std, x_std,family=Gaussian(),multi=True).search(pool=pool)\n",
    "#bws=gwr_selector.search(pool=pool)"
   ]
  },
  {
   "cell_type": "code",
   "execution_count": 252,
   "metadata": {
    "scrolled": true
   },
   "outputs": [
    {
     "data": {
      "application/vnd.jupyter.widget-view+json": {
       "model_id": "ddc56dd665d842ef894ec8f0aac1d076",
       "version_major": 2,
       "version_minor": 0
      },
      "text/plain": [
       "HBox(children=(IntProgress(value=0, description='backfitting', max=200), HTML(value='')))"
      ]
     },
     "metadata": {},
     "output_type": "display_data"
    },
    {
     "name": "stdout",
     "output_type": "stream",
     "text": [
      "\n"
     ]
    },
    {
     "data": {
      "text/plain": [
       "array([ 23., 261.])"
      ]
     },
     "execution_count": 252,
     "metadata": {},
     "output_type": "execute_result"
    }
   ],
   "source": [
    "selector_in = Sel_BW(coords, y_std, x_std, multi=True)\n",
    "selector_in.search(multi_bw_min=[2])\n",
    "\n",
    "selector_inp = Sel_BW(coords, y_std, x_std, multi=True,family=Poisson(),offset=off)\n",
    "#selector_inp.search()"
   ]
  },
  {
   "cell_type": "code",
   "execution_count": 258,
   "metadata": {},
   "outputs": [
    {
     "data": {
      "text/plain": [
       "85.0"
      ]
     },
     "execution_count": 258,
     "metadata": {},
     "output_type": "execute_result"
    }
   ],
   "source": [
    "selector_in.bw_init"
   ]
  },
  {
   "cell_type": "code",
   "execution_count": 257,
   "metadata": {},
   "outputs": [
    {
     "data": {
      "text/plain": [
       "261.0"
      ]
     },
     "execution_count": 257,
     "metadata": {},
     "output_type": "execute_result"
    }
   ],
   "source": [
    "Sel_BW(coords, y_std, x_std,family=Poisson(),offset=off).search()"
   ]
  },
  {
   "cell_type": "code",
   "execution_count": 253,
   "metadata": {},
   "outputs": [
    {
     "data": {
      "text/plain": [
       "array([[ 23.,  94.],\n",
       "       [ 23., 168.],\n",
       "       [ 23., 253.],\n",
       "       [ 23., 261.],\n",
       "       [ 23., 261.],\n",
       "       [ 23., 261.],\n",
       "       [ 23., 261.],\n",
       "       [ 23., 261.],\n",
       "       [ 23., 261.],\n",
       "       [ 23., 261.],\n",
       "       [ 23., 261.],\n",
       "       [ 23., 261.],\n",
       "       [ 23., 261.],\n",
       "       [ 23., 261.],\n",
       "       [ 23., 261.],\n",
       "       [ 23., 261.],\n",
       "       [ 23., 261.],\n",
       "       [ 23., 261.],\n",
       "       [ 23., 261.],\n",
       "       [ 23., 261.]])"
      ]
     },
     "execution_count": 253,
     "metadata": {},
     "output_type": "execute_result"
    }
   ],
   "source": [
    "selector_in.bw[1]"
   ]
  },
  {
   "cell_type": "code",
   "execution_count": 251,
   "metadata": {},
   "outputs": [
    {
     "data": {
      "application/vnd.jupyter.widget-view+json": {
       "model_id": "93d0ea75953c4b36a149132a8271bc18",
       "version_major": 2,
       "version_minor": 0
      },
      "text/plain": [
       "HBox(children=(IntProgress(value=0, description='backfitting', max=200), HTML(value='')))"
      ]
     },
     "metadata": {},
     "output_type": "display_data"
    },
    {
     "name": "stderr",
     "output_type": "stream",
     "text": [
      "C:\\Users\\msachde1\\AppData\\Local\\Continuum\\anaconda3\\envs\\gwrenv\\lib\\site-packages\\spglm\\family.py:111: RuntimeWarning: divide by zero encountered in true_divide\n",
      "  return 1. / (self.link.deriv(mu)**2 * self.variance(mu))\n",
      "C:\\Users\\msachde1\\AppData\\Local\\Continuum\\anaconda3\\envs\\gwrenv\\lib\\site-packages\\spglm\\iwls.py:34: RuntimeWarning: invalid value encountered in multiply\n",
      "  xT = (x * wi).T\n",
      "C:\\Users\\msachde1\\AppData\\Local\\Continuum\\anaconda3\\envs\\gwrenv\\lib\\site-packages\\spglm\\iwls.py:126: RuntimeWarning: invalid value encountered in greater\n",
      "  while diff > tol and n_iter < max_iter:\n",
      "C:\\Users\\msachde1\\AppData\\Local\\Continuum\\anaconda3\\envs\\gwrenv\\lib\\site-packages\\spglm\\family.py:111: RuntimeWarning: invalid value encountered in multiply\n",
      "  return 1. / (self.link.deriv(mu)**2 * self.variance(mu))\n",
      "C:\\Users\\msachde1\\AppData\\Local\\Continuum\\anaconda3\\envs\\gwrenv\\lib\\site-packages\\spglm\\iwls.py:129: RuntimeWarning: invalid value encountered in multiply\n",
      "  z = v + (family.link.deriv(mu) * (y - mu))\n",
      "C:\\Users\\msachde1\\AppData\\Local\\Continuum\\anaconda3\\envs\\gwrenv\\lib\\site-packages\\spglm\\family.py:288: RuntimeWarning: invalid value encountered in sign\n",
      "  np.sqrt(2 * (endog * np.log(endog_mu) - (endog - mu))) / scale)\n"
     ]
    },
    {
     "name": "stdout",
     "output_type": "stream",
     "text": [
      "\n"
     ]
    },
    {
     "ename": "Exception",
     "evalue": "one or more input arrays have missing/NaN values",
     "output_type": "error",
     "traceback": [
      "\u001b[1;31m---------------------------------------------------------------------------\u001b[0m",
      "\u001b[1;31mException\u001b[0m                                 Traceback (most recent call last)",
      "\u001b[1;32m<ipython-input-251-b7d8551de338>\u001b[0m in \u001b[0;36m<module>\u001b[1;34m()\u001b[0m\n\u001b[0;32m      1\u001b[0m \u001b[1;31m#selector_inp = Sel_BW(coords, y_std, x_std, multi=True,family=Poisson(),offset=off)\u001b[0m\u001b[1;33m\u001b[0m\u001b[1;33m\u001b[0m\u001b[0m\n\u001b[1;32m----> 2\u001b[1;33m \u001b[0mselector_inp\u001b[0m\u001b[1;33m.\u001b[0m\u001b[0msearch\u001b[0m\u001b[1;33m(\u001b[0m\u001b[1;33m)\u001b[0m\u001b[1;33m\u001b[0m\u001b[0m\n\u001b[0m",
      "\u001b[1;32m/Users/msachde1/Desktop/Seattle_files/mgwr-optim\\mgwr\\sel_bw.py\u001b[0m in \u001b[0;36msearch\u001b[1;34m(self, search_method, criterion, bw_min, bw_max, interval, tol, max_iter, init_multi, tol_multi, rss_score, max_iter_multi, multi_bw_min, multi_bw_max, bws_same_times, pool)\u001b[0m\n\u001b[0;32m    299\u001b[0m \u001b[1;33m\u001b[0m\u001b[0m\n\u001b[0;32m    300\u001b[0m         \u001b[1;32mif\u001b[0m \u001b[0mself\u001b[0m\u001b[1;33m.\u001b[0m\u001b[0mmulti\u001b[0m\u001b[1;33m:\u001b[0m\u001b[1;33m\u001b[0m\u001b[0m\n\u001b[1;32m--> 301\u001b[1;33m             \u001b[0mself\u001b[0m\u001b[1;33m.\u001b[0m\u001b[0m_mbw\u001b[0m\u001b[1;33m(\u001b[0m\u001b[1;33m)\u001b[0m\u001b[1;33m\u001b[0m\u001b[0m\n\u001b[0m\u001b[0;32m    302\u001b[0m             \u001b[0mself\u001b[0m\u001b[1;33m.\u001b[0m\u001b[0mparams\u001b[0m \u001b[1;33m=\u001b[0m \u001b[0mself\u001b[0m\u001b[1;33m.\u001b[0m\u001b[0mbw\u001b[0m\u001b[1;33m[\u001b[0m\u001b[1;36m3\u001b[0m\u001b[1;33m]\u001b[0m \u001b[1;31m#params n by k\u001b[0m\u001b[1;33m\u001b[0m\u001b[0m\n\u001b[0;32m    303\u001b[0m             \u001b[0mself\u001b[0m\u001b[1;33m.\u001b[0m\u001b[0mbw_init\u001b[0m \u001b[1;33m=\u001b[0m \u001b[0mself\u001b[0m\u001b[1;33m.\u001b[0m\u001b[0mbw\u001b[0m\u001b[1;33m[\u001b[0m\u001b[1;33m-\u001b[0m\u001b[1;36m1\u001b[0m\u001b[1;33m]\u001b[0m \u001b[1;31m#scalar, optimal bw from initial gwr model\u001b[0m\u001b[1;33m\u001b[0m\u001b[0m\n",
      "\u001b[1;32m/Users/msachde1/Desktop/Seattle_files/mgwr-optim\\mgwr\\sel_bw.py\u001b[0m in \u001b[0;36m_mbw\u001b[1;34m(self)\u001b[0m\n\u001b[0;32m    371\u001b[0m         self.bw = multi_bw(self.init_multi, y, X, n, k, family,\n\u001b[0;32m    372\u001b[0m                 \u001b[0mself\u001b[0m\u001b[1;33m.\u001b[0m\u001b[0mtol_multi\u001b[0m\u001b[1;33m,\u001b[0m \u001b[0mself\u001b[0m\u001b[1;33m.\u001b[0m\u001b[0mmax_iter_multi\u001b[0m\u001b[1;33m,\u001b[0m \u001b[0mself\u001b[0m\u001b[1;33m.\u001b[0m\u001b[0mrss_score\u001b[0m\u001b[1;33m,\u001b[0m \u001b[0mgwr_func\u001b[0m\u001b[1;33m,\u001b[0m\u001b[1;33m\u001b[0m\u001b[0m\n\u001b[1;32m--> 373\u001b[1;33m                 bw_func, sel_func, multi_bw_min, multi_bw_max, bws_same_times)\n\u001b[0m\u001b[0;32m    374\u001b[0m \u001b[1;33m\u001b[0m\u001b[0m\n\u001b[0;32m    375\u001b[0m     \u001b[1;32mdef\u001b[0m \u001b[0m_init_section\u001b[0m\u001b[1;33m(\u001b[0m\u001b[0mself\u001b[0m\u001b[1;33m,\u001b[0m \u001b[0mX_glob\u001b[0m\u001b[1;33m,\u001b[0m \u001b[0mX_loc\u001b[0m\u001b[1;33m,\u001b[0m \u001b[0mcoords\u001b[0m\u001b[1;33m,\u001b[0m \u001b[0mconstant\u001b[0m\u001b[1;33m)\u001b[0m\u001b[1;33m:\u001b[0m\u001b[1;33m\u001b[0m\u001b[0m\n",
      "\u001b[1;32m/Users/msachde1/Desktop/Seattle_files/mgwr-optim\\mgwr\\search.py\u001b[0m in \u001b[0;36mmulti_bw\u001b[1;34m(init, y, X, n, k, family, tol, max_iter, rss_score, gwr_func, bw_func, sel_func, multi_bw_min, multi_bw_max, bws_same_times)\u001b[0m\n\u001b[0;32m    189\u001b[0m                 \u001b[0mbw\u001b[0m \u001b[1;33m=\u001b[0m \u001b[0mbws\u001b[0m\u001b[1;33m[\u001b[0m\u001b[0mj\u001b[0m\u001b[1;33m]\u001b[0m\u001b[1;33m\u001b[0m\u001b[0m\n\u001b[0;32m    190\u001b[0m             \u001b[1;32melse\u001b[0m\u001b[1;33m:\u001b[0m\u001b[1;33m\u001b[0m\u001b[0m\n\u001b[1;32m--> 191\u001b[1;33m                 \u001b[0mbw\u001b[0m \u001b[1;33m=\u001b[0m \u001b[0msel_func\u001b[0m\u001b[1;33m(\u001b[0m\u001b[0mbw_class\u001b[0m\u001b[1;33m,\u001b[0m \u001b[0mmulti_bw_min\u001b[0m\u001b[1;33m[\u001b[0m\u001b[0mj\u001b[0m\u001b[1;33m]\u001b[0m\u001b[1;33m,\u001b[0m \u001b[0mmulti_bw_max\u001b[0m\u001b[1;33m[\u001b[0m\u001b[0mj\u001b[0m\u001b[1;33m]\u001b[0m\u001b[1;33m)\u001b[0m\u001b[1;33m\u001b[0m\u001b[0m\n\u001b[0m\u001b[0;32m    192\u001b[0m                 \u001b[1;32mif\u001b[0m \u001b[0mbw\u001b[0m \u001b[1;33m==\u001b[0m \u001b[0mbws\u001b[0m\u001b[1;33m[\u001b[0m\u001b[0mj\u001b[0m\u001b[1;33m]\u001b[0m\u001b[1;33m:\u001b[0m\u001b[1;33m\u001b[0m\u001b[0m\n\u001b[0;32m    193\u001b[0m                     \u001b[0mbw_stable_counter\u001b[0m\u001b[1;33m[\u001b[0m\u001b[0mj\u001b[0m\u001b[1;33m]\u001b[0m \u001b[1;33m+=\u001b[0m \u001b[1;36m1\u001b[0m\u001b[1;33m\u001b[0m\u001b[0m\n",
      "\u001b[1;32m/Users/msachde1/Desktop/Seattle_files/mgwr-optim\\mgwr\\sel_bw.py\u001b[0m in \u001b[0;36msel_func\u001b[1;34m(bw_func, bw_min, bw_max)\u001b[0m\n\u001b[0;32m    367\u001b[0m         \u001b[1;32mdef\u001b[0m \u001b[0msel_func\u001b[0m\u001b[1;33m(\u001b[0m\u001b[0mbw_func\u001b[0m\u001b[1;33m,\u001b[0m \u001b[0mbw_min\u001b[0m\u001b[1;33m=\u001b[0m\u001b[1;32mNone\u001b[0m\u001b[1;33m,\u001b[0m \u001b[0mbw_max\u001b[0m\u001b[1;33m=\u001b[0m\u001b[1;32mNone\u001b[0m\u001b[1;33m)\u001b[0m\u001b[1;33m:\u001b[0m\u001b[1;33m\u001b[0m\u001b[0m\n\u001b[0;32m    368\u001b[0m             return bw_func.search(search_method=search_method, criterion=criterion,\n\u001b[1;32m--> 369\u001b[1;33m                     bw_min=bw_min, bw_max=bw_max, interval=interval, tol=tol, max_iter=max_iter, pool=self.pool)\n\u001b[0m\u001b[0;32m    370\u001b[0m \u001b[1;33m\u001b[0m\u001b[0m\n\u001b[0;32m    371\u001b[0m         self.bw = multi_bw(self.init_multi, y, X, n, k, family,\n",
      "\u001b[1;32m/Users/msachde1/Desktop/Seattle_files/mgwr-optim\\mgwr\\sel_bw.py\u001b[0m in \u001b[0;36msearch\u001b[1;34m(self, search_method, criterion, bw_min, bw_max, interval, tol, max_iter, init_multi, tol_multi, rss_score, max_iter_multi, multi_bw_min, multi_bw_max, bws_same_times, pool)\u001b[0m\n\u001b[0;32m    303\u001b[0m             \u001b[0mself\u001b[0m\u001b[1;33m.\u001b[0m\u001b[0mbw_init\u001b[0m \u001b[1;33m=\u001b[0m \u001b[0mself\u001b[0m\u001b[1;33m.\u001b[0m\u001b[0mbw\u001b[0m\u001b[1;33m[\u001b[0m\u001b[1;33m-\u001b[0m\u001b[1;36m1\u001b[0m\u001b[1;33m]\u001b[0m \u001b[1;31m#scalar, optimal bw from initial gwr model\u001b[0m\u001b[1;33m\u001b[0m\u001b[0m\n\u001b[0;32m    304\u001b[0m         \u001b[1;32melse\u001b[0m\u001b[1;33m:\u001b[0m\u001b[1;33m\u001b[0m\u001b[0m\n\u001b[1;32m--> 305\u001b[1;33m             \u001b[0mself\u001b[0m\u001b[1;33m.\u001b[0m\u001b[0m_bw\u001b[0m\u001b[1;33m(\u001b[0m\u001b[1;33m)\u001b[0m\u001b[1;33m\u001b[0m\u001b[0m\n\u001b[0m\u001b[0;32m    306\u001b[0m \u001b[1;33m\u001b[0m\u001b[0m\n\u001b[0;32m    307\u001b[0m         \u001b[0mself\u001b[0m\u001b[1;33m.\u001b[0m\u001b[0mpool\u001b[0m\u001b[1;33m=\u001b[0m\u001b[1;32mNone\u001b[0m\u001b[1;33m\u001b[0m\u001b[0m\n",
      "\u001b[1;32m/Users/msachde1/Desktop/Seattle_files/mgwr-optim\\mgwr\\sel_bw.py\u001b[0m in \u001b[0;36m_bw\u001b[1;34m(self)\u001b[0m\n\u001b[0;32m    318\u001b[0m             \u001b[0mdelta\u001b[0m \u001b[1;33m=\u001b[0m \u001b[1;36m0.38197\u001b[0m \u001b[1;31m#1 - (np.sqrt(5.0)-1.0)/2.0\u001b[0m\u001b[1;33m\u001b[0m\u001b[0m\n\u001b[0;32m    319\u001b[0m             self.bw = golden_section(a, c, delta, gwr_func, self.tol,\n\u001b[1;32m--> 320\u001b[1;33m                     self.max_iter, self.int_score)\n\u001b[0m\u001b[0;32m    321\u001b[0m         \u001b[1;32melif\u001b[0m \u001b[0mself\u001b[0m\u001b[1;33m.\u001b[0m\u001b[0msearch_method\u001b[0m \u001b[1;33m==\u001b[0m \u001b[1;34m'interval'\u001b[0m\u001b[1;33m:\u001b[0m\u001b[1;33m\u001b[0m\u001b[0m\n\u001b[0;32m    322\u001b[0m             self.bw = equal_interval(self.bw_min, self.bw_max, self.interval,\n",
      "\u001b[1;32m/Users/msachde1/Desktop/Seattle_files/mgwr-optim\\mgwr\\search.py\u001b[0m in \u001b[0;36mgolden_section\u001b[1;34m(a, c, delta, function, tol, max_iter, int_score)\u001b[0m\n\u001b[0;32m     56\u001b[0m             \u001b[0mscore_b\u001b[0m \u001b[1;33m=\u001b[0m \u001b[0mdict\u001b[0m\u001b[1;33m[\u001b[0m\u001b[0mb\u001b[0m\u001b[1;33m]\u001b[0m\u001b[1;33m\u001b[0m\u001b[0m\n\u001b[0;32m     57\u001b[0m         \u001b[1;32melse\u001b[0m\u001b[1;33m:\u001b[0m\u001b[1;33m\u001b[0m\u001b[0m\n\u001b[1;32m---> 58\u001b[1;33m             \u001b[0mscore_b\u001b[0m \u001b[1;33m=\u001b[0m \u001b[0mfunction\u001b[0m\u001b[1;33m(\u001b[0m\u001b[0mb\u001b[0m\u001b[1;33m)\u001b[0m\u001b[1;33m\u001b[0m\u001b[0m\n\u001b[0m\u001b[0;32m     59\u001b[0m             \u001b[0mdict\u001b[0m\u001b[1;33m[\u001b[0m\u001b[0mb\u001b[0m\u001b[1;33m]\u001b[0m \u001b[1;33m=\u001b[0m \u001b[0mscore_b\u001b[0m\u001b[1;33m\u001b[0m\u001b[0m\n\u001b[0;32m     60\u001b[0m \u001b[1;33m\u001b[0m\u001b[0m\n",
      "\u001b[1;32m/Users/msachde1/Desktop/Seattle_files/mgwr-optim\\mgwr\\sel_bw.py\u001b[0m in \u001b[0;36m<lambda>\u001b[1;34m(bw)\u001b[0m\n\u001b[0;32m    309\u001b[0m \u001b[1;33m\u001b[0m\u001b[0m\n\u001b[0;32m    310\u001b[0m     \u001b[1;32mdef\u001b[0m \u001b[0m_bw\u001b[0m\u001b[1;33m(\u001b[0m\u001b[0mself\u001b[0m\u001b[1;33m)\u001b[0m\u001b[1;33m:\u001b[0m\u001b[1;33m\u001b[0m\u001b[0m\n\u001b[1;32m--> 311\u001b[1;33m         \u001b[0mgwr_func\u001b[0m \u001b[1;33m=\u001b[0m \u001b[1;32mlambda\u001b[0m \u001b[0mbw\u001b[0m\u001b[1;33m:\u001b[0m \u001b[0mgetDiag\u001b[0m\u001b[1;33m[\u001b[0m\u001b[0mself\u001b[0m\u001b[1;33m.\u001b[0m\u001b[0mcriterion\u001b[0m\u001b[1;33m]\u001b[0m\u001b[1;33m(\u001b[0m\u001b[0mGWR\u001b[0m\u001b[1;33m(\u001b[0m\u001b[0mself\u001b[0m\u001b[1;33m.\u001b[0m\u001b[0mcoords\u001b[0m\u001b[1;33m,\u001b[0m \u001b[0mself\u001b[0m\u001b[1;33m.\u001b[0m\u001b[0my\u001b[0m\u001b[1;33m,\u001b[0m \u001b[0mself\u001b[0m\u001b[1;33m.\u001b[0m\u001b[0mX_loc\u001b[0m\u001b[1;33m,\u001b[0m \u001b[0mbw\u001b[0m\u001b[1;33m,\u001b[0m \u001b[0mfamily\u001b[0m\u001b[1;33m=\u001b[0m\u001b[0mself\u001b[0m\u001b[1;33m.\u001b[0m\u001b[0mfamily\u001b[0m\u001b[1;33m,\u001b[0m \u001b[0mkernel\u001b[0m\u001b[1;33m=\u001b[0m\u001b[0mself\u001b[0m\u001b[1;33m.\u001b[0m\u001b[0mkernel\u001b[0m\u001b[1;33m,\u001b[0m\u001b[0mfixed\u001b[0m\u001b[1;33m=\u001b[0m\u001b[0mself\u001b[0m\u001b[1;33m.\u001b[0m\u001b[0mfixed\u001b[0m\u001b[1;33m,\u001b[0m \u001b[0mconstant\u001b[0m\u001b[1;33m=\u001b[0m\u001b[0mself\u001b[0m\u001b[1;33m.\u001b[0m\u001b[0mconstant\u001b[0m\u001b[1;33m,\u001b[0m \u001b[0moffset\u001b[0m\u001b[1;33m=\u001b[0m\u001b[0mself\u001b[0m\u001b[1;33m.\u001b[0m\u001b[0moffset\u001b[0m\u001b[1;33m,\u001b[0m\u001b[0mspherical\u001b[0m\u001b[1;33m=\u001b[0m\u001b[0mself\u001b[0m\u001b[1;33m.\u001b[0m\u001b[0mspherical\u001b[0m\u001b[1;33m)\u001b[0m\u001b[1;33m.\u001b[0m\u001b[0mfit\u001b[0m\u001b[1;33m(\u001b[0m\u001b[0mlite\u001b[0m\u001b[1;33m=\u001b[0m\u001b[1;32mTrue\u001b[0m\u001b[1;33m,\u001b[0m \u001b[0mpool\u001b[0m\u001b[1;33m=\u001b[0m\u001b[0mself\u001b[0m\u001b[1;33m.\u001b[0m\u001b[0mpool\u001b[0m\u001b[1;33m)\u001b[0m\u001b[1;33m)\u001b[0m\u001b[1;33m\u001b[0m\u001b[0m\n\u001b[0m\u001b[0;32m    312\u001b[0m \u001b[1;33m\u001b[0m\u001b[0m\n\u001b[0;32m    313\u001b[0m         \u001b[0mself\u001b[0m\u001b[1;33m.\u001b[0m\u001b[0m_optimized_function\u001b[0m \u001b[1;33m=\u001b[0m \u001b[0mgwr_func\u001b[0m\u001b[1;33m\u001b[0m\u001b[0m\n",
      "\u001b[1;32m/Users/msachde1/Desktop/Seattle_files/mgwr-optim\\mgwr\\gwr.py\u001b[0m in \u001b[0;36m__init__\u001b[1;34m(self, coords, y, X, bw, family, offset, sigma2_v1, kernel, fixed, constant, spherical, hat_matrix)\u001b[0m\n\u001b[0;32m    210\u001b[0m         \u001b[0mInitialize\u001b[0m \u001b[1;32mclass\u001b[0m\u001b[1;33m\u001b[0m\u001b[0m\n\u001b[0;32m    211\u001b[0m         \"\"\"\n\u001b[1;32m--> 212\u001b[1;33m         \u001b[0mGLM\u001b[0m\u001b[1;33m.\u001b[0m\u001b[0m__init__\u001b[0m\u001b[1;33m(\u001b[0m\u001b[0mself\u001b[0m\u001b[1;33m,\u001b[0m \u001b[0my\u001b[0m\u001b[1;33m,\u001b[0m \u001b[0mX\u001b[0m\u001b[1;33m,\u001b[0m \u001b[0mfamily\u001b[0m\u001b[1;33m,\u001b[0m \u001b[0mconstant\u001b[0m\u001b[1;33m=\u001b[0m\u001b[0mconstant\u001b[0m\u001b[1;33m)\u001b[0m\u001b[1;33m\u001b[0m\u001b[0m\n\u001b[0m\u001b[0;32m    213\u001b[0m         \u001b[0mself\u001b[0m\u001b[1;33m.\u001b[0m\u001b[0mconstant\u001b[0m \u001b[1;33m=\u001b[0m \u001b[0mconstant\u001b[0m\u001b[1;33m\u001b[0m\u001b[0m\n\u001b[0;32m    214\u001b[0m         \u001b[0mself\u001b[0m\u001b[1;33m.\u001b[0m\u001b[0msigma2_v1\u001b[0m \u001b[1;33m=\u001b[0m \u001b[0msigma2_v1\u001b[0m\u001b[1;33m\u001b[0m\u001b[0m\n",
      "\u001b[1;32m~\\AppData\\Local\\Continuum\\anaconda3\\envs\\gwrenv\\lib\\site-packages\\spglm\\glm.py\u001b[0m in \u001b[0;36m__init__\u001b[1;34m(self, y, X, family, offset, y_fix, constant)\u001b[0m\n\u001b[0;32m     86\u001b[0m         \u001b[0mInitialize\u001b[0m \u001b[1;32mclass\u001b[0m\u001b[1;33m\u001b[0m\u001b[0m\n\u001b[0;32m     87\u001b[0m         \"\"\"\n\u001b[1;32m---> 88\u001b[1;33m         \u001b[0mself\u001b[0m\u001b[1;33m.\u001b[0m\u001b[0mn\u001b[0m \u001b[1;33m=\u001b[0m \u001b[0mUSER\u001b[0m\u001b[1;33m.\u001b[0m\u001b[0mcheck_arrays\u001b[0m\u001b[1;33m(\u001b[0m\u001b[0my\u001b[0m\u001b[1;33m,\u001b[0m \u001b[0mX\u001b[0m\u001b[1;33m)\u001b[0m\u001b[1;33m\u001b[0m\u001b[0m\n\u001b[0m\u001b[0;32m     89\u001b[0m         \u001b[0mUSER\u001b[0m\u001b[1;33m.\u001b[0m\u001b[0mcheck_y\u001b[0m\u001b[1;33m(\u001b[0m\u001b[0my\u001b[0m\u001b[1;33m,\u001b[0m \u001b[0mself\u001b[0m\u001b[1;33m.\u001b[0m\u001b[0mn\u001b[0m\u001b[1;33m)\u001b[0m\u001b[1;33m\u001b[0m\u001b[0m\n\u001b[0;32m     90\u001b[0m         \u001b[0mself\u001b[0m\u001b[1;33m.\u001b[0m\u001b[0my\u001b[0m \u001b[1;33m=\u001b[0m \u001b[0my\u001b[0m\u001b[1;33m\u001b[0m\u001b[0m\n",
      "\u001b[1;32m~\\AppData\\Local\\Continuum\\anaconda3\\envs\\gwrenv\\lib\\site-packages\\spreg\\user_output.py\u001b[0m in \u001b[0;36mcheck_arrays\u001b[1;34m(*arrays)\u001b[0m\n\u001b[0;32m    356\u001b[0m             \u001b[1;32mraise\u001b[0m \u001b[0mException\u001b[0m\u001b[1;33m(\u001b[0m\u001b[1;34m\"one or more input arrays have more columns than rows\"\u001b[0m\u001b[1;33m)\u001b[0m\u001b[1;33m\u001b[0m\u001b[0m\n\u001b[0;32m    357\u001b[0m         \u001b[1;32mif\u001b[0m \u001b[1;32mnot\u001b[0m \u001b[0mspu\u001b[0m\u001b[1;33m.\u001b[0m\u001b[0mspisfinite\u001b[0m\u001b[1;33m(\u001b[0m\u001b[0mi\u001b[0m\u001b[1;33m)\u001b[0m\u001b[1;33m:\u001b[0m\u001b[1;33m\u001b[0m\u001b[0m\n\u001b[1;32m--> 358\u001b[1;33m             \u001b[1;32mraise\u001b[0m \u001b[0mException\u001b[0m\u001b[1;33m(\u001b[0m\u001b[1;34m\"one or more input arrays have missing/NaN values\"\u001b[0m\u001b[1;33m)\u001b[0m\u001b[1;33m\u001b[0m\u001b[0m\n\u001b[0m\u001b[0;32m    359\u001b[0m         \u001b[0mrows\u001b[0m\u001b[1;33m.\u001b[0m\u001b[0mappend\u001b[0m\u001b[1;33m(\u001b[0m\u001b[0mshape\u001b[0m\u001b[1;33m[\u001b[0m\u001b[1;36m0\u001b[0m\u001b[1;33m]\u001b[0m\u001b[1;33m)\u001b[0m\u001b[1;33m\u001b[0m\u001b[0m\n\u001b[0;32m    360\u001b[0m     \u001b[1;32mif\u001b[0m \u001b[0mlen\u001b[0m\u001b[1;33m(\u001b[0m\u001b[0mset\u001b[0m\u001b[1;33m(\u001b[0m\u001b[0mrows\u001b[0m\u001b[1;33m)\u001b[0m\u001b[1;33m)\u001b[0m \u001b[1;33m>\u001b[0m \u001b[1;36m1\u001b[0m\u001b[1;33m:\u001b[0m\u001b[1;33m\u001b[0m\u001b[0m\n",
      "\u001b[1;31mException\u001b[0m: one or more input arrays have missing/NaN values"
     ]
    }
   ],
   "source": [
    "selector_inp = Sel_BW(coords, y_std, x_std, multi=True,family=Poisson(),offset=off)\n",
    "#selector_inp.search()"
   ]
  },
  {
   "cell_type": "code",
   "execution_count": 241,
   "metadata": {},
   "outputs": [
    {
     "data": {
      "text/plain": [
       "array([[ 5.92680698e-02],\n",
       "       [-3.75800193e-01],\n",
       "       [-4.91509838e-01],\n",
       "       [-5.93334325e-01],\n",
       "       [-5.14651767e-01],\n",
       "       [-3.20259564e-01],\n",
       "       [-5.14651767e-01],\n",
       "       [-4.63739523e-01],\n",
       "       [ 7.31532271e-02],\n",
       "       [-6.90530426e-01],\n",
       "       [-6.85902040e-01],\n",
       "       [-5.23908538e-01],\n",
       "       [-6.58131726e-01],\n",
       "       [-7.36814284e-01],\n",
       "       [-6.99787198e-01],\n",
       "       [-7.36814284e-01],\n",
       "       [-6.72016883e-01],\n",
       "       [-6.90530426e-01],\n",
       "       [-7.69212984e-01],\n",
       "       [-6.21104640e-01],\n",
       "       [-7.22929127e-01],\n",
       "       [-6.30361411e-01],\n",
       "       [-7.46071056e-01],\n",
       "       [-5.97962711e-01],\n",
       "       [-5.00766609e-01],\n",
       "       [-7.36814284e-01],\n",
       "       [-5.51678853e-01],\n",
       "       [-6.30361411e-01],\n",
       "       [-5.97962711e-01],\n",
       "       [-5.88705939e-01],\n",
       "       [-5.88705939e-01],\n",
       "       [-6.90530426e-01],\n",
       "       [-2.60090549e-01],\n",
       "       [-6.85902040e-01],\n",
       "       [-7.41442670e-01],\n",
       "       [-7.50699441e-01],\n",
       "       [-6.16476254e-01],\n",
       "       [-6.81273655e-01],\n",
       "       [ 1.04048585e+00],\n",
       "       [ 1.56464171e-01],\n",
       "       [ 2.47528545e+00],\n",
       "       [ 1.70234502e+00],\n",
       "       [ 1.76251404e+00],\n",
       "       [-2.04549920e-01],\n",
       "       [ 1.01271554e+00],\n",
       "       [-3.66543422e-01],\n",
       "       [-3.94313736e-01],\n",
       "       [-3.66543422e-01],\n",
       "       [-1.30495747e-01],\n",
       "       [ 4.29538932e-01],\n",
       "       [ 3.14977551e-02],\n",
       "       [-4.17455665e-01],\n",
       "       [-4.17455665e-01],\n",
       "       [ 3.13829288e-01],\n",
       "       [-2.60090549e-01],\n",
       "       [ 5.59133734e-01],\n",
       "       [ 1.00345877e+00],\n",
       "       [-3.38773107e-01],\n",
       "       [-1.86036376e-01],\n",
       "       [-7.49551178e-02],\n",
       "       [-3.43401493e-01],\n",
       "       [-1.58266062e-01],\n",
       "       [-4.31340823e-01],\n",
       "       [-4.54482752e-01],\n",
       "       [ 1.14808699e-01],\n",
       "       [-4.12827280e-01],\n",
       "       [-4.03570508e-01],\n",
       "       [-4.45225980e-01],\n",
       "       [-3.29516336e-01],\n",
       "       [-2.87860864e-01],\n",
       "       [-3.48029879e-01],\n",
       "       [ 2.22409836e-02],\n",
       "       [-4.35969208e-01],\n",
       "       [-3.85056965e-01],\n",
       "       [-5.05394995e-01],\n",
       "       [-5.60935624e-01],\n",
       "       [-5.00766609e-01],\n",
       "       [-5.97962711e-01],\n",
       "       [-6.62760112e-01],\n",
       "       [-6.16476254e-01],\n",
       "       [-5.74820782e-01],\n",
       "       [-4.68367909e-01],\n",
       "       [-6.62760112e-01],\n",
       "       [-7.64584599e-01],\n",
       "       [-7.09043969e-01],\n",
       "       [-6.16476254e-01],\n",
       "       [-6.02591096e-01],\n",
       "       [-7.27557512e-01],\n",
       "       [-7.64584599e-01],\n",
       "       [-6.76645269e-01],\n",
       "       [-6.90530426e-01],\n",
       "       [-7.32185898e-01],\n",
       "       [-7.83098142e-01],\n",
       "       [-7.83098142e-01],\n",
       "       [-7.46071056e-01],\n",
       "       [-6.11847868e-01],\n",
       "       [-6.99787198e-01],\n",
       "       [-7.46071056e-01],\n",
       "       [-5.70192396e-01],\n",
       "       [-7.04415584e-01],\n",
       "       [-7.83098142e-01],\n",
       "       [-7.55327827e-01],\n",
       "       [-7.32185898e-01],\n",
       "       [-7.04415584e-01],\n",
       "       [-6.07219482e-01],\n",
       "       [-5.56307239e-01],\n",
       "       [-6.62760112e-01],\n",
       "       [-6.53503340e-01],\n",
       "       [-6.48874954e-01],\n",
       "       [-5.47050467e-01],\n",
       "       [-6.44246568e-01],\n",
       "       [-5.70192396e-01],\n",
       "       [-5.88705939e-01],\n",
       "       [ 4.13687594e+00],\n",
       "       [ 1.71623018e+00],\n",
       "       [ 2.23923777e+00],\n",
       "       [-5.52933110e-03],\n",
       "       [ 1.93376431e+00],\n",
       "       [ 5.92680698e-02],\n",
       "       [-2.55462163e-01],\n",
       "       [-2.36948620e-01],\n",
       "       [-5.52933110e-03],\n",
       "       [-4.22084051e-01],\n",
       "       [ 1.10180313e-01],\n",
       "       [ 9.84945225e-01],\n",
       "       [ 9.47918139e-01],\n",
       "       [-1.47861027e-02],\n",
       "       [ 1.37950628e-01],\n",
       "       [-1.58266062e-01],\n",
       "       [-1.30495747e-01],\n",
       "       [-1.62894448e-01],\n",
       "       [-3.24887950e-01],\n",
       "       [-2.78604092e-01],\n",
       "       [-4.26712437e-01],\n",
       "       [-4.54482752e-01],\n",
       "       [-4.08198894e-01],\n",
       "       [-6.72016883e-01],\n",
       "       [-5.37793696e-01],\n",
       "       [-6.99787198e-01],\n",
       "       [-5.51678853e-01],\n",
       "       [-7.36814284e-01],\n",
       "       [-5.97962711e-01],\n",
       "       [-5.79449168e-01],\n",
       "       [-7.64584599e-01],\n",
       "       [-7.09043969e-01],\n",
       "       [-5.19280152e-01],\n",
       "       [-5.33165310e-01],\n",
       "       [-6.44246568e-01],\n",
       "       [-7.13672355e-01],\n",
       "       [-7.32185898e-01],\n",
       "       [-7.22929127e-01],\n",
       "       [-7.22929127e-01],\n",
       "       [-7.32185898e-01],\n",
       "       [-6.99787198e-01],\n",
       "       [-7.64584599e-01],\n",
       "       [-7.09043969e-01],\n",
       "       [-6.85902040e-01],\n",
       "       [-7.27557512e-01],\n",
       "       [-6.95158812e-01],\n",
       "       [-4.91509838e-01],\n",
       "       [-2.73975706e-01],\n",
       "       [ 3.69369917e-01],\n",
       "       [ 1.17008066e+00],\n",
       "       [ 5.03593104e-01],\n",
       "       [ 8.59978809e-01],\n",
       "       [ 1.27653353e+00],\n",
       "       [ 2.55396800e+00],\n",
       "       [ 1.78565596e+00],\n",
       "       [ 8.22951723e-01],\n",
       "       [ 4.14613271e+00],\n",
       "       [ 3.98413921e+00],\n",
       "       [ 6.14674363e-01],\n",
       "       [ 1.36910124e+00],\n",
       "       [ 2.41974482e+00],\n",
       "       [ 1.26264837e+00],\n",
       "       [ 2.03096041e+00],\n",
       "       [ 8.92377510e-01],\n",
       "       [ 2.94275241e+00],\n",
       "       [ 3.36856390e+00],\n",
       "       [ 4.80799188e+00],\n",
       "       [ 2.89646855e+00],\n",
       "       [ 3.73420638e+00],\n",
       "       [ 2.14204167e+00],\n",
       "       [ 3.46227988e-01],\n",
       "       [-7.49551178e-02],\n",
       "       [ 2.62917044e-01],\n",
       "       [-4.71848031e-02],\n",
       "       [ 3.83255074e-01],\n",
       "       [-1.16610590e-01],\n",
       "       [ 4.34167318e-01],\n",
       "       [ 1.37835802e+00],\n",
       "       [-1.72151219e-01],\n",
       "       [ 1.70349328e-01],\n",
       "       [ 8.70383845e-02],\n",
       "       [ 8.70383845e-02],\n",
       "       [-2.87860864e-01],\n",
       "       [-4.03570508e-01],\n",
       "       [-3.75800193e-01],\n",
       "       [-2.78604092e-01],\n",
       "       [-4.35969208e-01],\n",
       "       [-3.11002792e-01],\n",
       "       [-3.71171808e-01],\n",
       "       [-1.67522833e-01],\n",
       "       [-9.34686609e-02],\n",
       "       [-2.36948620e-01],\n",
       "       [-9.00945323e-04],\n",
       "       [-4.03570508e-01],\n",
       "       [-5.23908538e-01],\n",
       "       [-4.82253066e-01],\n",
       "       [-6.30361411e-01],\n",
       "       [-7.13672355e-01],\n",
       "       [-6.44246568e-01],\n",
       "       [-7.96983299e-01],\n",
       "       [-7.32185898e-01],\n",
       "       [ 1.26264837e+00],\n",
       "       [ 8.04438180e-01],\n",
       "       [-1.44380904e-01],\n",
       "       [ 7.07242079e-01],\n",
       "       [ 1.25801999e+00],\n",
       "       [ 5.49876962e-01],\n",
       "       [ 4.01768617e-01],\n",
       "       [ 1.28693856e-01],\n",
       "       [ 9.24776210e-01],\n",
       "       [ 5.26735033e-01],\n",
       "       [ 5.45248576e-01],\n",
       "       [ 8.55350424e-01],\n",
       "       [ 1.18396581e+00],\n",
       "       [-9.34686609e-02],\n",
       "       [-1.07353818e-01],\n",
       "       [ 4.53829125e-02],\n",
       "       [ 1.24876321e+00],\n",
       "       [ 3.32342831e-01],\n",
       "       [ 3.87883460e-01],\n",
       "       [ 2.76802201e-01],\n",
       "       [-5.52933110e-03],\n",
       "       [ 7.31532271e-02],\n",
       "       [-2.69347320e-01],\n",
       "       [ 2.58636670e+00],\n",
       "       [ 7.85924637e-01],\n",
       "       [ 3.27714445e-01],\n",
       "       [ 1.32744577e+00],\n",
       "       [ 4.75822790e-01],\n",
       "       [-3.85056965e-01],\n",
       "       [ 2.35957580e+00],\n",
       "       [-3.29516336e-01],\n",
       "       [ 1.10180313e-01],\n",
       "       [ 1.51835785e-01],\n",
       "       [ 4.11025389e-01],\n",
       "       [-4.08198894e-01],\n",
       "       [-2.55462163e-01],\n",
       "       [-1.67522833e-01],\n",
       "       [-3.34144721e-01],\n",
       "       [-6.25733025e-01],\n",
       "       [-5.19280152e-01],\n",
       "       [-5.88705939e-01],\n",
       "       [-6.11847868e-01],\n",
       "       [-6.53503340e-01],\n",
       "       [-7.87726528e-01],\n",
       "       [-6.67388497e-01],\n",
       "       [-6.85902040e-01],\n",
       "       [-7.69212984e-01],\n",
       "       [-7.59956213e-01]])"
      ]
     },
     "execution_count": 241,
     "metadata": {},
     "output_type": "execute_result"
    }
   ],
   "source": [
    "selector_inp."
   ]
  },
  {
   "cell_type": "code",
   "execution_count": 242,
   "metadata": {},
   "outputs": [],
   "source": [
    "selector_inp = Sel_BW(coords, y_std, x_std, family=Poisson(),offset=off)"
   ]
  },
  {
   "cell_type": "code",
   "execution_count": 249,
   "metadata": {},
   "outputs": [
    {
     "data": {
      "text/plain": [
       "261.0"
      ]
     },
     "execution_count": 249,
     "metadata": {},
     "output_type": "execute_result"
    }
   ],
   "source": [
    "selector_inp.search()"
   ]
  },
  {
   "cell_type": "code",
   "execution_count": null,
   "metadata": {},
   "outputs": [],
   "source": []
  }
 ],
 "metadata": {
  "kernelspec": {
   "display_name": "Python 3",
   "language": "python",
   "name": "python3"
  },
  "language_info": {
   "codemirror_mode": {
    "name": "ipython",
    "version": 3
   },
   "file_extension": ".py",
   "mimetype": "text/x-python",
   "name": "python",
   "nbconvert_exporter": "python",
   "pygments_lexer": "ipython3",
   "version": "3.6.6"
  }
 },
 "nbformat": 4,
 "nbformat_minor": 2
}
