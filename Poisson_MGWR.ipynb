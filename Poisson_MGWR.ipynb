{
 "cells": [
  {
   "cell_type": "markdown",
   "metadata": {},
   "source": [
    "## iwls function directly derived from \n",
    "https://github.com/pysal/spglm/blob/master/spglm/iwls.py"
   ]
  },
  {
   "cell_type": "code",
   "execution_count": 21,
   "metadata": {},
   "outputs": [],
   "source": [
    "import numpy as np\n",
    "from scipy import linalg\n",
    "import numpy.linalg as la\n",
    "from scipy import sparse as sp\n",
    "from scipy.sparse import linalg as spla\n",
    "from spreg.utils import spdot, spmultiply\n",
    "from scipy import special\n",
    "import libpysal as ps"
   ]
  },
  {
   "cell_type": "code",
   "execution_count": 6,
   "metadata": {},
   "outputs": [],
   "source": [
    "FLOAT_EPS = np.finfo(float).eps"
   ]
  },
  {
   "cell_type": "markdown",
   "metadata": {},
   "source": [
    "### Fitting the MGWR model for the updated/adjusted dependent variables"
   ]
  },
  {
   "cell_type": "markdown",
   "metadata": {},
   "source": [
    "#### This should remain the same as the GWR calculation given the partial smooth definition for process j (in this case the only 1) given in:\n",
    "Yu, H., Fotheringham, S., Li, Z., Oshan, T., Kang, W., & Wolf, L. J. (2018). Inference in multiscale geographically weighted regression. doi:10.31219/osf.io/4dksb"
   ]
  },
  {
   "cell_type": "markdown",
   "metadata": {},
   "source": [
    "\\begin{align}\n",
    "\\hat{\\beta} & _{ij}= e_j (X^T W_iX)^{-1} X^TW_i y \\\\\n",
    "\\end{align}"
   ]
  },
  {
   "cell_type": "code",
   "execution_count": 3,
   "metadata": {},
   "outputs": [],
   "source": [
    "def compute_betas_mgwr(y,x,wi):\n",
    "    xT = (x*wi).T\n",
    "    xtx = np.dot(xT,x)\n",
    "    xtx_inv_xt = linalg.solve(xtx, xT)\n",
    "    betas = np.dot(xtx_inv_xt, y)\n",
    "    return betas, xtx_inv_xt"
   ]
  },
  {
   "cell_type": "code",
   "execution_count": null,
   "metadata": {},
   "outputs": [],
   "source": [
    "def compute_betas_mgwr(y,x,wi):\n",
    "    xT = (x*wi).T\n",
    "    xtx = np.dot(xT,x)\n",
    "    xtx_inv_xt = linalg.solve(xtx, xT)\n",
    "    betas = np.dot(xtx_inv_xt, y)\n",
    "    return betas, xtx_inv_xt"
   ]
  },
  {
   "cell_type": "markdown",
   "metadata": {},
   "source": [
    "#### I am confused if this is correct and remains the same as in GWPR and how to go about handling it for more than one dependent variables"
   ]
  },
  {
   "cell_type": "markdown",
   "metadata": {},
   "source": [
    "### Only keeping the calculations for the log link function for now"
   ]
  },
  {
   "cell_type": "code",
   "execution_count": 39,
   "metadata": {},
   "outputs": [],
   "source": [
    "def deriv (mu):\n",
    "    p = np.clip(mu, FLOAT_EPS, np.inf)\n",
    "    deriv_p = 1.0/p\n",
    "    return deriv_p\n",
    "\n",
    "def starting_mu(y):\n",
    "    return (y+y.mean())/2\n",
    "    \n",
    "def weights(mu):\n",
    "    p = np.clip(mu, FLOAT_EPS, np.inf)\n",
    "    deriv_p = 1.0/p\n",
    "    variance = np.ones(mu.shape,np.float64)\n",
    "    return 1.0/(deriv_p**2 * variance)\n",
    "    \n",
    "def predict(mu):\n",
    "    x = np.clip(mu, FLOAT_EPS, np.inf)\n",
    "    return np.log(x)\n",
    "\n",
    "def fitted(lin_pred):\n",
    "    fits = np.exp(lin_pred)\n",
    "    return fits"
   ]
  },
  {
   "cell_type": "markdown",
   "metadata": {},
   "source": [
    "### Calling the weights function from below to calculate weights at each i"
   ]
  },
  {
   "cell_type": "code",
   "execution_count": null,
   "metadata": {},
   "outputs": [],
   "source": [
    "wi = Kernel.ker(i=5,data=coords,bw=50,function='exponential')"
   ]
  },
  {
   "cell_type": "markdown",
   "metadata": {},
   "source": [
    "### The function to do the Fischer scoring algorithm"
   ]
  },
  {
   "cell_type": "code",
   "execution_count": 143,
   "metadata": {},
   "outputs": [],
   "source": [
    "def iwls(y, x, offset,\n",
    "         ini_betas=None, tol=1.0e-06, max_iter=200, wi=None):\n",
    "    \n",
    "    n = x.shape[0]\n",
    "    n_iter= 0\n",
    "    diff = 1.0e+06\n",
    "    \n",
    "    if ini_betas is None:\n",
    "        betas = np.zeros((x.shape[1],1), np.float)\n",
    "    else:\n",
    "        betas = ini_betas\n",
    "        \n",
    "    y_off = y/offset\n",
    "    y_off = starting_mu(y_off)\n",
    "    v = predict(y_off)\n",
    "    mu = starting_mu(y)\n",
    "        \n",
    "    while diff > tol and n_iter < max_iter:\n",
    "        n_iter +=1\n",
    "        w = weights(mu)\n",
    "        z = v + deriv(mu) * (y-mu)\n",
    "        w = np.sqrt(w)\n",
    "        \n",
    "        if not isinstance(x, np.ndarray):\n",
    "            w = sp.csr_matrix(w)\n",
    "            z = sp.csr_matrix(z)\n",
    "            \n",
    "        wx = spmultiply(x,w,array_out=False)\n",
    "        wz = spmultiply(z,w,array_out=False)\n",
    "        \n",
    "        n_betas, xtx_inv_xt = compute_betas_mgwr(wz, wx, wi)\n",
    "        print(n_betas)\n",
    "        v = spdot(x, n_betas)\n",
    "        mu = fitted(v)\n",
    "        mu = mu * offset\n",
    "        \n",
    "        diff = min(abs(n_betas - betas))\n",
    "        #print(diff)\n",
    "        betas = n_betas\n",
    "        \n",
    "    return betas, mu, v, w, z, xtx_inv_xt, n_iter      "
   ]
  },
  {
   "cell_type": "markdown",
   "metadata": {},
   "source": [
    "### Trying with data"
   ]
  },
  {
   "cell_type": "code",
   "execution_count": 254,
   "metadata": {},
   "outputs": [],
   "source": [
    "data_p = ps.io.open(ps.examples.get_path('Tokyomortality.csv'))\n",
    "coords = list(zip(data_p.by_col('X_CENTROID'),data_p.by_col('Y_CENTROID')))\n",
    "off = np.array(data_p.by_col('eb2564')).reshape((-1,1))\n",
    "y = np.array(data_p.by_col('db2564')).reshape((-1,1)) \n",
    "occ = np.array(data_p.by_col('OCC_TEC')).reshape((-1,1))\n",
    "own = np.array(data_p.by_col('OWNH')).reshape((-1,1))\n",
    "pop = np.array(data_p.by_col('POP65')).reshape((-1,1))\n",
    "unemp = np.array(data_p.by_col('UNEMP')).reshape((-1,1))\n",
    "#X = np.hstack([occ,own,pop,unemp])\n",
    "x = occ"
   ]
  },
  {
   "cell_type": "code",
   "execution_count": 255,
   "metadata": {},
   "outputs": [],
   "source": [
    "#X_std = (X-X.mean(axis=0))/X.std(axis=0)\n",
    "x_std = (x-x.mean(axis=0))/x.std(axis=0)\n",
    "y_std = (y-y.mean(axis=0))/y.std(axis=0)\n",
    "off_std = (off-off.mean(axis=0))/off.std(axis=0)"
   ]
  },
  {
   "cell_type": "code",
   "execution_count": 144,
   "metadata": {},
   "outputs": [
    {
     "name": "stdout",
     "output_type": "stream",
     "text": [
      "[[0.17503723]]\n",
      "[[-0.05613545]]\n",
      "[[-0.11840296]]\n",
      "[[-0.12554567]]\n",
      "[[-0.12613708]]\n",
      "[[-0.12618409]]\n",
      "[[-0.12618782]]\n",
      "[[-0.12618811]]\n"
     ]
    }
   ],
   "source": [
    "rslt=iwls(y=y_std,x=x_std,offset=off_std,wi=wit,tol=1.0e-06, max_iter=200)"
   ]
  },
  {
   "cell_type": "code",
   "execution_count": 257,
   "metadata": {},
   "outputs": [],
   "source": [
    "#do the result loop for each i \n",
    "#map the parameters back after"
   ]
  },
  {
   "cell_type": "markdown",
   "metadata": {},
   "source": [
    "#### Manually constructed weights for testing initially"
   ]
  },
  {
   "cell_type": "code",
   "execution_count": null,
   "metadata": {},
   "outputs": [],
   "source": [
    "wi = np.diagonal(w)\n",
    "wit=wi.reshape(-1,1)"
   ]
  },
  {
   "cell_type": "markdown",
   "metadata": {},
   "source": [
    "### Limited functionality Kernel function for constructing weights for each point"
   ]
  },
  {
   "cell_type": "code",
   "execution_count": 215,
   "metadata": {},
   "outputs": [],
   "source": [
    "def _kernel_funcs(zs,function):\n",
    "    # functions follow Anselin and Rey (2010) table 5.4\n",
    "    if function == 'triangular':\n",
    "        return 1 - zs\n",
    "    elif function == 'uniform':\n",
    "        return np.ones(zi.shape) * 0.5\n",
    "    elif function == 'quadratic':\n",
    "        return (3. / 4) * (1 - zs**2)\n",
    "    elif function == 'quartic':\n",
    "        return (15. / 16) * (1 - zs**2)**2\n",
    "    elif function == 'gaussian':\n",
    "        return np.exp(-0.5 * (zs)**2)\n",
    "    elif function == 'bisquare':\n",
    "        return (1 - (zs)**2)**2\n",
    "    elif function == 'exponential':\n",
    "        return np.exp(-zs)\n",
    "    else:\n",
    "        print('Unsupported kernel function', function)"
   ]
  },
  {
   "cell_type": "code",
   "execution_count": 248,
   "metadata": {},
   "outputs": [],
   "source": [
    "import numpy as np\n",
    "#adaptive specifications should be parameterized with nn-1 to match original gwr\n",
    "#implementation. That is, pysal counts self neighbors with knn automatically.\n",
    "\n",
    "#Soft dependency of numba's njit\n",
    "try:\n",
    "    from numba import njit\n",
    "except ImportError:\n",
    "\n",
    "    def njit(func):\n",
    "        return func\n",
    "\n",
    "\n",
    "@njit\n",
    "def local_cdist(coords_i, coords, spherical):\n",
    "    \"\"\"\n",
    "    Compute Haversine (spherical=True) or Euclidean (spherical=False) distance for a local kernel.\n",
    "    \"\"\"\n",
    "    if spherical:\n",
    "        dLat = np.radians(coords[:, 1] - coords_i[1])\n",
    "        dLon = np.radians(coords[:, 0] - coords_i[0])\n",
    "        lat1 = np.radians(coords[:, 1])\n",
    "        lat2 = np.radians(coords_i[1])\n",
    "        a = np.sin(\n",
    "            dLat / 2)**2 + np.cos(lat1) * np.cos(lat2) * np.sin(dLon / 2)**2\n",
    "        c = 2 * np.arcsin(np.sqrt(a))\n",
    "        R = 6371.0\n",
    "        return R * c\n",
    "    else:\n",
    "        return np.sqrt(np.sum((coords_i - coords)**2, axis=1))\n",
    "\n",
    "\n",
    "class Kernel(object):\n",
    "    \"\"\"\n",
    "    GWR kernel function specifications.\n",
    "    \n",
    "    \"\"\"\n",
    "\n",
    "    def ker(i, data, bw, function, ids=None, points=None, fixed=True,\n",
    "                 eps=1.0000001, spherical=False):\n",
    "        \n",
    "        dvec = np.sqrt(np.sum((np.array(coords_i) - np.array(coords))**2, axis=1)).reshape(-1)\n",
    "\n",
    "        bandwidth = float(bw)\n",
    "\n",
    "        kernel = _kernel_funcs(dvec / bandwidth,function)\n",
    "\n",
    "        if function == \"bisquare\":  #Truncate for bisquare\n",
    "            kernel[(dvec >= bandwidth)] = 0\n",
    "            \n",
    "        return kernel"
   ]
  },
  {
   "cell_type": "markdown",
   "metadata": {},
   "source": [
    "### Extra"
   ]
  },
  {
   "cell_type": "code",
   "execution_count": 46,
   "metadata": {},
   "outputs": [],
   "source": [
    "import sys\n",
    "sys.path.append(\"/Users/msachde1/Desktop/Seattle_files/mgwr-optim\")"
   ]
  },
  {
   "cell_type": "code",
   "execution_count": 51,
   "metadata": {},
   "outputs": [],
   "source": [
    "from mgwr.gwr import GWR\n",
    "import numpy as np\n",
    "from spglm.family import Gaussian, Binomial, Poisson\n",
    "from mgwr.gwr import MGWR\n",
    "from mgwr.sel_bw import Sel_BW\n",
    "import multiprocessing as mp\n",
    "pool = mp.Pool()"
   ]
  },
  {
   "cell_type": "code",
   "execution_count": 52,
   "metadata": {},
   "outputs": [],
   "source": [
    "bw = Sel_BW(coords, y_std, x_std).search(pool=pool)"
   ]
  },
  {
   "cell_type": "code",
   "execution_count": 56,
   "metadata": {},
   "outputs": [],
   "source": [
    "model_gwr=GWR(coords, y_std, x_std, bw=bw, fixed=False, kernel='bisquare')"
   ]
  },
  {
   "cell_type": "code",
   "execution_count": 57,
   "metadata": {},
   "outputs": [],
   "source": [
    "results_gwr=model_gwr.fit()"
   ]
  },
  {
   "cell_type": "code",
   "execution_count": 69,
   "metadata": {},
   "outputs": [],
   "source": [
    "w=results_gwr.W"
   ]
  },
  {
   "cell_type": "code",
   "execution_count": 43,
   "metadata": {},
   "outputs": [],
   "source": [
    "def build_wi (i, bw):\n",
    "    wi = Kernel(i, coords, bw, fixed, function, points, spherical).kernel\n",
    "    return wi        "
   ]
  },
  {
   "cell_type": "code",
   "execution_count": null,
   "metadata": {},
   "outputs": [],
   "source": [
    "fixed = True\n",
    "spherical = False\n",
    "function = 'bisquare'"
   ]
  },
  {
   "cell_type": "code",
   "execution_count": null,
   "metadata": {},
   "outputs": [],
   "source": [
    "rslt = iwls(y, X, offset, ini_params, fit_params, max_iter, wi=wi)"
   ]
  },
  {
   "cell_type": "code",
   "execution_count": null,
   "metadata": {},
   "outputs": [],
   "source": [
    "rslt_f = map()"
   ]
  }
 ],
 "metadata": {
  "kernelspec": {
   "display_name": "Python 3",
   "language": "python",
   "name": "python3"
  },
  "language_info": {
   "codemirror_mode": {
    "name": "ipython",
    "version": 3
   },
   "file_extension": ".py",
   "mimetype": "text/x-python",
   "name": "python",
   "nbconvert_exporter": "python",
   "pygments_lexer": "ipython3",
   "version": "3.6.6"
  }
 },
 "nbformat": 4,
 "nbformat_minor": 2
}
