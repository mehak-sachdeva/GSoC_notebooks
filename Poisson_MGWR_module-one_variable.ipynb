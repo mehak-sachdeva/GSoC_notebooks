{
 "cells": [
  {
   "cell_type": "code",
   "execution_count": 1,
   "metadata": {},
   "outputs": [],
   "source": [
    "import sys\n",
    "sys.path.append(\"/Users/msachde1/Downloads/Research/Development/mgwr/\")"
   ]
  },
  {
   "cell_type": "code",
   "execution_count": 4,
   "metadata": {},
   "outputs": [],
   "source": [
    "import warnings\n",
    "warnings.filterwarnings(\"ignore\")"
   ]
  },
  {
   "cell_type": "code",
   "execution_count": 5,
   "metadata": {},
   "outputs": [],
   "source": [
    "from mgwr.gwr import GWR\n",
    "import pandas as pd\n",
    "import numpy as np\n",
    "from spglm.family import Gaussian, Binomial, Poisson\n",
    "from mgwr.gwr import MGWR\n",
    "from mgwr.sel_bw import Sel_BW\n",
    "import multiprocessing as mp\n",
    "pool = mp.Pool()\n",
    "import numpy as np\n",
    "from scipy import linalg\n",
    "import numpy.linalg as la\n",
    "from scipy import sparse as sp\n",
    "from scipy.sparse import linalg as spla\n",
    "from spreg.utils import spdot, spmultiply\n",
    "from scipy import special\n",
    "import libpysal as ps\n",
    "import seaborn as sns\n",
    "import matplotlib.pyplot as plt\n",
    "import numpy as np\n",
    "from copy import deepcopy\n",
    "import copy\n",
    "from collections import namedtuple"
   ]
  },
  {
   "cell_type": "markdown",
   "metadata": {},
   "source": [
    "\\begin{align}\n",
    "y = Poisson[E_i exp ({\\sum} {\\beta} & _k x _{k,i})]\\\\\n",
    "E_i = Offset\\\\\n",
    "\\hat{y} = predicted(y)\\\\\n",
    "z = ({\\sum} {\\beta} & _k x _{k,i}) + ((y - \\hat{y})/\\hat{y})\\\\\n",
    "\\end{align}"
   ]
  },
  {
   "cell_type": "markdown",
   "metadata": {},
   "source": [
    "### IWLS convergence loop"
   ]
  },
  {
   "cell_type": "code",
   "execution_count": 103,
   "metadata": {},
   "outputs": [],
   "source": [
    "data_p = ps.io.open(ps.examples.get_path('Tokyomortality.csv'))\n",
    "coords = list(zip(data_p.by_col('X_CENTROID'),data_p.by_col('Y_CENTROID')))\n",
    "off = np.array(data_p.by_col('eb2564')).reshape((-1,1))\n",
    "y = np.array(data_p.by_col('db2564')).reshape((-1,1)) \n",
    "occ = np.array(data_p.by_col('OCC_TEC')).reshape((-1,1))\n",
    "own = np.array(data_p.by_col('OWNH')).reshape((-1,1))\n",
    "pop = np.array(data_p.by_col('POP65')).reshape((-1,1))\n",
    "unemp = np.array(data_p.by_col('UNEMP')).reshape((-1,1))\n",
    "X = np.hstack([occ,own,pop,unemp])\n",
    "x = pop\n",
    "\n",
    "X_std = (X-X.mean(axis=0))/X.std(axis=0)\n",
    "x_std = (x-x.mean(axis=0))/x.std(axis=0)\n",
    "y_std = (y-y.mean(axis=0))/y.std(axis=0)"
   ]
  },
  {
   "cell_type": "code",
   "execution_count": 104,
   "metadata": {},
   "outputs": [],
   "source": [
    "n_iter=0\n",
    "k=x.shape[0]"
   ]
  },
  {
   "cell_type": "markdown",
   "metadata": {},
   "source": [
    "### Initialization with GWPR"
   ]
  },
  {
   "cell_type": "code",
   "execution_count": 105,
   "metadata": {},
   "outputs": [],
   "source": [
    "sel=Sel_BW(coords,y_std,x_std,family=Poisson(),offset=off)\n",
    "bw_in=sel.search()\n",
    "def gwr_func(y,X,bw):\n",
    "    return GWR(coords,y,X,bw,family=Poisson(),offset=off,fixed=False,kernel='bisquare').fit()\n",
    "optim_model = gwr_func(y=y,X=x,bw=bw_in)\n",
    "om_p=optim_model.params"
   ]
  },
  {
   "cell_type": "markdown",
   "metadata": {},
   "source": [
    "### Starting values"
   ]
  },
  {
   "cell_type": "code",
   "execution_count": 106,
   "metadata": {},
   "outputs": [],
   "source": [
    "def weights(mu):\n",
    "    deriv_p = 1.0/mu\n",
    "    variance = np.ones(mu.shape,np.float64)\n",
    "    return 1.0/(deriv_p**2 * variance)"
   ]
  },
  {
   "cell_type": "code",
   "execution_count": 107,
   "metadata": {},
   "outputs": [],
   "source": [
    "def beta_sum(x,param,k):\n",
    "    cons=spdot(np.ones(k),param[:,0])\n",
    "    b=np.delete(param,[0],axis=1)\n",
    "    return cons+(spdot(np.array(x).reshape(-1),b))"
   ]
  },
  {
   "cell_type": "code",
   "execution_count": 108,
   "metadata": {},
   "outputs": [],
   "source": [
    "v=beta_sum(x,om_p,k)\n",
    "yhat=(off*np.exp(v))"
   ]
  },
  {
   "cell_type": "code",
   "execution_count": 109,
   "metadata": {},
   "outputs": [],
   "source": [
    "diff = 1.0e+06\n",
    "tol = 1.0e-06\n",
    "max_iter=200\n",
    "betas=om_p"
   ]
  },
  {
   "cell_type": "code",
   "execution_count": 110,
   "metadata": {},
   "outputs": [
    {
     "name": "stdout",
     "output_type": "stream",
     "text": [
      "[43. 43.]\n"
     ]
    },
    {
     "data": {
      "application/vnd.jupyter.widget-view+json": {
       "model_id": "951b999cd06740c8b8afd39d7e1dc253",
       "version_major": 2,
       "version_minor": 0
      },
      "text/plain": [
       "HBox(children=(IntProgress(value=0, description='Inference', max=1), HTML(value='')))"
      ]
     },
     "metadata": {},
     "output_type": "display_data"
    },
    {
     "name": "stdout",
     "output_type": "stream",
     "text": [
      "\n",
      "diff = 0.147808394767278\n",
      "[43. 44.]\n"
     ]
    },
    {
     "data": {
      "application/vnd.jupyter.widget-view+json": {
       "model_id": "333ea8499ef24824816ee19e5fa15de5",
       "version_major": 2,
       "version_minor": 0
      },
      "text/plain": [
       "HBox(children=(IntProgress(value=0, description='Inference', max=1), HTML(value='')))"
      ]
     },
     "metadata": {},
     "output_type": "display_data"
    },
    {
     "name": "stdout",
     "output_type": "stream",
     "text": [
      "\n",
      "diff = 3.654703760913591e-05\n",
      "[43. 44.]\n"
     ]
    },
    {
     "data": {
      "application/vnd.jupyter.widget-view+json": {
       "model_id": "b09c8baa1bfe4dc7b1bb6cae08f3296e",
       "version_major": 2,
       "version_minor": 0
      },
      "text/plain": [
       "HBox(children=(IntProgress(value=0, description='Inference', max=1), HTML(value='')))"
      ]
     },
     "metadata": {},
     "output_type": "display_data"
    },
    {
     "name": "stdout",
     "output_type": "stream",
     "text": [
      "\n",
      "diff = 3.2586819020963276e-08\n"
     ]
    }
   ],
   "source": [
    "while diff> tol and n_iter < max_iter:\n",
    "    n_iter +=1\n",
    "    w = weights(yhat)\n",
    "    z=v+((y-yhat)/yhat)\n",
    "    w = np.sqrt(w)\n",
    "\n",
    "    wx = spmultiply(x,w,array_out=False)\n",
    "    wz = spmultiply(z,w,array_out=False)\n",
    "    \n",
    "    wz_std=(wz-wz.mean(axis=0))/wz.std(axis=0)\n",
    "    wx_std=(wx-wx.mean(axis=0))/wx.std(axis=0)\n",
    "    \n",
    "    selector=Sel_BW(coords,wz_std,wx_std,multi=True)\n",
    "    selector.search(pool=pool)\n",
    "    print(selector.bw[0])\n",
    "    mgwr_model=MGWR(coords,wz_std,wx_std,selector).fit()\n",
    "    \n",
    "    n_betas=mgwr_model.params \n",
    "\n",
    "    v=beta_sum(x_std,n_betas,k)\n",
    "    yhat=(off*np.exp(v))\n",
    "    \n",
    "    diff=min(min(abs(betas-n_betas).reshape(1,-1).tolist()))\n",
    "    print(\"diff = \"+str(diff))\n",
    "    betas = n_betas\n",
    "\n",
    "#print (betas, yhat, v, w, z, n_iter)"
   ]
  }
 ],
 "metadata": {
  "kernelspec": {
   "display_name": "Python 3",
   "language": "python",
   "name": "python3"
  },
  "language_info": {
   "codemirror_mode": {
    "name": "ipython",
    "version": 3
   },
   "file_extension": ".py",
   "mimetype": "text/x-python",
   "name": "python",
   "nbconvert_exporter": "python",
   "pygments_lexer": "ipython3",
   "version": "3.6.6"
  }
 },
 "nbformat": 4,
 "nbformat_minor": 2
}
