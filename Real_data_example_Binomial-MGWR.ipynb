{
 "cells": [
  {
   "cell_type": "markdown",
   "metadata": {},
   "source": [
    "https://github.com/pysal/mgwr/pull/60"
   ]
  },
  {
   "cell_type": "code",
   "execution_count": 1,
   "metadata": {},
   "outputs": [],
   "source": [
    "import sys\n",
    "sys.path.append(\"C:/Users/msachde1/Downloads/Research/Development/mgwr\")"
   ]
  },
  {
   "cell_type": "code",
   "execution_count": 2,
   "metadata": {},
   "outputs": [],
   "source": [
    "import warnings\n",
    "warnings.filterwarnings(\"ignore\")\n",
    "import pandas as pd\n",
    "import numpy as np\n",
    "\n",
    "from mgwr.gwr import GWR\n",
    "from spglm.family import Gaussian, Binomial, Poisson\n",
    "from mgwr.gwr import MGWR\n",
    "from mgwr.sel_bw import Sel_BW\n",
    "import multiprocessing as mp\n",
    "pool = mp.Pool()\n",
    "from scipy import linalg\n",
    "import numpy.linalg as la\n",
    "from scipy import sparse as sp\n",
    "from scipy.sparse import linalg as spla\n",
    "from spreg.utils import spdot, spmultiply\n",
    "from scipy import special\n",
    "import libpysal as ps\n",
    "import seaborn as sns\n",
    "import matplotlib.pyplot as plt\n",
    "from copy import deepcopy\n",
    "import copy\n",
    "from collections import namedtuple\n",
    "import spglm"
   ]
  },
  {
   "cell_type": "markdown",
   "metadata": {},
   "source": [
    "#### Clearwater data - downloaded from link: https://sgsup.asu.edu/sparc/multiscale-gwr"
   ]
  },
  {
   "cell_type": "code",
   "execution_count": 3,
   "metadata": {
    "scrolled": true
   },
   "outputs": [],
   "source": [
    "data_p = pd.read_csv(\"C:/Users/msachde1/Downloads/logistic_mgwr_data/landslides.csv\") "
   ]
  },
  {
   "cell_type": "code",
   "execution_count": 4,
   "metadata": {},
   "outputs": [
    {
     "data": {
      "text/html": [
       "<div>\n",
       "<style scoped>\n",
       "    .dataframe tbody tr th:only-of-type {\n",
       "        vertical-align: middle;\n",
       "    }\n",
       "\n",
       "    .dataframe tbody tr th {\n",
       "        vertical-align: top;\n",
       "    }\n",
       "\n",
       "    .dataframe thead th {\n",
       "        text-align: right;\n",
       "    }\n",
       "</style>\n",
       "<table border=\"1\" class=\"dataframe\">\n",
       "  <thead>\n",
       "    <tr style=\"text-align: right;\">\n",
       "      <th></th>\n",
       "      <th>UserID</th>\n",
       "      <th>X</th>\n",
       "      <th>Y</th>\n",
       "      <th>Elev</th>\n",
       "      <th>Slope</th>\n",
       "      <th>SinAspct</th>\n",
       "      <th>CosAspct</th>\n",
       "      <th>AbsSouth</th>\n",
       "      <th>Landslid</th>\n",
       "      <th>DistStrm</th>\n",
       "    </tr>\n",
       "  </thead>\n",
       "  <tbody>\n",
       "    <tr>\n",
       "      <th>0</th>\n",
       "      <td>1</td>\n",
       "      <td>616168.5625</td>\n",
       "      <td>5201076.5</td>\n",
       "      <td>1450.475</td>\n",
       "      <td>27.44172</td>\n",
       "      <td>0.409126</td>\n",
       "      <td>-0.912478</td>\n",
       "      <td>24.1499</td>\n",
       "      <td>1</td>\n",
       "      <td>8.506</td>\n",
       "    </tr>\n",
       "    <tr>\n",
       "      <th>1</th>\n",
       "      <td>2</td>\n",
       "      <td>624923.8125</td>\n",
       "      <td>5201008.5</td>\n",
       "      <td>1567.476</td>\n",
       "      <td>21.88343</td>\n",
       "      <td>-0.919245</td>\n",
       "      <td>-0.393685</td>\n",
       "      <td>66.8160</td>\n",
       "      <td>1</td>\n",
       "      <td>15.561</td>\n",
       "    </tr>\n",
       "    <tr>\n",
       "      <th>2</th>\n",
       "      <td>3</td>\n",
       "      <td>615672.0000</td>\n",
       "      <td>5199187.5</td>\n",
       "      <td>1515.065</td>\n",
       "      <td>38.81030</td>\n",
       "      <td>-0.535024</td>\n",
       "      <td>-0.844837</td>\n",
       "      <td>32.3455</td>\n",
       "      <td>1</td>\n",
       "      <td>41.238</td>\n",
       "    </tr>\n",
       "    <tr>\n",
       "      <th>3</th>\n",
       "      <td>4</td>\n",
       "      <td>615209.3125</td>\n",
       "      <td>5199112.0</td>\n",
       "      <td>1459.827</td>\n",
       "      <td>26.71631</td>\n",
       "      <td>-0.828548</td>\n",
       "      <td>-0.559918</td>\n",
       "      <td>55.9499</td>\n",
       "      <td>1</td>\n",
       "      <td>17.539</td>\n",
       "    </tr>\n",
       "    <tr>\n",
       "      <th>4</th>\n",
       "      <td>5</td>\n",
       "      <td>616354.6875</td>\n",
       "      <td>5198945.5</td>\n",
       "      <td>1379.442</td>\n",
       "      <td>27.55271</td>\n",
       "      <td>-0.872281</td>\n",
       "      <td>-0.489005</td>\n",
       "      <td>60.7248</td>\n",
       "      <td>1</td>\n",
       "      <td>35.023</td>\n",
       "    </tr>\n",
       "  </tbody>\n",
       "</table>\n",
       "</div>"
      ],
      "text/plain": [
       "   UserID            X          Y      Elev     Slope  SinAspct  CosAspct  \\\n",
       "0       1  616168.5625  5201076.5  1450.475  27.44172  0.409126 -0.912478   \n",
       "1       2  624923.8125  5201008.5  1567.476  21.88343 -0.919245 -0.393685   \n",
       "2       3  615672.0000  5199187.5  1515.065  38.81030 -0.535024 -0.844837   \n",
       "3       4  615209.3125  5199112.0  1459.827  26.71631 -0.828548 -0.559918   \n",
       "4       5  616354.6875  5198945.5  1379.442  27.55271 -0.872281 -0.489005   \n",
       "\n",
       "   AbsSouth  Landslid  DistStrm  \n",
       "0   24.1499         1     8.506  \n",
       "1   66.8160         1    15.561  \n",
       "2   32.3455         1    41.238  \n",
       "3   55.9499         1    17.539  \n",
       "4   60.7248         1    35.023  "
      ]
     },
     "execution_count": 4,
     "metadata": {},
     "output_type": "execute_result"
    }
   ],
   "source": [
    "data_p.head()"
   ]
  },
  {
   "cell_type": "markdown",
   "metadata": {},
   "source": [
    "### GWR Binomial model with independent variable, x = slope"
   ]
  },
  {
   "cell_type": "code",
   "execution_count": 5,
   "metadata": {},
   "outputs": [],
   "source": [
    "coords = list(zip(data_p['X'],data_p['Y']))\n",
    "y = np.array(data_p['Landslid']).reshape((-1,1)) \n",
    "elev = np.array(data_p['Elev']).reshape((-1,1))\n",
    "slope = np.array(data_p['Slope']).reshape((-1,1))\n",
    "SinAspct = np.array(data_p['SinAspct']).reshape(-1,1)\n",
    "CosAspct = np.array(data_p['CosAspct']).reshape(-1,1)\n",
    "X = np.hstack([elev,slope,SinAspct,CosAspct])\n",
    "x = SinAspct\n",
    "\n",
    "X_std = (X-X.mean(axis=0))/X.std(axis=0)\n",
    "x_std = (x-x.mean(axis=0))/x.std(axis=0)\n",
    "y_std = (y-y.mean(axis=0))/y.std(axis=0)"
   ]
  },
  {
   "cell_type": "code",
   "execution_count": 6,
   "metadata": {},
   "outputs": [],
   "source": [
    "bw=Sel_BW(coords,y,x_std,family=Binomial(),constant=False).search()\n",
    "gwr_mod=GWR(coords,y,x_std,bw=bw,family=Binomial(),constant=False).fit()\n",
    "bw"
   ]
  },
  {
   "cell_type": "markdown",
   "metadata": {},
   "source": [
    "##### Running the function with family = Binomial()"
   ]
  },
  {
   "cell_type": "code",
   "execution_count": 9,
   "metadata": {},
   "outputs": [
    {
     "name": "stdout",
     "output_type": "stream",
     "text": [
      "Current iteration: 1 ,SOC: 0.0\n",
      "Bandwidths: 100.0\n"
     ]
    },
    {
     "data": {
      "text/plain": [
       "array([100.])"
      ]
     },
     "execution_count": 9,
     "metadata": {},
     "output_type": "execute_result"
    }
   ],
   "source": [
    "selector = Sel_BW(coords,y,x_std,family=Binomial(),multi=True,constant=False)\n",
    "selector.search(verbose=True)"
   ]
  },
  {
   "cell_type": "code",
   "execution_count": 10,
   "metadata": {},
   "outputs": [
    {
     "data": {
      "application/vnd.jupyter.widget-view+json": {
       "model_id": "e53c42ebdd2145c8ad340c0add1dbdb2",
       "version_major": 2,
       "version_minor": 0
      },
      "text/plain": [
       "HBox(children=(IntProgress(value=0, description='Inference', max=1), HTML(value='')))"
      ]
     },
     "metadata": {},
     "output_type": "display_data"
    },
    {
     "name": "stdout",
     "output_type": "stream",
     "text": [
      "\n"
     ]
    }
   ],
   "source": [
    "mgwr_mod = MGWR(coords, y,x_std,selector,family=Binomial(),constant=False).fit()"
   ]
  },
  {
   "cell_type": "markdown",
   "metadata": {},
   "source": [
    "#### Testing with random bw initialization"
   ]
  },
  {
   "cell_type": "code",
   "execution_count": 12,
   "metadata": {},
   "outputs": [
    {
     "name": "stdout",
     "output_type": "stream",
     "text": [
      "Current iteration: 1 ,SOC: 0.0070803\n",
      "Bandwidths: 100.0\n",
      "Current iteration: 2 ,SOC: 0.0\n",
      "Bandwidths: 100.0\n"
     ]
    },
    {
     "data": {
      "text/plain": [
       "array([100.])"
      ]
     },
     "execution_count": 12,
     "metadata": {},
     "output_type": "execute_result"
    }
   ],
   "source": [
    "selector.search(verbose=True,init_multi=200)"
   ]
  },
  {
   "cell_type": "markdown",
   "metadata": {},
   "source": [
    "#### Parameter check"
   ]
  },
  {
   "cell_type": "code",
   "execution_count": 13,
   "metadata": {},
   "outputs": [
    {
     "data": {
      "text/plain": [
       "(330.2451626798668, 330.2296364641693)"
      ]
     },
     "execution_count": 13,
     "metadata": {},
     "output_type": "execute_result"
    }
   ],
   "source": [
    "mgwr_mod.aic, gwr_mod.aic"
   ]
  },
  {
   "cell_type": "code",
   "execution_count": 15,
   "metadata": {},
   "outputs": [
    {
     "data": {
      "text/plain": [
       "239"
      ]
     },
     "execution_count": 15,
     "metadata": {},
     "output_type": "execute_result"
    }
   ],
   "source": [
    "np.sum(mgwr_mod.predy==gwr_mod.predy)"
   ]
  },
  {
   "cell_type": "markdown",
   "metadata": {},
   "source": [
    "#### Multiple bandwidth check"
   ]
  },
  {
   "cell_type": "code",
   "execution_count": 31,
   "metadata": {},
   "outputs": [
    {
     "data": {
      "text/plain": [
       "121.0"
      ]
     },
     "execution_count": 31,
     "metadata": {},
     "output_type": "execute_result"
    }
   ],
   "source": [
    "bw=Sel_BW(coords,y,X_std,family=Binomial(),constant=True).search()\n",
    "gwr_mod=GWR(coords,y,X_std,bw=bw,family=Binomial(),constant=True).fit()\n",
    "bw"
   ]
  },
  {
   "cell_type": "code",
   "execution_count": 32,
   "metadata": {},
   "outputs": [
    {
     "name": "stdout",
     "output_type": "stream",
     "text": [
      "Current iteration: 1 ,SOC: 0.0031609\n",
      "Bandwidths: 236.0, 235.0, 236.0, 238.0, 228.0\n",
      "Current iteration: 2 ,SOC: 0.0004815\n",
      "Bandwidths: 238.0, 235.0, 192.0, 238.0, 228.0\n",
      "Current iteration: 3 ,SOC: 4.11e-05\n",
      "Bandwidths: 238.0, 235.0, 192.0, 238.0, 228.0\n",
      "Current iteration: 4 ,SOC: 3.4e-06\n",
      "Bandwidths: 238.0, 235.0, 192.0, 238.0, 228.0\n"
     ]
    },
    {
     "data": {
      "text/plain": [
       "array([238., 235., 192., 238., 228.])"
      ]
     },
     "execution_count": 32,
     "metadata": {},
     "output_type": "execute_result"
    }
   ],
   "source": [
    "selector = Sel_BW(coords,y,X_std,family=Binomial(),multi=True,constant=True)\n",
    "selector.search(verbose=True)"
   ]
  },
  {
   "cell_type": "code",
   "execution_count": 33,
   "metadata": {},
   "outputs": [
    {
     "data": {
      "application/vnd.jupyter.widget-view+json": {
       "model_id": "81557aa8e38f4d97b164f6349c8d195e",
       "version_major": 2,
       "version_minor": 0
      },
      "text/plain": [
       "HBox(children=(IntProgress(value=0, description='Inference', max=1), HTML(value='')))"
      ]
     },
     "metadata": {},
     "output_type": "display_data"
    },
    {
     "name": "stdout",
     "output_type": "stream",
     "text": [
      "\n"
     ]
    }
   ],
   "source": [
    "mgwr_mod = MGWR(coords, y,X_std,selector,family=Binomial(),constant=True).fit()"
   ]
  },
  {
   "cell_type": "code",
   "execution_count": 34,
   "metadata": {},
   "outputs": [
    {
     "data": {
      "text/plain": [
       "(259.72499337648424, 273.19218208627643)"
      ]
     },
     "execution_count": 34,
     "metadata": {},
     "output_type": "execute_result"
    }
   ],
   "source": [
    "gwr_mod.aic, mgwr_mod.aic"
   ]
  },
  {
   "cell_type": "code",
   "execution_count": 35,
   "metadata": {},
   "outputs": [
    {
     "data": {
      "text/plain": [
       "array([[ 0.07645926],\n",
       "       [ 0.10775708],\n",
       "       [-0.01199206],\n",
       "       [ 0.04968317],\n",
       "       [ 0.05187675],\n",
       "       [ 0.04308866],\n",
       "       [ 0.05400206],\n",
       "       [ 0.03465849],\n",
       "       [ 0.05664243],\n",
       "       [ 0.12148732]])"
      ]
     },
     "execution_count": 35,
     "metadata": {},
     "output_type": "execute_result"
    }
   ],
   "source": [
    "(gwr_mod.predy-mgwr_mod.predy)[:10]"
   ]
  },
  {
   "cell_type": "markdown",
   "metadata": {},
   "source": [
    "#### Global model check"
   ]
  },
  {
   "cell_type": "code",
   "execution_count": 36,
   "metadata": {},
   "outputs": [
    {
     "name": "stdout",
     "output_type": "stream",
     "text": [
      "Current iteration: 1 ,SOC: 0.0033277\n",
      "Bandwidths: 239.0, 239.0, 239.0, 239.0, 239.0\n",
      "Current iteration: 2 ,SOC: 0.0003028\n",
      "Bandwidths: 239.0, 239.0, 239.0, 239.0, 239.0\n",
      "Current iteration: 3 ,SOC: 1.82e-05\n",
      "Bandwidths: 239.0, 239.0, 239.0, 239.0, 239.0\n",
      "Current iteration: 4 ,SOC: 3.5e-06\n",
      "Bandwidths: 239.0, 239.0, 239.0, 239.0, 239.0\n"
     ]
    },
    {
     "data": {
      "text/plain": [
       "array([239., 239., 239., 239., 239.])"
      ]
     },
     "execution_count": 36,
     "metadata": {},
     "output_type": "execute_result"
    }
   ],
   "source": [
    "selector=Sel_BW(coords,y,X_std,multi=True,family=Binomial(),constant=True)\n",
    "selector.search(verbose=True,multi_bw_min=[239,239,239,239,239], multi_bw_max=[239,239,239,239,239])"
   ]
  },
  {
   "cell_type": "code",
   "execution_count": 38,
   "metadata": {},
   "outputs": [
    {
     "data": {
      "application/vnd.jupyter.widget-view+json": {
       "model_id": "0677b3083f5a4fb0a1b04da239579f36",
       "version_major": 2,
       "version_minor": 0
      },
      "text/plain": [
       "HBox(children=(IntProgress(value=0, description='Inference', max=1), HTML(value='')))"
      ]
     },
     "metadata": {},
     "output_type": "display_data"
    },
    {
     "name": "stdout",
     "output_type": "stream",
     "text": [
      "\n"
     ]
    }
   ],
   "source": [
    "mgwr_mod = MGWR(coords, y,X_std,selector,family=Binomial(),constant=True).fit()"
   ]
  },
  {
   "cell_type": "code",
   "execution_count": 39,
   "metadata": {},
   "outputs": [
    {
     "name": "stdout",
     "output_type": "stream",
     "text": [
      "===========================================================================\n",
      "Model type                                                         Binomial\n",
      "Number of observations:                                                 239\n",
      "Number of covariates:                                                     5\n",
      "\n",
      "Global Regression Results\n",
      "---------------------------------------------------------------------------\n",
      "Deviance:                                                           266.246\n",
      "Log-likelihood:                                                    -133.123\n",
      "AIC:                                                                276.246\n",
      "AICc:                                                               276.504\n",
      "BIC:                                                              -1015.246\n",
      "Percent deviance explained:                                           0.182\n",
      "Adj. percent deviance explained:                                      0.168\n",
      "\n",
      "Variable                              Est.         SE  t(Est/SE)    p-value\n",
      "------------------------------- ---------- ---------- ---------- ----------\n",
      "X0                                   0.389      0.150      2.591      0.010\n",
      "X1                                  -0.784      0.166     -4.715      0.000\n",
      "X2                                   0.654      0.168      3.881      0.000\n",
      "X3                                   0.039      0.149      0.264      0.792\n",
      "X4                                  -0.371      0.156     -2.381      0.017\n",
      "\n",
      "Geographically Weighted Regression (GWR) Results\n",
      "---------------------------------------------------------------------------\n",
      "Spatial kernel:                                           Adaptive bisquare\n",
      "Bandwidth used:                                                     121.000\n",
      "\n",
      "Diagnostic information\n",
      "---------------------------------------------------------------------------\n",
      "Effective number of parameters (trace(S)):                           23.263\n",
      "Degree of freedom (n - trace(S)):                                   215.737\n",
      "Log-likelihood:                                                    -106.599\n",
      "AIC:                                                                259.725\n",
      "AICc:                                                               264.982\n",
      "BIC:                                                                340.598\n",
      "Percent deviance explained:                                         0.345\n",
      "Adjusted percent deviance explained:                                0.274\n",
      "Adj. alpha (95%):                                                     0.011\n",
      "Adj. critical t value (95%):                                          2.571\n",
      "\n",
      "Summary Statistics For GWR Parameter Estimates\n",
      "---------------------------------------------------------------------------\n",
      "Variable                   Mean        STD        Min     Median        Max\n",
      "-------------------- ---------- ---------- ---------- ---------- ----------\n",
      "X0                        0.459      0.360     -0.360      0.436      1.232\n",
      "X1                       -0.824      0.479     -2.128     -0.729     -0.095\n",
      "X2                        0.567      0.390     -0.030      0.600      1.328\n",
      "X3                        0.103      0.270     -0.473      0.183      0.565\n",
      "X4                       -0.331      0.247     -1.118     -0.287      0.096\n",
      "===========================================================================\n",
      "\n"
     ]
    }
   ],
   "source": [
    "gwr_mod.summary()"
   ]
  },
  {
   "cell_type": "code",
   "execution_count": 40,
   "metadata": {},
   "outputs": [
    {
     "data": {
      "text/plain": [
       "array([[ 0.51706075, -0.62371359,  0.40876353,  0.18489423, -0.25850672],\n",
       "       [ 0.53944656, -0.62786302,  0.4517912 ,  0.12124392, -0.30271264],\n",
       "       [ 0.51507462, -0.62266611,  0.41219502,  0.18443272, -0.25063396],\n",
       "       [ 0.50706347, -0.62907618,  0.41797955,  0.18280349, -0.25311318],\n",
       "       [ 0.5215872 , -0.61765274,  0.41172973,  0.18103538, -0.24980074]])"
      ]
     },
     "execution_count": 40,
     "metadata": {},
     "output_type": "execute_result"
    }
   ],
   "source": [
    "mgwr_mod.params[:5]"
   ]
  }
 ],
 "metadata": {
  "kernelspec": {
   "display_name": "Python 3",
   "language": "python",
   "name": "python3"
  },
  "language_info": {
   "codemirror_mode": {
    "name": "ipython",
    "version": 3
   },
   "file_extension": ".py",
   "mimetype": "text/x-python",
   "name": "python",
   "nbconvert_exporter": "python",
   "pygments_lexer": "ipython3",
   "version": "3.6.6"
  }
 },
 "nbformat": 4,
 "nbformat_minor": 2
}
