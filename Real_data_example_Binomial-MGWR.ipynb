{
 "cells": [
  {
   "cell_type": "markdown",
   "metadata": {},
   "source": [
    "https://github.com/pysal/mgwr/pull/60"
   ]
  },
  {
   "cell_type": "code",
   "execution_count": 1,
   "metadata": {},
   "outputs": [],
   "source": [
    "import sys\n",
    "sys.path.append(\"C:/Users/msachde1/Downloads/Research/Development/mgwr\")"
   ]
  },
  {
   "cell_type": "code",
   "execution_count": 2,
   "metadata": {},
   "outputs": [],
   "source": [
    "import warnings\n",
    "warnings.filterwarnings(\"ignore\")\n",
    "import pandas as pd\n",
    "import numpy as np\n",
    "\n",
    "from mgwr.gwr import GWR\n",
    "from spglm.family import Gaussian, Binomial, Poisson\n",
    "from mgwr.gwr import MGWR\n",
    "from mgwr.sel_bw import Sel_BW\n",
    "import multiprocessing as mp\n",
    "pool = mp.Pool()\n",
    "from scipy import linalg\n",
    "import numpy.linalg as la\n",
    "from scipy import sparse as sp\n",
    "from scipy.sparse import linalg as spla\n",
    "from spreg.utils import spdot, spmultiply\n",
    "from scipy import special\n",
    "import libpysal as ps\n",
    "import seaborn as sns\n",
    "import matplotlib.pyplot as plt\n",
    "from copy import deepcopy\n",
    "import copy\n",
    "from collections import namedtuple\n",
    "import spglm"
   ]
  },
  {
   "cell_type": "markdown",
   "metadata": {},
   "source": [
    "#### Clearwater data - downloaded from link: https://sgsup.asu.edu/sparc/multiscale-gwr"
   ]
  },
  {
   "cell_type": "code",
   "execution_count": 3,
   "metadata": {
    "scrolled": true
   },
   "outputs": [],
   "source": [
    "data_p = pd.read_csv(\"C:/Users/msachde1/Downloads/logistic_mgwr_data/landslides.csv\") "
   ]
  },
  {
   "cell_type": "code",
   "execution_count": 4,
   "metadata": {},
   "outputs": [
    {
     "data": {
      "text/html": [
       "<div>\n",
       "<style scoped>\n",
       "    .dataframe tbody tr th:only-of-type {\n",
       "        vertical-align: middle;\n",
       "    }\n",
       "\n",
       "    .dataframe tbody tr th {\n",
       "        vertical-align: top;\n",
       "    }\n",
       "\n",
       "    .dataframe thead th {\n",
       "        text-align: right;\n",
       "    }\n",
       "</style>\n",
       "<table border=\"1\" class=\"dataframe\">\n",
       "  <thead>\n",
       "    <tr style=\"text-align: right;\">\n",
       "      <th></th>\n",
       "      <th>UserID</th>\n",
       "      <th>X</th>\n",
       "      <th>Y</th>\n",
       "      <th>Elev</th>\n",
       "      <th>Slope</th>\n",
       "      <th>SinAspct</th>\n",
       "      <th>CosAspct</th>\n",
       "      <th>AbsSouth</th>\n",
       "      <th>Landslid</th>\n",
       "      <th>DistStrm</th>\n",
       "    </tr>\n",
       "  </thead>\n",
       "  <tbody>\n",
       "    <tr>\n",
       "      <th>0</th>\n",
       "      <td>1</td>\n",
       "      <td>616168.5625</td>\n",
       "      <td>5201076.5</td>\n",
       "      <td>1450.475</td>\n",
       "      <td>27.44172</td>\n",
       "      <td>0.409126</td>\n",
       "      <td>-0.912478</td>\n",
       "      <td>24.1499</td>\n",
       "      <td>1</td>\n",
       "      <td>8.506</td>\n",
       "    </tr>\n",
       "    <tr>\n",
       "      <th>1</th>\n",
       "      <td>2</td>\n",
       "      <td>624923.8125</td>\n",
       "      <td>5201008.5</td>\n",
       "      <td>1567.476</td>\n",
       "      <td>21.88343</td>\n",
       "      <td>-0.919245</td>\n",
       "      <td>-0.393685</td>\n",
       "      <td>66.8160</td>\n",
       "      <td>1</td>\n",
       "      <td>15.561</td>\n",
       "    </tr>\n",
       "    <tr>\n",
       "      <th>2</th>\n",
       "      <td>3</td>\n",
       "      <td>615672.0000</td>\n",
       "      <td>5199187.5</td>\n",
       "      <td>1515.065</td>\n",
       "      <td>38.81030</td>\n",
       "      <td>-0.535024</td>\n",
       "      <td>-0.844837</td>\n",
       "      <td>32.3455</td>\n",
       "      <td>1</td>\n",
       "      <td>41.238</td>\n",
       "    </tr>\n",
       "    <tr>\n",
       "      <th>3</th>\n",
       "      <td>4</td>\n",
       "      <td>615209.3125</td>\n",
       "      <td>5199112.0</td>\n",
       "      <td>1459.827</td>\n",
       "      <td>26.71631</td>\n",
       "      <td>-0.828548</td>\n",
       "      <td>-0.559918</td>\n",
       "      <td>55.9499</td>\n",
       "      <td>1</td>\n",
       "      <td>17.539</td>\n",
       "    </tr>\n",
       "    <tr>\n",
       "      <th>4</th>\n",
       "      <td>5</td>\n",
       "      <td>616354.6875</td>\n",
       "      <td>5198945.5</td>\n",
       "      <td>1379.442</td>\n",
       "      <td>27.55271</td>\n",
       "      <td>-0.872281</td>\n",
       "      <td>-0.489005</td>\n",
       "      <td>60.7248</td>\n",
       "      <td>1</td>\n",
       "      <td>35.023</td>\n",
       "    </tr>\n",
       "  </tbody>\n",
       "</table>\n",
       "</div>"
      ],
      "text/plain": [
       "   UserID            X          Y      Elev     Slope  SinAspct  CosAspct  \\\n",
       "0       1  616168.5625  5201076.5  1450.475  27.44172  0.409126 -0.912478   \n",
       "1       2  624923.8125  5201008.5  1567.476  21.88343 -0.919245 -0.393685   \n",
       "2       3  615672.0000  5199187.5  1515.065  38.81030 -0.535024 -0.844837   \n",
       "3       4  615209.3125  5199112.0  1459.827  26.71631 -0.828548 -0.559918   \n",
       "4       5  616354.6875  5198945.5  1379.442  27.55271 -0.872281 -0.489005   \n",
       "\n",
       "   AbsSouth  Landslid  DistStrm  \n",
       "0   24.1499         1     8.506  \n",
       "1   66.8160         1    15.561  \n",
       "2   32.3455         1    41.238  \n",
       "3   55.9499         1    17.539  \n",
       "4   60.7248         1    35.023  "
      ]
     },
     "execution_count": 4,
     "metadata": {},
     "output_type": "execute_result"
    }
   ],
   "source": [
    "data_p.head()"
   ]
  },
  {
   "cell_type": "markdown",
   "metadata": {},
   "source": [
    "### GWR Binomial model with independent variable, x = slope"
   ]
  },
  {
   "cell_type": "code",
   "execution_count": 5,
   "metadata": {},
   "outputs": [],
   "source": [
    "coords = list(zip(data_p['X'],data_p['Y']))\n",
    "y = np.array(data_p['Landslid']).reshape((-1,1)) \n",
    "elev = np.array(data_p['Elev']).reshape((-1,1))\n",
    "slope = np.array(data_p['Slope']).reshape((-1,1))\n",
    "SinAspct = np.array(data_p['SinAspct']).reshape(-1,1)\n",
    "CosAspct = np.array(data_p['CosAspct']).reshape(-1,1)\n",
    "X = np.hstack([elev,slope,SinAspct,CosAspct])\n",
    "x = SinAspct\n",
    "\n",
    "X_std = (X-X.mean(axis=0))/X.std(axis=0)\n",
    "x_std = (x-x.mean(axis=0))/x.std(axis=0)\n",
    "y_std = (y-y.mean(axis=0))/y.std(axis=0)"
   ]
  },
  {
   "cell_type": "code",
   "execution_count": 16,
   "metadata": {},
   "outputs": [],
   "source": [
    "bw=Sel_BW(coords,y,x_std,family=Binomial(),constant=False).search()"
   ]
  },
  {
   "cell_type": "code",
   "execution_count": 17,
   "metadata": {},
   "outputs": [
    {
     "data": {
      "text/plain": [
       "100.0"
      ]
     },
     "execution_count": 17,
     "metadata": {},
     "output_type": "execute_result"
    }
   ],
   "source": [
    "bw"
   ]
  },
  {
   "cell_type": "code",
   "execution_count": 21,
   "metadata": {},
   "outputs": [],
   "source": [
    "gwr_mod=GWR(coords,y,x_std,bw=bw,family=Binomial(),constant=False).fit()"
   ]
  },
  {
   "cell_type": "code",
   "execution_count": 22,
   "metadata": {},
   "outputs": [
    {
     "data": {
      "text/plain": [
       "330.2296364641693"
      ]
     },
     "execution_count": 22,
     "metadata": {},
     "output_type": "execute_result"
    }
   ],
   "source": [
    "gwr_mod.aic"
   ]
  },
  {
   "cell_type": "markdown",
   "metadata": {},
   "source": [
    "##### Running the function with family = Binomial()"
   ]
  },
  {
   "cell_type": "code",
   "execution_count": 23,
   "metadata": {},
   "outputs": [],
   "source": [
    "selector = Sel_BW(coords,y,x_std,family=Binomial(),multi=True,constant=False)"
   ]
  },
  {
   "cell_type": "code",
   "execution_count": 24,
   "metadata": {},
   "outputs": [
    {
     "name": "stdout",
     "output_type": "stream",
     "text": [
      "Current iteration: 1 ,SOC: 0.1493438\n",
      "Bandwidths: 82.0\n",
      "Current iteration: 2 ,SOC: 0.0\n",
      "Bandwidths: 82.0\n"
     ]
    },
    {
     "data": {
      "text/plain": [
       "array([82.])"
      ]
     },
     "execution_count": 24,
     "metadata": {},
     "output_type": "execute_result"
    }
   ],
   "source": [
    "selector.search(verbose=True)"
   ]
  },
  {
   "cell_type": "code",
   "execution_count": 25,
   "metadata": {},
   "outputs": [
    {
     "data": {
      "application/vnd.jupyter.widget-view+json": {
       "model_id": "740e87009c294ad2bf782fcb960e4b29",
       "version_major": 2,
       "version_minor": 0
      },
      "text/plain": [
       "HBox(children=(IntProgress(value=0, description='Inference', max=1), HTML(value='')))"
      ]
     },
     "metadata": {},
     "output_type": "display_data"
    },
    {
     "name": "stdout",
     "output_type": "stream",
     "text": [
      "\n"
     ]
    }
   ],
   "source": [
    "mgwr_mod = MGWR(coords, y,x_std,selector,family=Binomial(),constant=False).fit()"
   ]
  },
  {
   "cell_type": "code",
   "execution_count": 26,
   "metadata": {},
   "outputs": [
    {
     "data": {
      "text/plain": [
       "337.76149729129276"
      ]
     },
     "execution_count": 26,
     "metadata": {},
     "output_type": "execute_result"
    }
   ],
   "source": [
    "mgwr_mod.aic"
   ]
  },
  {
   "cell_type": "code",
   "execution_count": 28,
   "metadata": {},
   "outputs": [
    {
     "data": {
      "text/plain": [
       "array([[-1.88213249e-02],\n",
       "       [ 2.96745385e-02],\n",
       "       [ 2.19540320e-02],\n",
       "       [ 3.53172641e-02],\n",
       "       [ 3.34979652e-02],\n",
       "       [-2.30589775e-02],\n",
       "       [-4.13226775e-02],\n",
       "       [-2.72275526e-02],\n",
       "       [-2.32937485e-02],\n",
       "       [-3.19027042e-02],\n",
       "       [-4.10487815e-02],\n",
       "       [-1.67073170e-02],\n",
       "       [-3.33779404e-02],\n",
       "       [ 2.31517027e-02],\n",
       "       [ 2.69000788e-02],\n",
       "       [ 4.78106415e-02],\n",
       "       [-1.08443839e-02],\n",
       "       [-1.91627481e-02],\n",
       "       [ 1.13068279e-02],\n",
       "       [ 5.33160983e-02],\n",
       "       [-1.97387817e-03],\n",
       "       [-4.25318200e-03],\n",
       "       [-2.98913370e-02],\n",
       "       [ 2.61567304e-02],\n",
       "       [ 1.67728765e-02],\n",
       "       [ 1.03608457e-02],\n",
       "       [-1.56804715e-02],\n",
       "       [ 1.09515972e-02],\n",
       "       [ 1.44240532e-02],\n",
       "       [-5.06887179e-03],\n",
       "       [-1.41329638e-02],\n",
       "       [ 2.61622645e-02],\n",
       "       [-4.85361576e-02],\n",
       "       [ 3.19017261e-02],\n",
       "       [ 2.50631467e-02],\n",
       "       [-9.35863419e-05],\n",
       "       [ 3.10685026e-03],\n",
       "       [ 4.08331844e-03],\n",
       "       [ 1.03428122e-04],\n",
       "       [-1.97666998e-02],\n",
       "       [-5.03862094e-02],\n",
       "       [ 3.21248267e-03],\n",
       "       [ 1.69800789e-02],\n",
       "       [ 4.62427544e-03],\n",
       "       [ 1.15509084e-02],\n",
       "       [ 2.00719073e-03],\n",
       "       [-1.35798297e-02],\n",
       "       [-9.74129466e-03],\n",
       "       [-7.01076777e-02],\n",
       "       [-1.58323151e-02],\n",
       "       [ 6.97299993e-03],\n",
       "       [-7.40312176e-02],\n",
       "       [-6.13983966e-02],\n",
       "       [-7.93938432e-02],\n",
       "       [-5.55118697e-02],\n",
       "       [-6.23820543e-03],\n",
       "       [-1.59141432e-03],\n",
       "       [-1.48860289e-02],\n",
       "       [-3.47933341e-02],\n",
       "       [-1.33720650e-02],\n",
       "       [-4.74330367e-03],\n",
       "       [ 3.25253285e-04],\n",
       "       [-3.89346057e-03],\n",
       "       [-6.42819480e-04],\n",
       "       [-1.15547720e-03],\n",
       "       [-1.27657296e-04],\n",
       "       [ 3.20782930e-05],\n",
       "       [-9.26550137e-04],\n",
       "       [-6.07316600e-02],\n",
       "       [-1.80996887e-02],\n",
       "       [-4.35322932e-03],\n",
       "       [-1.02923876e-02],\n",
       "       [-7.70819409e-04],\n",
       "       [ 2.96157927e-02],\n",
       "       [ 1.85331094e-02],\n",
       "       [ 1.88505859e-02],\n",
       "       [ 1.77503359e-02],\n",
       "       [-3.95959153e-02],\n",
       "       [-2.54622806e-02],\n",
       "       [-2.91847858e-02],\n",
       "       [-5.57146867e-02],\n",
       "       [ 2.96682511e-04],\n",
       "       [-2.50671817e-02],\n",
       "       [-2.04196992e-03],\n",
       "       [ 2.49900505e-03],\n",
       "       [-1.27490534e-03],\n",
       "       [-2.32681024e-02],\n",
       "       [-1.53083361e-02],\n",
       "       [ 1.17030363e-02],\n",
       "       [ 2.45006183e-02],\n",
       "       [ 1.57102867e-02],\n",
       "       [-7.87005939e-03],\n",
       "       [-3.53393348e-02],\n",
       "       [ 4.30864963e-02],\n",
       "       [ 1.02825215e-02],\n",
       "       [ 4.55678415e-02],\n",
       "       [ 5.15341793e-03],\n",
       "       [-8.41777505e-02],\n",
       "       [-4.24990565e-02],\n",
       "       [ 5.06751268e-02],\n",
       "       [-5.74495277e-02],\n",
       "       [ 4.80043792e-02],\n",
       "       [-1.01641419e-03],\n",
       "       [ 5.84331608e-03],\n",
       "       [-3.36962019e-02],\n",
       "       [-3.60861141e-02],\n",
       "       [-1.09179703e-02],\n",
       "       [ 2.09993636e-03],\n",
       "       [-1.16268872e-02],\n",
       "       [-6.95416323e-02],\n",
       "       [-7.54589364e-02],\n",
       "       [ 2.50907446e-02],\n",
       "       [-7.26687986e-02],\n",
       "       [-7.72804498e-02],\n",
       "       [-7.34852251e-02],\n",
       "       [-7.36788660e-02],\n",
       "       [ 1.39487140e-02],\n",
       "       [-5.42159924e-02],\n",
       "       [ 6.73359425e-02],\n",
       "       [-4.57348366e-02],\n",
       "       [-5.02163311e-02],\n",
       "       [-4.69881828e-02],\n",
       "       [-1.50425066e-02],\n",
       "       [ 6.41279197e-04],\n",
       "       [-4.01345117e-03],\n",
       "       [-1.25690501e-02],\n",
       "       [-1.01219929e-01],\n",
       "       [-2.74197884e-02],\n",
       "       [ 7.69768999e-03],\n",
       "       [ 1.05322590e-02],\n",
       "       [ 1.93121846e-02],\n",
       "       [-4.34375580e-02],\n",
       "       [-3.59488913e-02],\n",
       "       [-5.33944812e-02],\n",
       "       [-5.75106322e-02],\n",
       "       [-5.75357338e-02],\n",
       "       [-6.96704221e-02],\n",
       "       [-1.08097735e-02],\n",
       "       [ 4.82480146e-02],\n",
       "       [ 1.43444246e-02],\n",
       "       [-1.96824710e-02],\n",
       "       [-5.32377010e-04],\n",
       "       [ 5.76252374e-02],\n",
       "       [ 3.91178871e-02],\n",
       "       [-4.22345184e-02],\n",
       "       [-5.29397307e-02],\n",
       "       [-3.67614032e-02],\n",
       "       [-1.81133965e-02],\n",
       "       [ 4.51775079e-02],\n",
       "       [ 5.20498197e-02],\n",
       "       [-4.77197267e-02],\n",
       "       [ 6.05589814e-03],\n",
       "       [-2.86591918e-02],\n",
       "       [-4.28069141e-03],\n",
       "       [ 2.98696402e-03],\n",
       "       [-9.83293422e-03],\n",
       "       [-3.53159037e-02],\n",
       "       [ 5.33837460e-04],\n",
       "       [ 3.17558054e-02],\n",
       "       [-8.64124877e-02],\n",
       "       [ 2.07360050e-02],\n",
       "       [ 1.53430664e-02],\n",
       "       [ 5.19606797e-02],\n",
       "       [-6.64580729e-02],\n",
       "       [-3.40339384e-02],\n",
       "       [ 9.67486345e-03],\n",
       "       [ 9.44784729e-02],\n",
       "       [ 3.62867598e-02],\n",
       "       [ 2.96159107e-02],\n",
       "       [ 7.04334088e-03],\n",
       "       [ 2.95002741e-02],\n",
       "       [ 7.85989240e-02],\n",
       "       [ 7.86944240e-02],\n",
       "       [ 5.81981510e-03],\n",
       "       [ 1.24188728e-02],\n",
       "       [-3.98524889e-02],\n",
       "       [ 1.06024852e-03],\n",
       "       [-7.07016976e-02],\n",
       "       [-4.82541200e-02],\n",
       "       [ 8.00537169e-02],\n",
       "       [ 6.02988613e-02],\n",
       "       [-6.33534350e-03],\n",
       "       [ 4.12771730e-02],\n",
       "       [ 8.39215611e-06],\n",
       "       [ 3.36794651e-02],\n",
       "       [ 1.60049206e-03],\n",
       "       [ 3.27121150e-02],\n",
       "       [ 4.64365054e-02],\n",
       "       [-1.59229081e-02],\n",
       "       [ 1.75524235e-02],\n",
       "       [ 2.12305129e-03],\n",
       "       [-2.08721278e-02],\n",
       "       [-2.77559175e-02],\n",
       "       [ 5.40467080e-02],\n",
       "       [ 4.11673326e-02],\n",
       "       [ 5.68392465e-02],\n",
       "       [-9.32780839e-03],\n",
       "       [-7.26894067e-02],\n",
       "       [ 1.26048375e-03],\n",
       "       [ 4.41697001e-02],\n",
       "       [ 2.82576108e-06],\n",
       "       [-5.35211459e-02],\n",
       "       [-3.19746878e-02],\n",
       "       [ 1.76423128e-02],\n",
       "       [ 9.04758276e-02],\n",
       "       [-6.95339766e-02],\n",
       "       [-2.28525025e-02],\n",
       "       [ 2.09063538e-02],\n",
       "       [-3.96106634e-02],\n",
       "       [-3.02574376e-02],\n",
       "       [-7.20988703e-02],\n",
       "       [ 2.26855997e-02],\n",
       "       [ 9.69746541e-03],\n",
       "       [-2.57043535e-02],\n",
       "       [-2.25518818e-02],\n",
       "       [-6.07496357e-02],\n",
       "       [ 5.78062194e-02],\n",
       "       [ 1.95710092e-02],\n",
       "       [ 1.01462545e-01],\n",
       "       [ 4.55354408e-02],\n",
       "       [-2.59278575e-02],\n",
       "       [ 1.94651816e-02],\n",
       "       [ 8.27568579e-02],\n",
       "       [-1.50266501e-02],\n",
       "       [-2.89170854e-02],\n",
       "       [-1.69106576e-02],\n",
       "       [ 1.75265693e-02],\n",
       "       [-6.10047519e-02],\n",
       "       [ 3.13401279e-02],\n",
       "       [-2.72154391e-02],\n",
       "       [-6.34385971e-03],\n",
       "       [ 9.61093315e-03],\n",
       "       [-1.70565595e-02],\n",
       "       [-6.98090840e-04],\n",
       "       [ 4.00061161e-02],\n",
       "       [-1.62438736e-02],\n",
       "       [ 2.28715435e-02],\n",
       "       [-1.30737972e-02],\n",
       "       [ 1.35726126e-02]])"
      ]
     },
     "execution_count": 28,
     "metadata": {},
     "output_type": "execute_result"
    }
   ],
   "source": [
    "mgwr_mod.predy-gwr_mod.predy"
   ]
  }
 ],
 "metadata": {
  "kernelspec": {
   "display_name": "Python 3",
   "language": "python",
   "name": "python3"
  },
  "language_info": {
   "codemirror_mode": {
    "name": "ipython",
    "version": 3
   },
   "file_extension": ".py",
   "mimetype": "text/x-python",
   "name": "python",
   "nbconvert_exporter": "python",
   "pygments_lexer": "ipython3",
   "version": "3.6.6"
  }
 },
 "nbformat": 4,
 "nbformat_minor": 2
}
